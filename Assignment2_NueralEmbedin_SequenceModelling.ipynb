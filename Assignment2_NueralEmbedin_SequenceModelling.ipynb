{
 "cells": [
  {
   "cell_type": "markdown",
   "metadata": {},
   "source": [
    "# <span style=\"color:#0b486b\">  FIT3181: Deep Learning (2022)</span>\n",
    "***\n",
    "*CE/Lecturer:* Dr **Trung Le** | trunglm@monash.edu <br/>\n",
    "*Head Tutor:* Mr **Thanh Nguyen** | thanh.nguyen4@monash.edu <br/>\n",
    "<br/>\n",
    "Department of Data Science and AI, Faculty of Information Technology, Monash University, Australia\n",
    "***"
   ]
  },
  {
   "cell_type": "markdown",
   "metadata": {},
   "source": [
    "# <span style=\"color:#0b486b\">  Student Information</span>\n",
    "Surname: **NG**  <br/>\n",
    "Firstname: **JUN SIANG**    <br/>\n",
    "Student ID: **31939767**    <br/>\n",
    "Email: **jngg0082@student.monash.edu**    <br/>\n",
    "Your tutorial time: **Friday 4p.m. to 6p.m.**    <br/>\n",
    "***"
   ]
  },
  {
   "cell_type": "markdown",
   "metadata": {},
   "source": [
    "## <span style=\"color:#0b486b\">Assignment 02: Neural Embedding and Sequence Modelling</span>\n",
    "### Due: <span style=\"color:red\">11:59pm 23 October 2022</span>  (Sunday)\n",
    "\n",
    "#### <span style=\"color:red\">Important note:</span> This is an **individual** assignment. It contributes **20%** to you final mark. Read the assignment instruction carefully."
   ]
  },
  {
   "cell_type": "markdown",
   "metadata": {},
   "source": [
    "## <span style=\"color:#0b486b\">Instructions</span>\n",
    "\n",
    "This notebook has been prepared for your to complete Assignment 2. The theme of this assignment is about practical machine learning knowledge and skills in deep neural networks, word embedding and text analytics. Some sections have been partially completed to help you get\n",
    "started. **The total marks for this notebook is 100**."
   ]
  },
  {
   "cell_type": "markdown",
   "metadata": {},
   "source": [
    "* Before you start, read the entire notebook carefully once to understand what you need to do. <br><br>\n",
    "* For each cell marked with **#YOU ARE REQUIRED TO INSERT YOUR CODES IN THIS CELL**, there will be places where you **must** supply your own codes when instructed. <br>\n",
    "\n",
    "This assignment contains **five** parts:\n",
    "\n",
    "* Part 1: Questions on downloading and preprocessing data **[5 points]**\n",
    "* Part 2: Questions on using Word2Vect to transform texts to vectors **[20 points]**\n",
    "* Part 3: Coding assessment on Text CNN for sequence modeling and neural embedding **[10 points]**\n",
    "* Part 4: Coding assessment on BERT for a feature extraction **[10 points]**\n",
    "* Part 5: Coding assessment on RNNs for sequence modeling and neural embedding **[55 points]**\n",
    "\n",
    "\n",
    "**Hint**: This assignment was essentially designed based on the lectures and tutorials sessions covered from Weeks 7 to 10. You are strongly recommended to go through these contents thoroughly which might help you to complete this assignment."
   ]
  },
  {
   "cell_type": "markdown",
   "metadata": {},
   "source": [
    "## <span style=\"color:#0b486b\">What to submit</span>\n",
    "\n",
    "This assignment is to be completed individually and submitted to Moodle unit site. **By the due date, you are required to submit one  <span style=\"color:red; font-weight:bold\">single zip file, named xxx_assignment02_solution.zip</span> where `xxx` is your student ID, to the corresponding Assignment (Dropbox) in Moodle**. "
   ]
  },
  {
   "cell_type": "markdown",
   "metadata": {},
   "source": [
    "***For example, if your student ID is <span style=\"color:red; font-weight:bold\">12356</span>, then gather all of your assignment solution to folder, create a zip file named <span style=\"color:red; font-weight:bold\">123456_assignment02_solution.zip</span> and submit this file.***"
   ]
  },
  {
   "cell_type": "markdown",
   "metadata": {},
   "source": [
    "Within this zip folder, you **must** submit the following files:\n",
    "1.\t**Assignment02_solution.ipynb**:  this is your Python notebook solution source file.\n",
    "1.\t**Assignment02_output.html**: this is the output of your Python notebook solution *exported* in html format.\n",
    "1.\tAny **extra files or folder** needed to complete your assignment (e.g., images used in your answers)."
   ]
  },
  {
   "cell_type": "markdown",
   "metadata": {},
   "source": [
    "## <span style=\"color:#0b486b\">Set random seeds</span>"
   ]
  },
  {
   "cell_type": "markdown",
   "metadata": {},
   "source": [
    "We start with importing tensorflow and numpy and setting random seeds for TF and numpy. You can use any seeds you prefer."
   ]
  },
  {
   "cell_type": "code",
   "execution_count": 83,
   "metadata": {},
   "outputs": [],
   "source": [
    "import numpy as np\n",
    "import tensorflow as tf\n",
    "\n",
    "tf.random.set_seed(6789)\n",
    "np.random.seed(6789)"
   ]
  },
  {
   "cell_type": "markdown",
   "metadata": {},
   "source": [
    "## <span style=\"color:#0b486b\">Part 1: Download and preprocess the data</span>\n",
    "\n",
    "<div style=\"text-align: right\"><span style=\"color:red; font-weight:bold\">[Total marks for this part: 5 points]<span></div>"
   ]
  },
  {
   "cell_type": "markdown",
   "metadata": {},
   "source": [
    "The dataset we use for this assignment is a question classification dataset for which the train set consists of $5,500$ questions belonging to 6 coarse question categories including:\n",
    "- abbreviation (ABBR), \n",
    "- entity (ENTY), \n",
    "- description (DESC), \n",
    "- human (HUM), \n",
    "- location (LOC) and \n",
    "- numeric (NUM).\n"
   ]
  },
  {
   "cell_type": "markdown",
   "metadata": {},
   "source": [
    "Preprocessing data is an inital and important step in any machine learning or deep learning projects. The following *DataManager* class helps you to download data and preprocess data for the later questions of this assignment. "
   ]
  },
  {
   "cell_type": "code",
   "execution_count": 84,
   "metadata": {},
   "outputs": [],
   "source": [
    "import os\n",
    "import zipfile\n",
    "import collections\n",
    "from six.moves import range\n",
    "from six.moves.urllib.request import urlretrieve\n",
    "from sklearn import preprocessing\n",
    "from sklearn.model_selection import train_test_split\n",
    "import matplotlib.pyplot as plt\n",
    "plt.style.use('ggplot')\n",
    "\n",
    "class DataManager:\n",
    "    def __init__(self, verbose=True, maxlen= 50, random_state=6789):\n",
    "        self.verbose = verbose\n",
    "        self.max_sentence_len = 0\n",
    "        self.str_questions = list()\n",
    "        self.str_labels = list()\n",
    "        self.numeral_labels = list()\n",
    "        self.maxlen = maxlen\n",
    "        self.numeral_data = list()\n",
    "        self.random_state = random_state\n",
    "        self.random = np.random.RandomState(random_state)\n",
    "        \n",
    "    @staticmethod\n",
    "    def maybe_download(dir_name, file_name, url, verbose= True):\n",
    "        if not os.path.exists(dir_name):\n",
    "            os.mkdir(dir_name)\n",
    "        if not os.path.exists(os.path.join(dir_name, file_name)):\n",
    "            urlretrieve(url + file_name, os.path.join(dir_name, file_name))\n",
    "        if verbose:\n",
    "            print(\"Downloaded successfully {}\".format(file_name))\n",
    "    \n",
    "    def read_data(self, dir_name, file_names):\n",
    "        self.str_questions= list(); self.str_labels= list()\n",
    "        for file_name in file_names:\n",
    "            file_path= os.path.join(dir_name, file_name)\n",
    "            with open(file_path, \"r\", encoding=\"latin-1\") as f:\n",
    "                for row in f:\n",
    "                    row_str= row.split(\":\")\n",
    "                    label, question= row_str[0], row_str[1]\n",
    "                    question= question.lower()\n",
    "                    self.str_labels.append(label)\n",
    "                    self.str_questions.append(question[0:-1])\n",
    "                    if self.max_sentence_len < len(self.str_questions[-1]):\n",
    "                        self.max_sentence_len= len(self.str_questions[-1])\n",
    "         \n",
    "        # turns labels into numbers\n",
    "        le= preprocessing.LabelEncoder()\n",
    "        le.fit(self.str_labels)\n",
    "        self.numeral_labels = np.array(le.transform(self.str_labels))\n",
    "        self.str_classes= le.classes_\n",
    "        self.num_classes= len(self.str_classes)\n",
    "        if self.verbose:\n",
    "            print(\"\\nSample questions... \\n\")\n",
    "            print(self.str_questions[0:5])\n",
    "            print(\"Labels {}\\n\\n\".format(self.str_classes))\n",
    "    \n",
    "    def manipulate_data(self):\n",
    "        tokenizer = tf.keras.preprocessing.text.Tokenizer()\n",
    "        tokenizer.fit_on_texts(self.str_questions)\n",
    "        self.numeral_data = tokenizer.texts_to_sequences(self.str_questions)\n",
    "        self.numeral_data = tf.keras.preprocessing.sequence.pad_sequences(self.numeral_data, padding='post', truncating= 'post', maxlen= self.maxlen)\n",
    "        self.word2idx = tokenizer.word_index\n",
    "        self.word2idx = {k:v for k,v in self.word2idx.items()}\n",
    "        self.idx2word = {v:k for k,v in self.word2idx.items()}\n",
    "        self.vocab_size = len(self.word2idx)\n",
    "    \n",
    "    def train_valid_split(self, train_ratio=0.9):\n",
    "        idxs = np.random.permutation(np.arange(len(self.str_questions)))\n",
    "        train_size = int(train_ratio*len(idxs)) +1\n",
    "        self.train_str_questions, self.valid_str_questions = self.str_questions[0:train_size], self.str_questions[train_size:]\n",
    "        self.train_numeral_data, self.valid_numeral_data = self.numeral_data[0:train_size], self.numeral_data[train_size:]\n",
    "        self.train_numeral_labels, self.valid_numeral_labels = self.numeral_labels[0:train_size], self.numeral_labels[train_size:]\n",
    "        self.tf_train_set = tf.data.Dataset.from_tensor_slices((self.train_numeral_data, self.train_numeral_labels))\n",
    "        self.tf_valid_set = tf.data.Dataset.from_tensor_slices((self.valid_numeral_data, self.valid_numeral_labels))"
   ]
  },
  {
   "cell_type": "code",
   "execution_count": 85,
   "metadata": {},
   "outputs": [
    {
     "name": "stdout",
     "output_type": "stream",
     "text": [
      "Loading data...\n",
      "Downloaded successfully train_1000.label\n",
      "Downloaded successfully TREC_10.label\n",
      "\n",
      "Sample questions... \n",
      "\n",
      "['manner how did serfdom develop in and then leave russia ?', 'cremat what films featured the character popeye doyle ?', \"manner how can i find a list of celebrities ' real names ?\", 'animal what fowl grabs the spotlight after the chinese year of the monkey ?', 'exp what is the full form of .com ?']\n",
      "Labels ['ABBR' 'DESC' 'ENTY' 'HUM' 'LOC' 'NUM']\n",
      "\n",
      "\n"
     ]
    }
   ],
   "source": [
    "print('Loading data...')\n",
    "DataManager.maybe_download(\"Data\", \"train_1000.label\", \"http://cogcomp.org/Data/QA/QC/\")\n",
    "DataManager.maybe_download(\"Data\", \"TREC_10.label\", \"http://cogcomp.org/Data/QA/QC/\")\n",
    "\n",
    "dm = DataManager(maxlen=100)\n",
    "dm.read_data(\"Data/\", [\"train_1000.label\", \"TREC_10.label\"])   # read data\n",
    "# If you want to play around with a bigger dataset, you can try train_set.label"
   ]
  },
  {
   "cell_type": "code",
   "execution_count": 86,
   "metadata": {},
   "outputs": [],
   "source": [
    "dm.manipulate_data()\n",
    "dm.train_valid_split(train_ratio=0.8)"
   ]
  },
  {
   "cell_type": "markdown",
   "metadata": {},
   "source": [
    "You now have a data manager, named *dm* containing the training and validiation sets in both text and numeric forms. Your task is to play around and read this code to figure out the meanings of some important attributes that will be used in the next parts."
   ]
  },
  {
   "cell_type": "markdown",
   "metadata": {},
   "source": [
    "#### <span style=\"color:red\">**Question 1.1**</span> \n",
    "**What is the purpose of `self.train_str_questions` and `self.train_numeral_labels`? Write your code to print out the first five questions with labels in the training set.**\n",
    "\n",
    "<div style=\"text-align: right\"><span style=\"color:red\">[1 point]</span></div> "
   ]
  },
  {
   "cell_type": "markdown",
   "metadata": {},
   "source": [
    "\n",
    "\n",
    "self.train_str_questions is used to store the questions in string format which the program read from the file path specified in the training dataset which will then be used to transform into numerical representation / sequence\n",
    "\n",
    "\n",
    "self.train_numeral_labels is used to store the numerical lables transform from the string lables read from the file path for specific questions in the training dataset\n"
   ]
  },
  {
   "cell_type": "code",
   "execution_count": 7,
   "metadata": {},
   "outputs": [
    {
     "name": "stdout",
     "output_type": "stream",
     "text": [
      "Questions : manner how did serfdom develop in and then leave russia ? , Labels : 1\n",
      "Questions : cremat what films featured the character popeye doyle ? , Labels : 2\n",
      "Questions : manner how can i find a list of celebrities ' real names ? , Labels : 1\n",
      "Questions : animal what fowl grabs the spotlight after the chinese year of the monkey ? , Labels : 2\n",
      "Questions : exp what is the full form of .com ? , Labels : 0\n"
     ]
    }
   ],
   "source": [
    "#Your code here\n",
    "for i in range(5) :\n",
    "    print(\"Questions : \" + dm.train_str_questions[i] , \", Labels : \" + str(dm.train_numeral_labels[i]))"
   ]
  },
  {
   "cell_type": "markdown",
   "metadata": {},
   "source": [
    "#### <span style=\"color:red\">**Question 1.2**</span> \n",
    "**What is the purpose of `self.train_numeral_data`? Write your code to print out the first five questions in the numeric format with labels in the training set.**\n",
    "\n",
    "<div style=\"text-align: right\"><span style=\"color:red\">[1 point]</span></div> "
   ]
  },
  {
   "cell_type": "markdown",
   "metadata": {},
   "source": [
    "self.train_numeral_data is used to store the questions transformed from string format to numeral representation by going through the manipulate_data() function and splited into the trainig dataset. The stored numerical sequence of the questions will then be used to further transform into tensor dataset\n",
    "\n",
    "\n"
   ]
  },
  {
   "cell_type": "code",
   "execution_count": 6,
   "metadata": {},
   "outputs": [
    {
     "name": "stdout",
     "output_type": "stream",
     "text": [
      "Questions : [  35   11   18 1030 1031    5   25  561 1032  562    0    0    0    0\n",
      "    0    0    0    0    0    0    0    0    0    0    0    0    0    0\n",
      "    0    0    0    0    0    0    0    0    0    0    0    0    0    0\n",
      "    0    0    0    0    0    0    0    0    0    0    0    0    0    0\n",
      "    0    0    0    0    0    0    0    0    0    0    0    0    0    0\n",
      "    0    0    0    0    0    0    0    0    0    0    0    0    0    0\n",
      "    0    0    0    0    0    0    0    0    0    0    0    0    0    0\n",
      "    0    0] , Labels : 1\n",
      "Questions : [  43    2  563 1033    1  164 1034 1035    0    0    0    0    0    0\n",
      "    0    0    0    0    0    0    0    0    0    0    0    0    0    0\n",
      "    0    0    0    0    0    0    0    0    0    0    0    0    0    0\n",
      "    0    0    0    0    0    0    0    0    0    0    0    0    0    0\n",
      "    0    0    0    0    0    0    0    0    0    0    0    0    0    0\n",
      "    0    0    0    0    0    0    0    0    0    0    0    0    0    0\n",
      "    0    0    0    0    0    0    0    0    0    0    0    0    0    0\n",
      "    0    0] , Labels : 2\n",
      "Questions : [  35   11   45   40   60    7  389    4 1036   88  295  165    0    0\n",
      "    0    0    0    0    0    0    0    0    0    0    0    0    0    0\n",
      "    0    0    0    0    0    0    0    0    0    0    0    0    0    0\n",
      "    0    0    0    0    0    0    0    0    0    0    0    0    0    0\n",
      "    0    0    0    0    0    0    0    0    0    0    0    0    0    0\n",
      "    0    0    0    0    0    0    0    0    0    0    0    0    0    0\n",
      "    0    0    0    0    0    0    0    0    0    0    0    0    0    0\n",
      "    0    0] , Labels : 1\n",
      "Questions : [  34    2 1037 1038    1 1039  232    1  564   50    4    1 1040    0\n",
      "    0    0    0    0    0    0    0    0    0    0    0    0    0    0\n",
      "    0    0    0    0    0    0    0    0    0    0    0    0    0    0\n",
      "    0    0    0    0    0    0    0    0    0    0    0    0    0    0\n",
      "    0    0    0    0    0    0    0    0    0    0    0    0    0    0\n",
      "    0    0    0    0    0    0    0    0    0    0    0    0    0    0\n",
      "    0    0    0    0    0    0    0    0    0    0    0    0    0    0\n",
      "    0    0] , Labels : 2\n",
      "Questions : [ 61   2   3   1 390 233   4 199   0   0   0   0   0   0   0   0   0   0\n",
      "   0   0   0   0   0   0   0   0   0   0   0   0   0   0   0   0   0   0\n",
      "   0   0   0   0   0   0   0   0   0   0   0   0   0   0   0   0   0   0\n",
      "   0   0   0   0   0   0   0   0   0   0   0   0   0   0   0   0   0   0\n",
      "   0   0   0   0   0   0   0   0   0   0   0   0   0   0   0   0   0   0\n",
      "   0   0   0   0   0   0   0   0   0   0] , Labels : 0\n"
     ]
    }
   ],
   "source": [
    "#Your code here\n",
    "for i in range(5) :\n",
    "    print(\"Questions : \" + str(dm.train_numeral_data [i]) , \", Labels : \" + str(dm.train_numeral_labels[i]))"
   ]
  },
  {
   "cell_type": "markdown",
   "metadata": {},
   "source": [
    "#### <span style=\"color:red\">**Question 1.3**</span> \n",
    "**What is the purpose of two dictionaries: `self.word2idx` and `self.idx2word`? Write your code to print out the first five key-value pairs of those dictionaries.**\n",
    "\n",
    "<div style=\"text-align: right\"><span style=\"color:red\">[1 point]</span></div> "
   ]
  },
  {
   "cell_type": "markdown",
   "metadata": {},
   "source": [
    "self.word2idx stores the key value pairs of the words from the questions as the key and the represetative numerical values as values\n",
    "\n",
    "\n",
    "self.idx2word stores the key value pairs of the represetative numerical values as the key and the words from the questions as values"
   ]
  },
  {
   "cell_type": "code",
   "execution_count": 7,
   "metadata": {},
   "outputs": [
    {
     "name": "stdout",
     "output_type": "stream",
     "text": [
      "('the', 1) (1, 'the')\n",
      "('what', 2) (2, 'what')\n",
      "('is', 3) (3, 'is')\n",
      "('of', 4) (4, 'of')\n",
      "('in', 5) (5, 'in')\n"
     ]
    }
   ],
   "source": [
    "#Your code here\n",
    "\n",
    "iterator1 = iter(dm.word2idx.items())\n",
    "iterator2 = iter(dm.idx2word.items())\n",
    "for i in range(5) :\n",
    "    \n",
    "    print(next(iterator1),next(iterator2))"
   ]
  },
  {
   "cell_type": "markdown",
   "metadata": {},
   "source": [
    "#### <span style=\"color:red\">**Question 1.4**</span> \n",
    "**What is the purpose of `self.tf_train_set`? Write your code to print out the first five items of `self.tf_train_set`.**\n",
    "\n",
    "<div style=\"text-align: right\"><span style=\"color:red\">[1 point]</span></div> "
   ]
  },
  {
   "cell_type": "markdown",
   "metadata": {},
   "source": [
    "self.tf_train_set is used to store the tensorflow dataset transformed from the numerical sequence of the words in the questions in the training dataset for the model training purpose.\n",
    "\n"
   ]
  },
  {
   "cell_type": "code",
   "execution_count": 8,
   "metadata": {},
   "outputs": [
    {
     "name": "stdout",
     "output_type": "stream",
     "text": [
      "(<tf.Tensor: shape=(100,), dtype=int32, numpy=\n",
      "array([  35,   11,   18, 1030, 1031,    5,   25,  561, 1032,  562,    0,\n",
      "          0,    0,    0,    0,    0,    0,    0,    0,    0,    0,    0,\n",
      "          0,    0,    0,    0,    0,    0,    0,    0,    0,    0,    0,\n",
      "          0,    0,    0,    0,    0,    0,    0,    0,    0,    0,    0,\n",
      "          0,    0,    0,    0,    0,    0,    0,    0,    0,    0,    0,\n",
      "          0,    0,    0,    0,    0,    0,    0,    0,    0,    0,    0,\n",
      "          0,    0,    0,    0,    0,    0,    0,    0,    0,    0,    0,\n",
      "          0,    0,    0,    0,    0,    0,    0,    0,    0,    0,    0,\n",
      "          0,    0,    0,    0,    0,    0,    0,    0,    0,    0,    0,\n",
      "          0])>, <tf.Tensor: shape=(), dtype=int32, numpy=1>)\n",
      "(<tf.Tensor: shape=(100,), dtype=int32, numpy=\n",
      "array([  43,    2,  563, 1033,    1,  164, 1034, 1035,    0,    0,    0,\n",
      "          0,    0,    0,    0,    0,    0,    0,    0,    0,    0,    0,\n",
      "          0,    0,    0,    0,    0,    0,    0,    0,    0,    0,    0,\n",
      "          0,    0,    0,    0,    0,    0,    0,    0,    0,    0,    0,\n",
      "          0,    0,    0,    0,    0,    0,    0,    0,    0,    0,    0,\n",
      "          0,    0,    0,    0,    0,    0,    0,    0,    0,    0,    0,\n",
      "          0,    0,    0,    0,    0,    0,    0,    0,    0,    0,    0,\n",
      "          0,    0,    0,    0,    0,    0,    0,    0,    0,    0,    0,\n",
      "          0,    0,    0,    0,    0,    0,    0,    0,    0,    0,    0,\n",
      "          0])>, <tf.Tensor: shape=(), dtype=int32, numpy=2>)\n",
      "(<tf.Tensor: shape=(100,), dtype=int32, numpy=\n",
      "array([  35,   11,   45,   40,   60,    7,  389,    4, 1036,   88,  295,\n",
      "        165,    0,    0,    0,    0,    0,    0,    0,    0,    0,    0,\n",
      "          0,    0,    0,    0,    0,    0,    0,    0,    0,    0,    0,\n",
      "          0,    0,    0,    0,    0,    0,    0,    0,    0,    0,    0,\n",
      "          0,    0,    0,    0,    0,    0,    0,    0,    0,    0,    0,\n",
      "          0,    0,    0,    0,    0,    0,    0,    0,    0,    0,    0,\n",
      "          0,    0,    0,    0,    0,    0,    0,    0,    0,    0,    0,\n",
      "          0,    0,    0,    0,    0,    0,    0,    0,    0,    0,    0,\n",
      "          0,    0,    0,    0,    0,    0,    0,    0,    0,    0,    0,\n",
      "          0])>, <tf.Tensor: shape=(), dtype=int32, numpy=1>)\n",
      "(<tf.Tensor: shape=(100,), dtype=int32, numpy=\n",
      "array([  34,    2, 1037, 1038,    1, 1039,  232,    1,  564,   50,    4,\n",
      "          1, 1040,    0,    0,    0,    0,    0,    0,    0,    0,    0,\n",
      "          0,    0,    0,    0,    0,    0,    0,    0,    0,    0,    0,\n",
      "          0,    0,    0,    0,    0,    0,    0,    0,    0,    0,    0,\n",
      "          0,    0,    0,    0,    0,    0,    0,    0,    0,    0,    0,\n",
      "          0,    0,    0,    0,    0,    0,    0,    0,    0,    0,    0,\n",
      "          0,    0,    0,    0,    0,    0,    0,    0,    0,    0,    0,\n",
      "          0,    0,    0,    0,    0,    0,    0,    0,    0,    0,    0,\n",
      "          0,    0,    0,    0,    0,    0,    0,    0,    0,    0,    0,\n",
      "          0])>, <tf.Tensor: shape=(), dtype=int32, numpy=2>)\n",
      "(<tf.Tensor: shape=(100,), dtype=int32, numpy=\n",
      "array([ 61,   2,   3,   1, 390, 233,   4, 199,   0,   0,   0,   0,   0,\n",
      "         0,   0,   0,   0,   0,   0,   0,   0,   0,   0,   0,   0,   0,\n",
      "         0,   0,   0,   0,   0,   0,   0,   0,   0,   0,   0,   0,   0,\n",
      "         0,   0,   0,   0,   0,   0,   0,   0,   0,   0,   0,   0,   0,\n",
      "         0,   0,   0,   0,   0,   0,   0,   0,   0,   0,   0,   0,   0,\n",
      "         0,   0,   0,   0,   0,   0,   0,   0,   0,   0,   0,   0,   0,\n",
      "         0,   0,   0,   0,   0,   0,   0,   0,   0,   0,   0,   0,   0,\n",
      "         0,   0,   0,   0,   0,   0,   0,   0,   0])>, <tf.Tensor: shape=(), dtype=int32, numpy=0>)\n"
     ]
    }
   ],
   "source": [
    "#Your code here\n",
    "i = 0\n",
    "\n",
    "for elem in dm.tf_train_set:\n",
    "    i += 1\n",
    "    if i <= 5 :\n",
    "        print(elem)\n",
    "    else:\n",
    "        break"
   ]
  },
  {
   "cell_type": "markdown",
   "metadata": {},
   "source": [
    "#### <span style=\"color:red\">**Question 1.5**</span> \n",
    "**What is the purpose of `self.tf_valid_set`? Write your code to print out the first five items of `self.tf_valid_set`.**\n",
    "\n",
    "<div style=\"text-align: right\"><span style=\"color:red\">[1 point]</span></div> "
   ]
  },
  {
   "cell_type": "markdown",
   "metadata": {},
   "source": [
    "self.tf_train_set is used to store the tensorflow dataset transformed from the numerical sequence of the words in the questions in the validation dataset to validate the model after training process.\n",
    "\n"
   ]
  },
  {
   "cell_type": "code",
   "execution_count": 9,
   "metadata": {},
   "outputs": [
    {
     "name": "stdout",
     "output_type": "stream",
     "text": [
      "(<tf.Tensor: shape=(100,), dtype=int32, numpy=\n",
      "array([  23,    2,   23,   13,  243,    3,   53,    1, 3031,   20,    0,\n",
      "          0,    0,    0,    0,    0,    0,    0,    0,    0,    0,    0,\n",
      "          0,    0,    0,    0,    0,    0,    0,    0,    0,    0,    0,\n",
      "          0,    0,    0,    0,    0,    0,    0,    0,    0,    0,    0,\n",
      "          0,    0,    0,    0,    0,    0,    0,    0,    0,    0,    0,\n",
      "          0,    0,    0,    0,    0,    0,    0,    0,    0,    0,    0,\n",
      "          0,    0,    0,    0,    0,    0,    0,    0,    0,    0,    0,\n",
      "          0,    0,    0,    0,    0,    0,    0,    0,    0,    0,    0,\n",
      "          0,    0,    0,    0,    0,    0,    0,    0,    0,    0,    0,\n",
      "          0])>, <tf.Tensor: shape=(), dtype=int32, numpy=4>)\n",
      "(<tf.Tensor: shape=(100,), dtype=int32, numpy=\n",
      "array([   6,   12,   98,    1, 3032,    0,    0,    0,    0,    0,    0,\n",
      "          0,    0,    0,    0,    0,    0,    0,    0,    0,    0,    0,\n",
      "          0,    0,    0,    0,    0,    0,    0,    0,    0,    0,    0,\n",
      "          0,    0,    0,    0,    0,    0,    0,    0,    0,    0,    0,\n",
      "          0,    0,    0,    0,    0,    0,    0,    0,    0,    0,    0,\n",
      "          0,    0,    0,    0,    0,    0,    0,    0,    0,    0,    0,\n",
      "          0,    0,    0,    0,    0,    0,    0,    0,    0,    0,    0,\n",
      "          0,    0,    0,    0,    0,    0,    0,    0,    0,    0,    0,\n",
      "          0,    0,    0,    0,    0,    0,    0,    0,    0,    0,    0,\n",
      "          0])>, <tf.Tensor: shape=(), dtype=int32, numpy=3>)\n",
      "(<tf.Tensor: shape=(100,), dtype=int32, numpy=\n",
      "array([  34,    2,   14,    1,  248,   49,  648,  802,   74, 3033,   53,\n",
      "          0,    0,    0,    0,    0,    0,    0,    0,    0,    0,    0,\n",
      "          0,    0,    0,    0,    0,    0,    0,    0,    0,    0,    0,\n",
      "          0,    0,    0,    0,    0,    0,    0,    0,    0,    0,    0,\n",
      "          0,    0,    0,    0,    0,    0,    0,    0,    0,    0,    0,\n",
      "          0,    0,    0,    0,    0,    0,    0,    0,    0,    0,    0,\n",
      "          0,    0,    0,    0,    0,    0,    0,    0,    0,    0,    0,\n",
      "          0,    0,    0,    0,    0,    0,    0,    0,    0,    0,    0,\n",
      "          0,    0,    0,    0,    0,    0,    0,    0,    0,    0,    0,\n",
      "          0])>, <tf.Tensor: shape=(), dtype=int32, numpy=2>)\n",
      "(<tf.Tensor: shape=(100,), dtype=int32, numpy=\n",
      "array([   8,    2,    3,    1,  557,  210,    4, 3034,    0,    0,    0,\n",
      "          0,    0,    0,    0,    0,    0,    0,    0,    0,    0,    0,\n",
      "          0,    0,    0,    0,    0,    0,    0,    0,    0,    0,    0,\n",
      "          0,    0,    0,    0,    0,    0,    0,    0,    0,    0,    0,\n",
      "          0,    0,    0,    0,    0,    0,    0,    0,    0,    0,    0,\n",
      "          0,    0,    0,    0,    0,    0,    0,    0,    0,    0,    0,\n",
      "          0,    0,    0,    0,    0,    0,    0,    0,    0,    0,    0,\n",
      "          0,    0,    0,    0,    0,    0,    0,    0,    0,    0,    0,\n",
      "          0,    0,    0,    0,    0,    0,    0,    0,    0,    0,    0,\n",
      "          0])>, <tf.Tensor: shape=(), dtype=int32, numpy=5>)\n",
      "(<tf.Tensor: shape=(100,), dtype=int32, numpy=\n",
      "array([   8,   22,    3,    1, 1004, 3035, 3036,  193,    0,    0,    0,\n",
      "          0,    0,    0,    0,    0,    0,    0,    0,    0,    0,    0,\n",
      "          0,    0,    0,    0,    0,    0,    0,    0,    0,    0,    0,\n",
      "          0,    0,    0,    0,    0,    0,    0,    0,    0,    0,    0,\n",
      "          0,    0,    0,    0,    0,    0,    0,    0,    0,    0,    0,\n",
      "          0,    0,    0,    0,    0,    0,    0,    0,    0,    0,    0,\n",
      "          0,    0,    0,    0,    0,    0,    0,    0,    0,    0,    0,\n",
      "          0,    0,    0,    0,    0,    0,    0,    0,    0,    0,    0,\n",
      "          0,    0,    0,    0,    0,    0,    0,    0,    0,    0,    0,\n",
      "          0])>, <tf.Tensor: shape=(), dtype=int32, numpy=4>)\n"
     ]
    }
   ],
   "source": [
    "#Your code here\n",
    "i = 0\n",
    "\n",
    "for elem in dm.tf_valid_set:\n",
    "    i += 1\n",
    "    if i <= 5 :\n",
    "        print(elem)\n",
    "    else:\n",
    "        break"
   ]
  },
  {
   "cell_type": "markdown",
   "metadata": {},
   "source": [
    "## <span style=\"color:#0b486b\">Part 2: Using Word2Vect to transform texts to vectors </span>\n",
    "\n",
    "<div style=\"text-align: right\"><span style=\"color:red; font-weight:bold\">[Total marks for this part: 20 points]<span></div>"
   ]
  },
  {
   "cell_type": "markdown",
   "metadata": {},
   "source": [
    "In this part, you will be assessed on how to use a pretrained Word2Vect model for realizing a machine learning task. Basically, you will use this pretrained Word2Vect to transform the questions in the above dataset stored in the *data manager object dm* to numeric form for training a Support Vector Machine in sckit-learn.  "
   ]
  },
  {
   "cell_type": "code",
   "execution_count": 87,
   "metadata": {},
   "outputs": [],
   "source": [
    "import gensim.downloader as api\n",
    "from gensim.models import Word2Vec\n",
    "from sklearn.svm import SVC\n",
    "from sklearn.preprocessing import MinMaxScaler\n",
    "from sklearn.metrics import accuracy_score"
   ]
  },
  {
   "cell_type": "markdown",
   "metadata": {},
   "source": [
    "#### <span style=\"color:red\">**Question 2.1**</span> \n",
    "**Write code to download the pretrained model *glove-wiki-gigaword-100*. Note that this model transforms a word in its dictionary to a $100$ dimensional vector.**\n",
    "\n",
    "<div style=\"text-align: right\"><span style=\"color:red\">[2 points]</span></div> "
   ]
  },
  {
   "cell_type": "code",
   "execution_count": 88,
   "metadata": {},
   "outputs": [],
   "source": [
    "word2vect = api.load(\"glove-wiki-gigaword-100\")"
   ]
  },
  {
   "cell_type": "markdown",
   "metadata": {},
   "source": [
    "#### <span style=\"color:red\">**Question 2.2**</span> \n",
    "\n",
    "**Write code for the function *get_word_vector(word, model)* used to transform a word to a vector using the pretrained Word2Vect model *model*. Note that for a word not in the vocabulary of our *word2vect*, you need to return a vector $0$ with 100 dimensions.**\n",
    "\n",
    "<div style=\"text-align: right\"><span style=\"color:red\">[3 points]</span></div> "
   ]
  },
  {
   "cell_type": "code",
   "execution_count": 89,
   "metadata": {},
   "outputs": [],
   "source": [
    "def get_word_vector(word, model):\n",
    "    try:\n",
    "        vector = model.get_vector(word)\n",
    "    except: #word not in the vocabulary\n",
    "        vector =  np.zeros([model.vector_size])\n",
    "    return vector"
   ]
  },
  {
   "cell_type": "markdown",
   "metadata": {},
   "source": [
    "#### <span style=\"color:red\">**Question 2.3**</span> \n",
    "\n",
    "**Write the code for the function `get_sentence_vector(sentence, important_score=None, model= None)`. Note that this function will transform a sentence to a 100-dimensional vector using the pretrained model *model*. In addition, the list *important_score* which has the same length as the *sentence* specifies the important scores of the words in the sentence. In your code, you first need to apply *softmax* function over *important_score* to obtain the important weight *important_weight* which forms a probability over the words of the sentence. Furthermore, the final vector of the sentence will be weighted sum of the individual vectors for words and the weights in *important_weight*.**\n",
    "- $important\\_weight = softmax(important\\_score)$.\n",
    "- $final\\_vector= important\\_weight[1]\\times v[1] + important\\_weight[2]\\times v[2] + ...+ important\\_weight[L]\\times v[L]$ where $L$ is the length of the sentence and $v[i]$ is the vector representation of the $i-th$  word in this sentence.\n",
    "\n",
    "**Note that if `important_score=None` is set by default, your function should return the average of all representation vectors corresponding to set `important_score=[1,1,...,1]`.**\n",
    "\n",
    "<div style=\"text-align: right\"><span style=\"color:red\">[5 points]</span></div> "
   ]
  },
  {
   "cell_type": "code",
   "execution_count": 90,
   "metadata": {},
   "outputs": [],
   "source": [
    "def get_sentence_vector(sentence, important_score=None, model= None):\n",
    "    if important_score == None:\n",
    "        important_weight = np.array([1/len(sentence)] * len(sentence))\n",
    "    elif important_score != None:\n",
    "        important_weight = softmax(important_score)\n",
    "\n",
    "    tokens = sentence.split()\n",
    "    final_vector = np.array(model.vector_size, dtype = 'float32')\n",
    "        \n",
    "    for i in range(len(tokens)):\n",
    "        vector = get_word_vector(tokens[i], model) * important_weight[i]\n",
    "        final_vector = np.add(final_vector, vector)\n",
    "\n",
    "    return final_vector"
   ]
  },
  {
   "cell_type": "markdown",
   "metadata": {},
   "source": [
    "#### <span style=\"color:red\">**Question 2.4**</span> \n",
    "\n",
    "**Write code to transform the training questions in *dm.train_str_questions* to feature vectors. Note that after running the following cell, you must have $X\\_train$ which is an numpy array of the feature vectors and $y\\_train$ which is an array of numeric labels (*Hint: dm.train_numeral_labels*). You can add more lines to the following cell if necessary. In addition, you should decide the *important_score* by yourself. For example, you might reckon that the 1st score is 1, the 2nd score is decayed by 0.9, the 3rd is decayed by 0.9, and so on.**\n",
    "\n",
    "<div style=\"text-align: right\"><span style=\"color:red\">[2 points]</span></div> "
   ]
  },
  {
   "cell_type": "code",
   "execution_count": 45,
   "metadata": {},
   "outputs": [
    {
     "name": "stdout",
     "output_type": "stream",
     "text": [
      "Transform training set to feature vectors...\n",
      "Complete transforming\n"
     ]
    }
   ],
   "source": [
    "print(\"Transform training set to feature vectors...\")\n",
    "X_train= []\n",
    "y_train= []\n",
    "\n",
    "for i in range(len(dm.train_str_questions)):\n",
    "    line = dm.train_str_questions[i]\n",
    "    vec = get_sentence_vector(line,model = word2vect)\n",
    "    if len(vec)>0:\n",
    "        X_train += [vec]\n",
    "        y_train += [dm.train_numeral_labels[i]]\n",
    "X_train = np.array(X_train,dtype=object)\n",
    "y_train = np.array(y_train)\n",
    "print(\"Complete transforming\")\n"
   ]
  },
  {
   "cell_type": "markdown",
   "metadata": {},
   "source": [
    "#### <span style=\"color:red\">**Question 2.5**</span> \n",
    "\n",
    "**Write code to transform the training questions in *dm.valid_str_questions* to feature vectors. Note that after running the following cell, you must have $X\\_valid$ which is an numpy array of the feature vectors and $y\\_valid$ which is an array of numeric labels (*Hint: dm.valid_numeral_labels*). You can add more lines to the following cell if necessary. In addition, you should decide the *important_score* by yourself. For example, you might reckon that the 1st score is 1, the 2nd score is decayed by 0.9, the 3rd is decayed by 0.9, and so on.**\n",
    "\n",
    "<div style=\"text-align: right\"><span style=\"color:red\">[2 points]</span></div> "
   ]
  },
  {
   "cell_type": "code",
   "execution_count": 46,
   "metadata": {},
   "outputs": [
    {
     "name": "stdout",
     "output_type": "stream",
     "text": [
      "Transform valid set to feature vectors...\n",
      "Complete transforming\n"
     ]
    }
   ],
   "source": [
    "print(\"Transform valid set to feature vectors...\")\n",
    "X_valid= []\n",
    "y_valid= []\n",
    "\n",
    "for i in range(len(dm.valid_str_questions)):\n",
    "    line = dm.valid_str_questions[i]\n",
    "    vec = get_sentence_vector(line,model = word2vect)\n",
    "    if len(vec)>0:\n",
    "        X_valid += [vec]\n",
    "        y_valid += [dm.valid_numeral_labels[i]]\n",
    "X_valid = np.array(X_valid,dtype=object)\n",
    "y_valid = np.array(y_valid)\n",
    "print(\"Complete transforming\")"
   ]
  },
  {
   "cell_type": "markdown",
   "metadata": {},
   "source": [
    "#### <span style=\"color:red\">**Question 2.6**</span> \n",
    "\n",
    "**It is now to use *MinMaxScaler(feature_range=(-1,1))* in sckit-learn to scale both training and valid sets to the range $(-1,1)$.**\n",
    "\n",
    "<div style=\"text-align: right\"><span style=\"color:red\">[2 points]</span></div> "
   ]
  },
  {
   "cell_type": "code",
   "execution_count": 47,
   "metadata": {},
   "outputs": [
    {
     "data": {
      "text/html": [
       "<style>#sk-container-id-1 {color: black;background-color: white;}#sk-container-id-1 pre{padding: 0;}#sk-container-id-1 div.sk-toggleable {background-color: white;}#sk-container-id-1 label.sk-toggleable__label {cursor: pointer;display: block;width: 100%;margin-bottom: 0;padding: 0.3em;box-sizing: border-box;text-align: center;}#sk-container-id-1 label.sk-toggleable__label-arrow:before {content: \"▸\";float: left;margin-right: 0.25em;color: #696969;}#sk-container-id-1 label.sk-toggleable__label-arrow:hover:before {color: black;}#sk-container-id-1 div.sk-estimator:hover label.sk-toggleable__label-arrow:before {color: black;}#sk-container-id-1 div.sk-toggleable__content {max-height: 0;max-width: 0;overflow: hidden;text-align: left;background-color: #f0f8ff;}#sk-container-id-1 div.sk-toggleable__content pre {margin: 0.2em;color: black;border-radius: 0.25em;background-color: #f0f8ff;}#sk-container-id-1 input.sk-toggleable__control:checked~div.sk-toggleable__content {max-height: 200px;max-width: 100%;overflow: auto;}#sk-container-id-1 input.sk-toggleable__control:checked~label.sk-toggleable__label-arrow:before {content: \"▾\";}#sk-container-id-1 div.sk-estimator input.sk-toggleable__control:checked~label.sk-toggleable__label {background-color: #d4ebff;}#sk-container-id-1 div.sk-label input.sk-toggleable__control:checked~label.sk-toggleable__label {background-color: #d4ebff;}#sk-container-id-1 input.sk-hidden--visually {border: 0;clip: rect(1px 1px 1px 1px);clip: rect(1px, 1px, 1px, 1px);height: 1px;margin: -1px;overflow: hidden;padding: 0;position: absolute;width: 1px;}#sk-container-id-1 div.sk-estimator {font-family: monospace;background-color: #f0f8ff;border: 1px dotted black;border-radius: 0.25em;box-sizing: border-box;margin-bottom: 0.5em;}#sk-container-id-1 div.sk-estimator:hover {background-color: #d4ebff;}#sk-container-id-1 div.sk-parallel-item::after {content: \"\";width: 100%;border-bottom: 1px solid gray;flex-grow: 1;}#sk-container-id-1 div.sk-label:hover label.sk-toggleable__label {background-color: #d4ebff;}#sk-container-id-1 div.sk-serial::before {content: \"\";position: absolute;border-left: 1px solid gray;box-sizing: border-box;top: 0;bottom: 0;left: 50%;z-index: 0;}#sk-container-id-1 div.sk-serial {display: flex;flex-direction: column;align-items: center;background-color: white;padding-right: 0.2em;padding-left: 0.2em;position: relative;}#sk-container-id-1 div.sk-item {position: relative;z-index: 1;}#sk-container-id-1 div.sk-parallel {display: flex;align-items: stretch;justify-content: center;background-color: white;position: relative;}#sk-container-id-1 div.sk-item::before, #sk-container-id-1 div.sk-parallel-item::before {content: \"\";position: absolute;border-left: 1px solid gray;box-sizing: border-box;top: 0;bottom: 0;left: 50%;z-index: -1;}#sk-container-id-1 div.sk-parallel-item {display: flex;flex-direction: column;z-index: 1;position: relative;background-color: white;}#sk-container-id-1 div.sk-parallel-item:first-child::after {align-self: flex-end;width: 50%;}#sk-container-id-1 div.sk-parallel-item:last-child::after {align-self: flex-start;width: 50%;}#sk-container-id-1 div.sk-parallel-item:only-child::after {width: 0;}#sk-container-id-1 div.sk-dashed-wrapped {border: 1px dashed gray;margin: 0 0.4em 0.5em 0.4em;box-sizing: border-box;padding-bottom: 0.4em;background-color: white;}#sk-container-id-1 div.sk-label label {font-family: monospace;font-weight: bold;display: inline-block;line-height: 1.2em;}#sk-container-id-1 div.sk-label-container {text-align: center;}#sk-container-id-1 div.sk-container {/* jupyter's `normalize.less` sets `[hidden] { display: none; }` but bootstrap.min.css set `[hidden] { display: none !important; }` so we also need the `!important` here to be able to override the default hidden behavior on the sphinx rendered scikit-learn.org. See: https://github.com/scikit-learn/scikit-learn/issues/21755 */display: inline-block !important;position: relative;}#sk-container-id-1 div.sk-text-repr-fallback {display: none;}</style><div id=\"sk-container-id-1\" class=\"sk-top-container\"><div class=\"sk-text-repr-fallback\"><pre>MinMaxScaler(feature_range=(-1, 1))</pre><b>In a Jupyter environment, please rerun this cell to show the HTML representation or trust the notebook. <br />On GitHub, the HTML representation is unable to render, please try loading this page with nbviewer.org.</b></div><div class=\"sk-container\" hidden><div class=\"sk-item\"><div class=\"sk-estimator sk-toggleable\"><input class=\"sk-toggleable__control sk-hidden--visually\" id=\"sk-estimator-id-1\" type=\"checkbox\" checked><label for=\"sk-estimator-id-1\" class=\"sk-toggleable__label sk-toggleable__label-arrow\">MinMaxScaler</label><div class=\"sk-toggleable__content\"><pre>MinMaxScaler(feature_range=(-1, 1))</pre></div></div></div></div></div>"
      ],
      "text/plain": [
       "MinMaxScaler(feature_range=(-1, 1))"
      ]
     },
     "execution_count": 47,
     "metadata": {},
     "output_type": "execute_result"
    }
   ],
   "source": [
    "scaler = MinMaxScaler(feature_range=(-1,1))\n",
    "scaler.fit(X_train)"
   ]
  },
  {
   "cell_type": "code",
   "execution_count": 48,
   "metadata": {},
   "outputs": [],
   "source": [
    "scaler = MinMaxScaler(feature_range=(-1,1))\n",
    "scaler.fit(X_train)\n",
    "X_train = scaler.transform(X_train)\n",
    "scaler.fit(X_valid)\n",
    "X_valid = scaler.transform(X_valid)"
   ]
  },
  {
   "cell_type": "markdown",
   "metadata": {},
   "source": [
    "#### <span style=\"color:red\">**Question 2.7**</span> \n",
    "\n",
    "**Declare a support vector machine (the class *SVC*  in sckit-learn) with RBF kernel, $C=1$, $gamma= 2^{-3}$ and fit on the training set.**\n",
    "\n",
    "<div style=\"text-align: right\"><span style=\"color:red\">[2 points]</span></div> "
   ]
  },
  {
   "cell_type": "code",
   "execution_count": 49,
   "metadata": {},
   "outputs": [
    {
     "data": {
      "text/html": [
       "<style>#sk-container-id-2 {color: black;background-color: white;}#sk-container-id-2 pre{padding: 0;}#sk-container-id-2 div.sk-toggleable {background-color: white;}#sk-container-id-2 label.sk-toggleable__label {cursor: pointer;display: block;width: 100%;margin-bottom: 0;padding: 0.3em;box-sizing: border-box;text-align: center;}#sk-container-id-2 label.sk-toggleable__label-arrow:before {content: \"▸\";float: left;margin-right: 0.25em;color: #696969;}#sk-container-id-2 label.sk-toggleable__label-arrow:hover:before {color: black;}#sk-container-id-2 div.sk-estimator:hover label.sk-toggleable__label-arrow:before {color: black;}#sk-container-id-2 div.sk-toggleable__content {max-height: 0;max-width: 0;overflow: hidden;text-align: left;background-color: #f0f8ff;}#sk-container-id-2 div.sk-toggleable__content pre {margin: 0.2em;color: black;border-radius: 0.25em;background-color: #f0f8ff;}#sk-container-id-2 input.sk-toggleable__control:checked~div.sk-toggleable__content {max-height: 200px;max-width: 100%;overflow: auto;}#sk-container-id-2 input.sk-toggleable__control:checked~label.sk-toggleable__label-arrow:before {content: \"▾\";}#sk-container-id-2 div.sk-estimator input.sk-toggleable__control:checked~label.sk-toggleable__label {background-color: #d4ebff;}#sk-container-id-2 div.sk-label input.sk-toggleable__control:checked~label.sk-toggleable__label {background-color: #d4ebff;}#sk-container-id-2 input.sk-hidden--visually {border: 0;clip: rect(1px 1px 1px 1px);clip: rect(1px, 1px, 1px, 1px);height: 1px;margin: -1px;overflow: hidden;padding: 0;position: absolute;width: 1px;}#sk-container-id-2 div.sk-estimator {font-family: monospace;background-color: #f0f8ff;border: 1px dotted black;border-radius: 0.25em;box-sizing: border-box;margin-bottom: 0.5em;}#sk-container-id-2 div.sk-estimator:hover {background-color: #d4ebff;}#sk-container-id-2 div.sk-parallel-item::after {content: \"\";width: 100%;border-bottom: 1px solid gray;flex-grow: 1;}#sk-container-id-2 div.sk-label:hover label.sk-toggleable__label {background-color: #d4ebff;}#sk-container-id-2 div.sk-serial::before {content: \"\";position: absolute;border-left: 1px solid gray;box-sizing: border-box;top: 0;bottom: 0;left: 50%;z-index: 0;}#sk-container-id-2 div.sk-serial {display: flex;flex-direction: column;align-items: center;background-color: white;padding-right: 0.2em;padding-left: 0.2em;position: relative;}#sk-container-id-2 div.sk-item {position: relative;z-index: 1;}#sk-container-id-2 div.sk-parallel {display: flex;align-items: stretch;justify-content: center;background-color: white;position: relative;}#sk-container-id-2 div.sk-item::before, #sk-container-id-2 div.sk-parallel-item::before {content: \"\";position: absolute;border-left: 1px solid gray;box-sizing: border-box;top: 0;bottom: 0;left: 50%;z-index: -1;}#sk-container-id-2 div.sk-parallel-item {display: flex;flex-direction: column;z-index: 1;position: relative;background-color: white;}#sk-container-id-2 div.sk-parallel-item:first-child::after {align-self: flex-end;width: 50%;}#sk-container-id-2 div.sk-parallel-item:last-child::after {align-self: flex-start;width: 50%;}#sk-container-id-2 div.sk-parallel-item:only-child::after {width: 0;}#sk-container-id-2 div.sk-dashed-wrapped {border: 1px dashed gray;margin: 0 0.4em 0.5em 0.4em;box-sizing: border-box;padding-bottom: 0.4em;background-color: white;}#sk-container-id-2 div.sk-label label {font-family: monospace;font-weight: bold;display: inline-block;line-height: 1.2em;}#sk-container-id-2 div.sk-label-container {text-align: center;}#sk-container-id-2 div.sk-container {/* jupyter's `normalize.less` sets `[hidden] { display: none; }` but bootstrap.min.css set `[hidden] { display: none !important; }` so we also need the `!important` here to be able to override the default hidden behavior on the sphinx rendered scikit-learn.org. See: https://github.com/scikit-learn/scikit-learn/issues/21755 */display: inline-block !important;position: relative;}#sk-container-id-2 div.sk-text-repr-fallback {display: none;}</style><div id=\"sk-container-id-2\" class=\"sk-top-container\"><div class=\"sk-text-repr-fallback\"><pre>SVC(gamma=0.125)</pre><b>In a Jupyter environment, please rerun this cell to show the HTML representation or trust the notebook. <br />On GitHub, the HTML representation is unable to render, please try loading this page with nbviewer.org.</b></div><div class=\"sk-container\" hidden><div class=\"sk-item\"><div class=\"sk-estimator sk-toggleable\"><input class=\"sk-toggleable__control sk-hidden--visually\" id=\"sk-estimator-id-2\" type=\"checkbox\" checked><label for=\"sk-estimator-id-2\" class=\"sk-toggleable__label sk-toggleable__label-arrow\">SVC</label><div class=\"sk-toggleable__content\"><pre>SVC(gamma=0.125)</pre></div></div></div></div></div>"
      ],
      "text/plain": [
       "SVC(gamma=0.125)"
      ]
     },
     "execution_count": 49,
     "metadata": {},
     "output_type": "execute_result"
    }
   ],
   "source": [
    "svm = SVC(kernel = \"rbf\", C = 1.0, gamma= pow(2,-3))\n",
    "svm.fit(X_train,y_train)"
   ]
  },
  {
   "cell_type": "markdown",
   "metadata": {},
   "source": [
    "#### <span style=\"color:red\">**Question 2.8**</span> \n",
    "\n",
    "**Finally, we use the trained *svm* to evaluate on the valid set $X\\_valid$.**\n",
    "\n",
    "<div style=\"text-align: right\"><span style=\"color:red\">[2 points]</span></div> "
   ]
  },
  {
   "cell_type": "code",
   "execution_count": 50,
   "metadata": {},
   "outputs": [
    {
     "name": "stdout",
     "output_type": "stream",
     "text": [
      "0.903010033444816\n"
     ]
    }
   ],
   "source": [
    "y_valid_pred= svm.predict(X_valid)\n",
    "acc = accuracy_score(y_valid,y_valid_pred)\n",
    "print(acc)"
   ]
  },
  {
   "cell_type": "markdown",
   "metadata": {},
   "source": [
    "## <span style=\"color:#0b486b\">Part 3: Text CNN for sequence modeling and neural embedding </span>\n",
    "\n",
    "<div style=\"text-align: right\"><span style=\"color:red; font-weight:bold\">[Total marks for this part: 10 points]<span></div>"
   ]
  },
  {
   "cell_type": "markdown",
   "metadata": {},
   "source": [
    "#### <span style=\"color:red\">**Question 3.1**</span> \n",
    "\n",
    "**In what follows, you are required to complete the code for Text CNN for sentence classification. The paper of Text CNN can be found at this [link](https://www.aclweb.org/anthology/D14-1181.pdf). Here is the description of the Text CNN that you need to construct.**\n",
    "- There are three attributes (properties or instance variables): *embed_size, state_size, data_manager*.\n",
    "  - `embed_size`: the dimension of the vector space for which the words are embedded to using the embedding matrix.\n",
    "  - `state_size`: the number of filters used in *Conv1D* (reference [here](https://www.tensorflow.org/api_docs/python/tf/keras/layers/Conv1D)).\n",
    "  - `data_manager`: the data manager to store information of the dataset.\n",
    "- The detail of the computational process is as follows:\n",
    "  - Given input $x$, we embed $x$ using the embedding matrix to obtain an $3D$ tensor $[batch\\_size \\times vocab\\_size \\times embed\\_size]$ as $h$.\n",
    "  - We feed $h$ to three Convd 1D layers, each of which has $state\\_size$ filters, padding=same, activation= relu, and $kernel\\_size= 3, 5, 7$ respectively to obtain $h1, h2, h3$. Note that each $h1, h2, h3$ is a 3D tensor with the shape $[batch\\_size \\times output\\_size \\times state\\_size]$.\n",
    "  - We then apply *GlobalMaxPool1D()* (reference [here](https://www.tensorflow.org/api_docs/python/tf/keras/layers/GlobalMaxPool1D)) over $h1, h2, h3$ to obtain 2D tensors stored in $h1, h2, h3$ again.\n",
    "  - We then concatenate three 2D tensors $h1, h2, h3$ to obtain $h$. Note that you need to specify the axis to concatenate.\n",
    "  - We finally build up one dense layer on the top of $h$ for classification.\n",
    "  \n",
    "  <div style=\"text-align: right\"><span style=\"color:red\">[8 points]</span></div>\n",
    "  "
   ]
  },
  {
   "cell_type": "code",
   "execution_count": 19,
   "metadata": {},
   "outputs": [],
   "source": [
    "class TextCNN:\n",
    "    def __init__(self, embed_size= 128, state_size=16, data_manager=None):\n",
    "        self.data_manager = data_manager\n",
    "        self.embed_size = embed_size\n",
    "        self.state_size = state_size\n",
    "    \n",
    "    def build(self):\n",
    "        x = tf.keras.layers.Input(shape=[None])\n",
    "        h = tf.keras.layers.Embedding(self.data_manager.vocab_size +1, self.embed_size)(x)\n",
    "        h1 = tf.keras.layers.Conv1D(filters = self.state_size,kernel_size = 3, padding = 'same', activation = 'relu',data_format='channels_last')(h)\n",
    "        h2 = tf.keras.layers.Conv1D(filters = self.state_size,kernel_size = 5, padding = 'same', activation = 'relu',data_format='channels_last')(h)\n",
    "        h3 = tf.keras.layers.Conv1D(filters = self.state_size,kernel_size = 7, padding = 'same', activation = 'relu',data_format='channels_last')(h)\n",
    "        max_pool_1d = tf.keras.layers.GlobalMaxPooling1D(keepdims=False)\n",
    "        h1 = max_pool_1d(h1)\n",
    "        h2 = max_pool_1d(h2)\n",
    "        h3 = max_pool_1d(h3)\n",
    "        h = tf.keras.layers.Concatenate(axis = 1)([h1, h2, h3])\n",
    "        h = tf.keras.layers.Dense(self.data_manager.num_classes, activation='softmax')(h)\n",
    "        self.model = tf.keras.Model(inputs=x, outputs=h) \n",
    "        \n",
    "    \n",
    "    def compile_model(self, *args, **kwargs):\n",
    "        self.model.compile(*args, **kwargs)\n",
    "    \n",
    "    def fit(self, *args, **kwargs):\n",
    "        return self.model.fit(*args, **kwargs)\n",
    "    \n",
    "    def evaluate(self, *args, **kwargs):\n",
    "        self.model.evaluate(*args, **kwargs)\n"
   ]
  },
  {
   "cell_type": "markdown",
   "metadata": {},
   "source": [
    "#### <span style=\"color:red\">**Question 3.2**</span> \n",
    "**Here is the code to test TextCNN above. You can observe that TextCNN outperforms the traditional approach SVM + Word2Vect for this task. The reason is that TextCNN enables us to automatically learn the feature that fits to the task. This makes deep learning different from hand-crafted feature approaches. Complete the code to test the model. Note that when compiling the model, you can use the Adam optimizer.**\n",
    "\n",
    "<div style=\"text-align: right\"><span style=\"color:red\">[2 points]</span></div>"
   ]
  },
  {
   "cell_type": "code",
   "execution_count": 16,
   "metadata": {},
   "outputs": [
    {
     "name": "stdout",
     "output_type": "stream",
     "text": [
      "Epoch 1/20\n",
      "38/38 [==============================] - 2s 21ms/step - loss: 1.6335 - accuracy: 0.6112 - val_loss: 1.3501 - val_accuracy: 0.8294\n",
      "Epoch 2/20\n",
      "38/38 [==============================] - 0s 11ms/step - loss: 0.9714 - accuracy: 0.8834 - val_loss: 0.6371 - val_accuracy: 0.8930\n",
      "Epoch 3/20\n",
      "38/38 [==============================] - 0s 11ms/step - loss: 0.3501 - accuracy: 0.9367 - val_loss: 0.3194 - val_accuracy: 0.8963\n",
      "Epoch 4/20\n",
      "38/38 [==============================] - 0s 11ms/step - loss: 0.1585 - accuracy: 0.9684 - val_loss: 0.2093 - val_accuracy: 0.9097\n",
      "Epoch 5/20\n",
      "38/38 [==============================] - 0s 12ms/step - loss: 0.0875 - accuracy: 0.9858 - val_loss: 0.1461 - val_accuracy: 0.9699\n",
      "Epoch 6/20\n",
      "38/38 [==============================] - 0s 11ms/step - loss: 0.0511 - accuracy: 0.9992 - val_loss: 0.1174 - val_accuracy: 0.9732\n",
      "Epoch 7/20\n",
      "38/38 [==============================] - 0s 12ms/step - loss: 0.0309 - accuracy: 0.9992 - val_loss: 0.1005 - val_accuracy: 0.9732\n",
      "Epoch 8/20\n",
      "38/38 [==============================] - 0s 12ms/step - loss: 0.0199 - accuracy: 1.0000 - val_loss: 0.1000 - val_accuracy: 0.9632\n",
      "Epoch 9/20\n",
      "38/38 [==============================] - 0s 11ms/step - loss: 0.0133 - accuracy: 1.0000 - val_loss: 0.0894 - val_accuracy: 0.9732\n",
      "Epoch 10/20\n",
      "38/38 [==============================] - 0s 11ms/step - loss: 0.0097 - accuracy: 1.0000 - val_loss: 0.0846 - val_accuracy: 0.9766\n",
      "Epoch 11/20\n",
      "38/38 [==============================] - 0s 12ms/step - loss: 0.0069 - accuracy: 1.0000 - val_loss: 0.0873 - val_accuracy: 0.9699\n",
      "Epoch 12/20\n",
      "38/38 [==============================] - 0s 12ms/step - loss: 0.0055 - accuracy: 1.0000 - val_loss: 0.0837 - val_accuracy: 0.9766\n",
      "Epoch 13/20\n",
      "38/38 [==============================] - 0s 11ms/step - loss: 0.0044 - accuracy: 1.0000 - val_loss: 0.0858 - val_accuracy: 0.9732\n",
      "Epoch 14/20\n",
      "38/38 [==============================] - 0s 11ms/step - loss: 0.0036 - accuracy: 1.0000 - val_loss: 0.0847 - val_accuracy: 0.9732\n",
      "Epoch 15/20\n",
      "38/38 [==============================] - 0s 11ms/step - loss: 0.0030 - accuracy: 1.0000 - val_loss: 0.0837 - val_accuracy: 0.9766\n",
      "Epoch 16/20\n",
      "38/38 [==============================] - 0s 10ms/step - loss: 0.0025 - accuracy: 1.0000 - val_loss: 0.0849 - val_accuracy: 0.9766\n",
      "Epoch 17/20\n",
      "38/38 [==============================] - 0s 11ms/step - loss: 0.0022 - accuracy: 1.0000 - val_loss: 0.0847 - val_accuracy: 0.9732\n",
      "Epoch 18/20\n",
      "38/38 [==============================] - 0s 11ms/step - loss: 0.0019 - accuracy: 1.0000 - val_loss: 0.0856 - val_accuracy: 0.9732\n",
      "Epoch 19/20\n",
      "38/38 [==============================] - 0s 11ms/step - loss: 0.0017 - accuracy: 1.0000 - val_loss: 0.0858 - val_accuracy: 0.9732\n",
      "Epoch 20/20\n",
      "38/38 [==============================] - 0s 11ms/step - loss: 0.0015 - accuracy: 1.0000 - val_loss: 0.0867 - val_accuracy: 0.9732\n"
     ]
    },
    {
     "data": {
      "text/plain": [
       "<keras.callbacks.History at 0x1b9cdf906d0>"
      ]
     },
     "execution_count": 16,
     "metadata": {},
     "output_type": "execute_result"
    }
   ],
   "source": [
    "text_cnn = TextCNN(data_manager=dm)\n",
    "text_cnn.build()\n",
    "\n",
    "opt = tf.keras.optimizers.Adam(learning_rate=0.001)\n",
    "\n",
    "text_cnn.compile_model(optimizer=opt, \n",
    "                  loss='sparse_categorical_crossentropy',\n",
    "                      metrics = 'accuracy')\n",
    "text_cnn.fit(x=dm.train_numeral_data, y=dm.train_numeral_labels, batch_size=32, \n",
    "                        epochs=20, \n",
    "                        validation_data=(dm.valid_numeral_data, dm.valid_numeral_labels))\n",
    "#Insert code here to compile the model\n",
    "#Insert code here to train the model on 20 epochs"
   ]
  },
  {
   "cell_type": "markdown",
   "metadata": {},
   "source": [
    "## <span style=\"color:#0b486b\">Part 4: Sentence representation with BERT </span>\n",
    "\n",
    "<div style=\"text-align: right\"><span style=\"color:red; font-weight:bold\">[Total marks for this part: 10 points]<span></div>"
   ]
  },
  {
   "cell_type": "markdown",
   "metadata": {},
   "source": [
    "#### <span style=\"color:red\">**Question 4.1**</span>\n",
    "**Use a pretrained BERT model to extract feaure vectors for the training and valid sets. You should choose an appropriate pretrained BERT model that fits your computational resource.**\n",
    "<div style=\"text-align: right\"><span style=\"color:red\">[6 points]</span></div>"
   ]
  },
  {
   "cell_type": "code",
   "execution_count": 27,
   "metadata": {},
   "outputs": [],
   "source": [
    "bert_model_name = 'small_bert/bert_en_uncased_L-2_H-128_A-2'  #@param [\"bert_en_uncased_L-12_H-768_A-12\", \"bert_en_cased_L-12_H-768_A-12\", \n",
    "                                                              #\"bert_multi_cased_L-12_H-768_A-12\", \"small_bert/bert_en_uncased_L-2_H-128_A-2\", \n",
    "                                                              #\"small_bert/bert_en_uncased_L-2_H-256_A-4\", \"small_bert/bert_en_uncased_L-2_H-512_A-8\", \n",
    "                                                              #\"small_bert/bert_en_uncased_L-2_H-768_A-12\", \"small_bert/bert_en_uncased_L-4_H-128_A-2\", \"small_bert/bert_en_uncased_L-4_H-256_A-4\", \"small_bert/bert_en_uncased_L-4_H-512_A-8\", \"small_bert/bert_en_uncased_L-4_H-768_A-12\", \"small_bert/bert_en_uncased_L-6_H-128_A-2\", \"small_bert/bert_en_uncased_L-6_H-256_A-4\", \"small_bert/bert_en_uncased_L-6_H-512_A-8\", \"small_bert/bert_en_uncased_L-6_H-768_A-12\", \"small_bert/bert_en_uncased_L-8_H-128_A-2\", \"small_bert/bert_en_uncased_L-8_H-256_A-4\", \"small_bert/bert_en_uncased_L-8_H-512_A-8\", \"small_bert/bert_en_uncased_L-8_H-768_A-12\", \"small_bert/bert_en_uncased_L-10_H-128_A-2\", \"small_bert/bert_en_uncased_L-10_H-256_A-4\", \"small_bert/bert_en_uncased_L-10_H-512_A-8\", \"small_bert/bert_en_uncased_L-10_H-768_A-12\", \"small_bert/bert_en_uncased_L-12_H-128_A-2\", \"small_bert/bert_en_uncased_L-12_H-256_A-4\", \"small_bert/bert_en_uncased_L-12_H-512_A-8\", \"small_bert/bert_en_uncased_L-12_H-768_A-12\", \"albert_en_base\", \"electra_small\", \"electra_base\", \"experts_pubmed\", \"experts_wiki_books\", \"talking-heads_base\"]\n",
    "\n",
    "map_name_to_handle = {\n",
    "    'bert_en_uncased_L-12_H-768_A-12':\n",
    "        'https://tfhub.dev/tensorflow/bert_en_uncased_L-12_H-768_A-12/3',\n",
    "    'bert_en_cased_L-12_H-768_A-12':\n",
    "        'https://tfhub.dev/tensorflow/bert_en_cased_L-12_H-768_A-12/3',\n",
    "    'bert_multi_cased_L-12_H-768_A-12':\n",
    "        'https://tfhub.dev/tensorflow/bert_multi_cased_L-12_H-768_A-12/3',\n",
    "    'small_bert/bert_en_uncased_L-2_H-128_A-2':\n",
    "        'https://tfhub.dev/tensorflow/small_bert/bert_en_uncased_L-2_H-128_A-2/1',\n",
    "    'small_bert/bert_en_uncased_L-2_H-256_A-4':\n",
    "        'https://tfhub.dev/tensorflow/small_bert/bert_en_uncased_L-2_H-256_A-4/1',\n",
    "    'small_bert/bert_en_uncased_L-2_H-512_A-8':\n",
    "        'https://tfhub.dev/tensorflow/small_bert/bert_en_uncased_L-2_H-512_A-8/1',\n",
    "    'small_bert/bert_en_uncased_L-2_H-768_A-12':\n",
    "        'https://tfhub.dev/tensorflow/small_bert/bert_en_uncased_L-2_H-768_A-12/1',\n",
    "    'small_bert/bert_en_uncased_L-4_H-128_A-2':\n",
    "        'https://tfhub.dev/tensorflow/small_bert/bert_en_uncased_L-4_H-128_A-2/1',\n",
    "    'small_bert/bert_en_uncased_L-4_H-256_A-4':\n",
    "        'https://tfhub.dev/tensorflow/small_bert/bert_en_uncased_L-4_H-256_A-4/1',\n",
    "    'small_bert/bert_en_uncased_L-4_H-512_A-8':\n",
    "        'https://tfhub.dev/tensorflow/small_bert/bert_en_uncased_L-4_H-512_A-8/1',\n",
    "    'small_bert/bert_en_uncased_L-4_H-768_A-12':\n",
    "        'https://tfhub.dev/tensorflow/small_bert/bert_en_uncased_L-4_H-768_A-12/1',\n",
    "    'small_bert/bert_en_uncased_L-6_H-128_A-2':\n",
    "        'https://tfhub.dev/tensorflow/small_bert/bert_en_uncased_L-6_H-128_A-2/1',\n",
    "    'small_bert/bert_en_uncased_L-6_H-256_A-4':\n",
    "        'https://tfhub.dev/tensorflow/small_bert/bert_en_uncased_L-6_H-256_A-4/1',\n",
    "    'small_bert/bert_en_uncased_L-6_H-512_A-8':\n",
    "        'https://tfhub.dev/tensorflow/small_bert/bert_en_uncased_L-6_H-512_A-8/1',\n",
    "    'small_bert/bert_en_uncased_L-6_H-768_A-12':\n",
    "        'https://tfhub.dev/tensorflow/small_bert/bert_en_uncased_L-6_H-768_A-12/1',\n",
    "    'small_bert/bert_en_uncased_L-8_H-128_A-2':\n",
    "        'https://tfhub.dev/tensorflow/small_bert/bert_en_uncased_L-8_H-128_A-2/1',\n",
    "    'small_bert/bert_en_uncased_L-8_H-256_A-4':\n",
    "        'https://tfhub.dev/tensorflow/small_bert/bert_en_uncased_L-8_H-256_A-4/1',\n",
    "    'small_bert/bert_en_uncased_L-8_H-512_A-8':\n",
    "        'https://tfhub.dev/tensorflow/small_bert/bert_en_uncased_L-8_H-512_A-8/1',\n",
    "    'small_bert/bert_en_uncased_L-8_H-768_A-12':\n",
    "        'https://tfhub.dev/tensorflow/small_bert/bert_en_uncased_L-8_H-768_A-12/1',\n",
    "    'small_bert/bert_en_uncased_L-10_H-128_A-2':\n",
    "        'https://tfhub.dev/tensorflow/small_bert/bert_en_uncased_L-10_H-128_A-2/1',\n",
    "    'small_bert/bert_en_uncased_L-10_H-256_A-4':\n",
    "        'https://tfhub.dev/tensorflow/small_bert/bert_en_uncased_L-10_H-256_A-4/1',\n",
    "    'small_bert/bert_en_uncased_L-10_H-512_A-8':\n",
    "        'https://tfhub.dev/tensorflow/small_bert/bert_en_uncased_L-10_H-512_A-8/1',\n",
    "    'small_bert/bert_en_uncased_L-10_H-768_A-12':\n",
    "        'https://tfhub.dev/tensorflow/small_bert/bert_en_uncased_L-10_H-768_A-12/1',\n",
    "    'small_bert/bert_en_uncased_L-12_H-128_A-2':\n",
    "        'https://tfhub.dev/tensorflow/small_bert/bert_en_uncased_L-12_H-128_A-2/1',\n",
    "    'small_bert/bert_en_uncased_L-12_H-256_A-4':\n",
    "        'https://tfhub.dev/tensorflow/small_bert/bert_en_uncased_L-12_H-256_A-4/1',\n",
    "    'small_bert/bert_en_uncased_L-12_H-512_A-8':\n",
    "        'https://tfhub.dev/tensorflow/small_bert/bert_en_uncased_L-12_H-512_A-8/1',\n",
    "    'small_bert/bert_en_uncased_L-12_H-768_A-12':\n",
    "        'https://tfhub.dev/tensorflow/small_bert/bert_en_uncased_L-12_H-768_A-12/1',\n",
    "    'albert_en_base':\n",
    "        'https://tfhub.dev/tensorflow/albert_en_base/2',\n",
    "    'electra_small':\n",
    "        'https://tfhub.dev/google/electra_small/2',\n",
    "    'electra_base':\n",
    "        'https://tfhub.dev/google/electra_base/2',\n",
    "    'experts_pubmed':\n",
    "        'https://tfhub.dev/google/experts/bert/pubmed/2',\n",
    "    'experts_wiki_books':\n",
    "        'https://tfhub.dev/google/experts/bert/wiki_books/2',\n",
    "    'talking-heads_base':\n",
    "        'https://tfhub.dev/tensorflow/talkheads_ggelu_bert_en_base/1',\n",
    "}\n",
    "\n",
    "map_model_to_preprocess = {\n",
    "    'bert_en_uncased_L-12_H-768_A-12':\n",
    "        'https://tfhub.dev/tensorflow/bert_en_uncased_preprocess/3',\n",
    "    'bert_en_cased_L-12_H-768_A-12':\n",
    "        'https://tfhub.dev/tensorflow/bert_en_cased_preprocess/3',\n",
    "    'small_bert/bert_en_uncased_L-2_H-128_A-2':\n",
    "        'https://tfhub.dev/tensorflow/bert_en_uncased_preprocess/3',\n",
    "    'small_bert/bert_en_uncased_L-2_H-256_A-4':\n",
    "        'https://tfhub.dev/tensorflow/bert_en_uncased_preprocess/3',\n",
    "    'small_bert/bert_en_uncased_L-2_H-512_A-8':\n",
    "        'https://tfhub.dev/tensorflow/bert_en_uncased_preprocess/3',\n",
    "    'small_bert/bert_en_uncased_L-2_H-768_A-12':\n",
    "        'https://tfhub.dev/tensorflow/bert_en_uncased_preprocess/3',\n",
    "    'small_bert/bert_en_uncased_L-4_H-128_A-2':\n",
    "        'https://tfhub.dev/tensorflow/bert_en_uncased_preprocess/3',\n",
    "    'small_bert/bert_en_uncased_L-4_H-256_A-4':\n",
    "        'https://tfhub.dev/tensorflow/bert_en_uncased_preprocess/3',\n",
    "    'small_bert/bert_en_uncased_L-4_H-512_A-8':\n",
    "        'https://tfhub.dev/tensorflow/bert_en_uncased_preprocess/3',\n",
    "    'small_bert/bert_en_uncased_L-4_H-768_A-12':\n",
    "        'https://tfhub.dev/tensorflow/bert_en_uncased_preprocess/3',\n",
    "    'small_bert/bert_en_uncased_L-6_H-128_A-2':\n",
    "        'https://tfhub.dev/tensorflow/bert_en_uncased_preprocess/3',\n",
    "    'small_bert/bert_en_uncased_L-6_H-256_A-4':\n",
    "        'https://tfhub.dev/tensorflow/bert_en_uncased_preprocess/3',\n",
    "    'small_bert/bert_en_uncased_L-6_H-512_A-8':\n",
    "        'https://tfhub.dev/tensorflow/bert_en_uncased_preprocess/3',\n",
    "    'small_bert/bert_en_uncased_L-6_H-768_A-12':\n",
    "        'https://tfhub.dev/tensorflow/bert_en_uncased_preprocess/3',\n",
    "    'small_bert/bert_en_uncased_L-8_H-128_A-2':\n",
    "        'https://tfhub.dev/tensorflow/bert_en_uncased_preprocess/3',\n",
    "    'small_bert/bert_en_uncased_L-8_H-256_A-4':\n",
    "        'https://tfhub.dev/tensorflow/bert_en_uncased_preprocess/3',\n",
    "    'small_bert/bert_en_uncased_L-8_H-512_A-8':\n",
    "        'https://tfhub.dev/tensorflow/bert_en_uncased_preprocess/3',\n",
    "    'small_bert/bert_en_uncased_L-8_H-768_A-12':\n",
    "        'https://tfhub.dev/tensorflow/bert_en_uncased_preprocess/3',\n",
    "    'small_bert/bert_en_uncased_L-10_H-128_A-2':\n",
    "        'https://tfhub.dev/tensorflow/bert_en_uncased_preprocess/3',\n",
    "    'small_bert/bert_en_uncased_L-10_H-256_A-4':\n",
    "        'https://tfhub.dev/tensorflow/bert_en_uncased_preprocess/3',\n",
    "    'small_bert/bert_en_uncased_L-10_H-512_A-8':\n",
    "        'https://tfhub.dev/tensorflow/bert_en_uncased_preprocess/3',\n",
    "    'small_bert/bert_en_uncased_L-10_H-768_A-12':\n",
    "        'https://tfhub.dev/tensorflow/bert_en_uncased_preprocess/3',\n",
    "    'small_bert/bert_en_uncased_L-12_H-128_A-2':\n",
    "        'https://tfhub.dev/tensorflow/bert_en_uncased_preprocess/3',\n",
    "    'small_bert/bert_en_uncased_L-12_H-256_A-4':\n",
    "        'https://tfhub.dev/tensorflow/bert_en_uncased_preprocess/3',\n",
    "    'small_bert/bert_en_uncased_L-12_H-512_A-8':\n",
    "        'https://tfhub.dev/tensorflow/bert_en_uncased_preprocess/3',\n",
    "    'small_bert/bert_en_uncased_L-12_H-768_A-12':\n",
    "        'https://tfhub.dev/tensorflow/bert_en_uncased_preprocess/3',\n",
    "    'bert_multi_cased_L-12_H-768_A-12':\n",
    "        'https://tfhub.dev/tensorflow/bert_multi_cased_preprocess/3',\n",
    "    'albert_en_base':\n",
    "        'https://tfhub.dev/tensorflow/albert_en_preprocess/3',\n",
    "    'electra_small':\n",
    "        'https://tfhub.dev/tensorflow/bert_en_uncased_preprocess/3',\n",
    "    'electra_base':\n",
    "        'https://tfhub.dev/tensorflow/bert_en_uncased_preprocess/3',\n",
    "    'experts_pubmed':\n",
    "        'https://tfhub.dev/tensorflow/bert_en_uncased_preprocess/3',\n",
    "    'experts_wiki_books':\n",
    "        'https://tfhub.dev/tensorflow/bert_en_uncased_preprocess/3',\n",
    "    'talking-heads_base':\n",
    "        'https://tfhub.dev/tensorflow/bert_en_uncased_preprocess/3',\n",
    "}\n",
    "\n",
    "tfhub_handle_encoder = map_name_to_handle[bert_model_name]\n",
    "tfhub_handle_preprocess = map_model_to_preprocess[bert_model_name]\n",
    "\n",
    "import tensorflow_hub as hub\n",
    "import tensorflow_text\n",
    "\n",
    "tfhub_handle_encoder = map_name_to_handle[bert_model_name]\n",
    "bert_preprocess_model = hub.KerasLayer(tfhub_handle_preprocess)\n",
    "tfhub_handle_preprocess = map_model_to_preprocess[bert_model_name]\n",
    "bert_model = hub.KerasLayer(tfhub_handle_encoder)"
   ]
  },
  {
   "cell_type": "code",
   "execution_count": 97,
   "metadata": {},
   "outputs": [],
   "source": [
    "# feature extraction for training questions set\n",
    "\n",
    "preprocess_train_ques = []\n",
    "bert_results_train = []\n",
    "\n",
    "for questions in dm.train_str_questions:\n",
    "    preprocess_train_ques.append(bert_preprocess_model([questions]))\n",
    "\n",
    "for process_questions in preprocess_train_ques:\n",
    "    temp = ( bert_model(process_questions))\n",
    "    bert_results_train.append(temp['pooled_output'].numpy()[0])\n"
   ]
  },
  {
   "cell_type": "code",
   "execution_count": 103,
   "metadata": {},
   "outputs": [],
   "source": [
    "# feature extraction for validation questions set\n",
    "preprocess_valid_ques = []\n",
    "bert_results_valid = []\n",
    "\n",
    "for questions in dm.valid_str_questions:\n",
    "    preprocess_valid_ques.append(bert_preprocess_model([questions]))\n",
    "\n",
    "for process_questions in preprocess_valid_ques:\n",
    "    temp = (bert_model(process_questions))\n",
    "    bert_results_valid.append(temp['pooled_output'].numpy()[0])"
   ]
  },
  {
   "cell_type": "markdown",
   "metadata": {},
   "source": [
    "#### <span style=\"color:red\">**Question 4.2**</span>\n",
    "**Use Logistic Regression to train on the training set and then evaluate on the valid set.**\n",
    "<div style=\"text-align: right\"><span style=\"color:red\">[4 points]</span></div>"
   ]
  },
  {
   "cell_type": "code",
   "execution_count": 102,
   "metadata": {},
   "outputs": [
    {
     "data": {
      "text/html": [
       "<style>#sk-container-id-5 {color: black;background-color: white;}#sk-container-id-5 pre{padding: 0;}#sk-container-id-5 div.sk-toggleable {background-color: white;}#sk-container-id-5 label.sk-toggleable__label {cursor: pointer;display: block;width: 100%;margin-bottom: 0;padding: 0.3em;box-sizing: border-box;text-align: center;}#sk-container-id-5 label.sk-toggleable__label-arrow:before {content: \"▸\";float: left;margin-right: 0.25em;color: #696969;}#sk-container-id-5 label.sk-toggleable__label-arrow:hover:before {color: black;}#sk-container-id-5 div.sk-estimator:hover label.sk-toggleable__label-arrow:before {color: black;}#sk-container-id-5 div.sk-toggleable__content {max-height: 0;max-width: 0;overflow: hidden;text-align: left;background-color: #f0f8ff;}#sk-container-id-5 div.sk-toggleable__content pre {margin: 0.2em;color: black;border-radius: 0.25em;background-color: #f0f8ff;}#sk-container-id-5 input.sk-toggleable__control:checked~div.sk-toggleable__content {max-height: 200px;max-width: 100%;overflow: auto;}#sk-container-id-5 input.sk-toggleable__control:checked~label.sk-toggleable__label-arrow:before {content: \"▾\";}#sk-container-id-5 div.sk-estimator input.sk-toggleable__control:checked~label.sk-toggleable__label {background-color: #d4ebff;}#sk-container-id-5 div.sk-label input.sk-toggleable__control:checked~label.sk-toggleable__label {background-color: #d4ebff;}#sk-container-id-5 input.sk-hidden--visually {border: 0;clip: rect(1px 1px 1px 1px);clip: rect(1px, 1px, 1px, 1px);height: 1px;margin: -1px;overflow: hidden;padding: 0;position: absolute;width: 1px;}#sk-container-id-5 div.sk-estimator {font-family: monospace;background-color: #f0f8ff;border: 1px dotted black;border-radius: 0.25em;box-sizing: border-box;margin-bottom: 0.5em;}#sk-container-id-5 div.sk-estimator:hover {background-color: #d4ebff;}#sk-container-id-5 div.sk-parallel-item::after {content: \"\";width: 100%;border-bottom: 1px solid gray;flex-grow: 1;}#sk-container-id-5 div.sk-label:hover label.sk-toggleable__label {background-color: #d4ebff;}#sk-container-id-5 div.sk-serial::before {content: \"\";position: absolute;border-left: 1px solid gray;box-sizing: border-box;top: 0;bottom: 0;left: 50%;z-index: 0;}#sk-container-id-5 div.sk-serial {display: flex;flex-direction: column;align-items: center;background-color: white;padding-right: 0.2em;padding-left: 0.2em;position: relative;}#sk-container-id-5 div.sk-item {position: relative;z-index: 1;}#sk-container-id-5 div.sk-parallel {display: flex;align-items: stretch;justify-content: center;background-color: white;position: relative;}#sk-container-id-5 div.sk-item::before, #sk-container-id-5 div.sk-parallel-item::before {content: \"\";position: absolute;border-left: 1px solid gray;box-sizing: border-box;top: 0;bottom: 0;left: 50%;z-index: -1;}#sk-container-id-5 div.sk-parallel-item {display: flex;flex-direction: column;z-index: 1;position: relative;background-color: white;}#sk-container-id-5 div.sk-parallel-item:first-child::after {align-self: flex-end;width: 50%;}#sk-container-id-5 div.sk-parallel-item:last-child::after {align-self: flex-start;width: 50%;}#sk-container-id-5 div.sk-parallel-item:only-child::after {width: 0;}#sk-container-id-5 div.sk-dashed-wrapped {border: 1px dashed gray;margin: 0 0.4em 0.5em 0.4em;box-sizing: border-box;padding-bottom: 0.4em;background-color: white;}#sk-container-id-5 div.sk-label label {font-family: monospace;font-weight: bold;display: inline-block;line-height: 1.2em;}#sk-container-id-5 div.sk-label-container {text-align: center;}#sk-container-id-5 div.sk-container {/* jupyter's `normalize.less` sets `[hidden] { display: none; }` but bootstrap.min.css set `[hidden] { display: none !important; }` so we also need the `!important` here to be able to override the default hidden behavior on the sphinx rendered scikit-learn.org. See: https://github.com/scikit-learn/scikit-learn/issues/21755 */display: inline-block !important;position: relative;}#sk-container-id-5 div.sk-text-repr-fallback {display: none;}</style><div id=\"sk-container-id-5\" class=\"sk-top-container\"><div class=\"sk-text-repr-fallback\"><pre>LogisticRegression(max_iter=10000, multi_class=&#x27;multinomial&#x27;)</pre><b>In a Jupyter environment, please rerun this cell to show the HTML representation or trust the notebook. <br />On GitHub, the HTML representation is unable to render, please try loading this page with nbviewer.org.</b></div><div class=\"sk-container\" hidden><div class=\"sk-item\"><div class=\"sk-estimator sk-toggleable\"><input class=\"sk-toggleable__control sk-hidden--visually\" id=\"sk-estimator-id-5\" type=\"checkbox\" checked><label for=\"sk-estimator-id-5\" class=\"sk-toggleable__label sk-toggleable__label-arrow\">LogisticRegression</label><div class=\"sk-toggleable__content\"><pre>LogisticRegression(max_iter=10000, multi_class=&#x27;multinomial&#x27;)</pre></div></div></div></div></div>"
      ],
      "text/plain": [
       "LogisticRegression(max_iter=10000, multi_class='multinomial')"
      ]
     },
     "execution_count": 102,
     "metadata": {},
     "output_type": "execute_result"
    }
   ],
   "source": [
    "from sklearn.linear_model import LogisticRegression\n",
    "model = LogisticRegression(multi_class='multinomial', solver='lbfgs',max_iter=10000)\n",
    "model.fit(bert_results_train,dm.train_numeral_labels)"
   ]
  },
  {
   "cell_type": "code",
   "execution_count": 110,
   "metadata": {},
   "outputs": [
    {
     "data": {
      "text/plain": [
       "0.7491638795986622"
      ]
     },
     "execution_count": 110,
     "metadata": {},
     "output_type": "execute_result"
    }
   ],
   "source": [
    "from sklearn.metrics import classification_report, confusion_matrix\n",
    "# p_pred = model.predict_proba(bert_results_valid)\n",
    "# y_pred = model.predict(bert_results_valid)\n",
    "score = model.score(bert_results_valid, dm.valid_numeral_labels)\n",
    "score"
   ]
  },
  {
   "cell_type": "markdown",
   "metadata": {},
   "source": [
    "## <span style=\"color:#0b486b\">Part 5: RNNs for sequence modeling and neural embedding </span>\n",
    "\n",
    "<div style=\"text-align: right\"><span style=\"color:red; font-weight:bold\">[Total marks for this part: 55 points]<span></div>"
   ]
  },
  {
   "cell_type": "markdown",
   "metadata": {},
   "source": [
    "### <span style=\"color:#0b486b\">5.1. One-directional RNNs for sequence modeling and neural embedding </span> ###\n",
    "\n",
    "<div style=\"text-align: right\"><span style=\"color:red; font-weight:bold\">[Total marks for this part: 10 points]<span></div>"
   ]
  },
  {
   "cell_type": "markdown",
   "metadata": {},
   "source": [
    "#### <span style=\"color:red\">**Question 5.1.1**</span> \n",
    "**In this part, you need to construct an RNN to learn from the dataset of interest. Basically, you are required first to construct the class UniRNN (Uni-directional RNN) with the following requirements:**\n",
    "- Attribute `data_manager (self.data_manager)`: specifies the data manager used to store data for the model.\n",
    "- Attribute `cell_type (self.cell_type)`: can receive three values including `basic_rnn`, `gru`, and `lstm` which specifies the memory cells formed a hidden layer.\n",
    "- `state_sizes (self.state_sizes)` indicates the list of the hidden sizes  of memory cells. For example, $state\\_sizes = [64, 128]$ means that you have two hidden layers in your network with hidden sizes of $64$ and $128$ respectively.\n",
    "\n",
    "**Note that when declaring an embedding layer for the network, you need to set *mask_zero=True* so that the padding zeros in the sentences will be masked and ignored. This helps to have variable length RNNs. For more detail, you can refer to this [link](https://www.tensorflow.org/guide/keras/masking_and_padding).**\n",
    "\n",
    "<div style=\"text-align: right\"><span style=\"color:red\">[7 points]</span></div>"
   ]
  },
  {
   "cell_type": "code",
   "execution_count": 20,
   "metadata": {},
   "outputs": [],
   "source": [
    "class UniRNN:\n",
    "    def __init__(self, cell_type= 'gru', embed_size= 128, state_sizes= [128, 64], data_manager= None):\n",
    "        self.cell_type = cell_type\n",
    "        self.state_sizes = state_sizes\n",
    "        self.embed_size = embed_size\n",
    "        self.data_manager = data_manager\n",
    "        self.vocab_size = self.data_manager.vocab_size +1 \n",
    "        \n",
    "    #return the correspoding memory cell\n",
    "    @staticmethod\n",
    "    def get_layer(cell_type= 'gru', state_size= 128, return_sequences= False, activation = 'tanh'):\n",
    "        if cell_type=='gru':\n",
    "            return tf.keras.layers.GRU(state_size,return_sequences = return_sequences, activation = activation)\n",
    "        elif cell_type== 'lstm':\n",
    "            return tf.keras.layers.LSTM(state_size,return_sequences = return_sequences, activation = activation)\n",
    "        else:\n",
    "            return tf.keras.layers.SimpleRNN(state_size,return_sequences = return_sequences, activation = activation)\n",
    "    \n",
    "    def build(self):\n",
    "        x = tf.keras.layers.Input(shape=[None])\n",
    "        h = tf.keras.layers.Embedding(self.vocab_size, self.embed_size,mask_zero=True)(x)\n",
    "        num_layers = len(self.state_sizes)\n",
    "        for i in range(num_layers):\n",
    "            cell = self.cell_type\n",
    "            state = self.state_sizes[i]\n",
    "            if i == num_layers-1:\n",
    "                h= self.get_layer(cell_type = cell, state_size = state,return_sequences=False)(h)\n",
    "            else:\n",
    "                h= self.get_layer(cell_type = cell, state_size = state,return_sequences=True)(h)\n",
    "        h = tf.keras.layers.Dense(dm.num_classes, activation='softmax')(h)\n",
    "        self.model = tf.keras.Model(inputs=x, outputs=h)\n",
    "   \n",
    "    def compile_model(self, *args, **kwargs):\n",
    "        self.model.compile(*args, **kwargs)\n",
    "    \n",
    "    def fit(self, *args, **kwargs):\n",
    "        return self.model.fit(*args, **kwargs)\n",
    "    \n",
    "    def evaluate(self, *args, **kwargs):\n",
    "        self.model.evaluate(*args, **kwargs)       \n",
    "         \n"
   ]
  },
  {
   "cell_type": "markdown",
   "metadata": {},
   "source": [
    "#### <span style=\"color:red\">**Question 5.1.2**</span> \n",
    "**Run with basic RNN ('basic_rnn') cell with $embed\\_size= 128, state\\_sizes= [64, 128], data\\_manager= dm$.**\n",
    "\n",
    "<div style=\"text-align: right\"><span style=\"color:red\">[1 points]</span></div>"
   ]
  },
  {
   "cell_type": "code",
   "execution_count": 21,
   "metadata": {},
   "outputs": [
    {
     "name": "stdout",
     "output_type": "stream",
     "text": [
      "Epoch 1/20\n",
      "19/19 [==============================] - 6s 145ms/step - loss: 1.0017 - accuracy: 0.6503 - val_loss: 0.4741 - val_accuracy: 0.9164\n",
      "Epoch 2/20\n",
      "19/19 [==============================] - 2s 119ms/step - loss: 0.2602 - accuracy: 0.9276 - val_loss: 0.2285 - val_accuracy: 0.9298\n",
      "Epoch 3/20\n",
      "19/19 [==============================] - 2s 116ms/step - loss: 0.1210 - accuracy: 0.9659 - val_loss: 0.1978 - val_accuracy: 0.9365\n",
      "Epoch 4/20\n",
      "19/19 [==============================] - 3s 171ms/step - loss: 0.1441 - accuracy: 0.9584 - val_loss: 0.1375 - val_accuracy: 0.9565\n",
      "Epoch 5/20\n",
      "19/19 [==============================] - 3s 176ms/step - loss: 0.0908 - accuracy: 0.9784 - val_loss: 0.1044 - val_accuracy: 0.9666\n",
      "Epoch 6/20\n",
      "19/19 [==============================] - 3s 167ms/step - loss: 0.0224 - accuracy: 0.9958 - val_loss: 0.0973 - val_accuracy: 0.9666\n",
      "Epoch 7/20\n",
      "19/19 [==============================] - 3s 165ms/step - loss: 0.0160 - accuracy: 0.9975 - val_loss: 0.1273 - val_accuracy: 0.9632\n",
      "Epoch 8/20\n",
      "19/19 [==============================] - 3s 158ms/step - loss: 0.0049 - accuracy: 1.0000 - val_loss: 0.0718 - val_accuracy: 0.9699\n",
      "Epoch 9/20\n",
      "19/19 [==============================] - 3s 150ms/step - loss: 0.0020 - accuracy: 1.0000 - val_loss: 0.0737 - val_accuracy: 0.9666\n",
      "Epoch 10/20\n",
      "19/19 [==============================] - 3s 157ms/step - loss: 0.0486 - accuracy: 0.9875 - val_loss: 0.0955 - val_accuracy: 0.9699\n",
      "Epoch 11/20\n",
      "19/19 [==============================] - 3s 153ms/step - loss: 0.0199 - accuracy: 0.9950 - val_loss: 0.0966 - val_accuracy: 0.9632\n",
      "Epoch 12/20\n",
      "19/19 [==============================] - 3s 162ms/step - loss: 9.5653e-04 - accuracy: 1.0000 - val_loss: 0.0900 - val_accuracy: 0.9699\n",
      "Epoch 13/20\n",
      "19/19 [==============================] - 3s 160ms/step - loss: 5.7472e-04 - accuracy: 1.0000 - val_loss: 0.0882 - val_accuracy: 0.9732\n",
      "Epoch 14/20\n",
      "19/19 [==============================] - 3s 152ms/step - loss: 3.8748e-04 - accuracy: 1.0000 - val_loss: 0.0909 - val_accuracy: 0.9732\n",
      "Epoch 15/20\n",
      "19/19 [==============================] - 3s 156ms/step - loss: 2.4527e-04 - accuracy: 1.0000 - val_loss: 0.0952 - val_accuracy: 0.9699\n",
      "Epoch 16/20\n",
      "19/19 [==============================] - 3s 154ms/step - loss: 1.3985e-04 - accuracy: 1.0000 - val_loss: 0.1022 - val_accuracy: 0.9699\n",
      "Epoch 17/20\n",
      "19/19 [==============================] - 3s 161ms/step - loss: 7.1927e-05 - accuracy: 1.0000 - val_loss: 0.1092 - val_accuracy: 0.9732\n",
      "Epoch 18/20\n",
      "19/19 [==============================] - 3s 173ms/step - loss: 3.4543e-05 - accuracy: 1.0000 - val_loss: 0.1159 - val_accuracy: 0.9766\n",
      "Epoch 19/20\n",
      "19/19 [==============================] - 3s 158ms/step - loss: 1.6268e-05 - accuracy: 1.0000 - val_loss: 0.1219 - val_accuracy: 0.9766\n",
      "Epoch 20/20\n",
      "19/19 [==============================] - 3s 154ms/step - loss: 7.6635e-06 - accuracy: 1.0000 - val_loss: 0.1266 - val_accuracy: 0.9766\n"
     ]
    },
    {
     "data": {
      "text/plain": [
       "<keras.callbacks.History at 0x233359b67c0>"
      ]
     },
     "execution_count": 21,
     "metadata": {},
     "output_type": "execute_result"
    }
   ],
   "source": [
    "uni_rnn = UniRNN(cell_type = 'basic_rnn', embed_size= 128, state_sizes= [128, 64], data_manager= dm )\n",
    "uni_rnn.build()\n",
    "opt = tf.keras.optimizers.RMSprop(learning_rate=0.001)\n",
    "uni_rnn.compile_model(optimizer=opt, loss='sparse_categorical_crossentropy', metrics=['accuracy'])\n",
    "uni_rnn.fit(dm.tf_train_set.batch(64), epochs=20, validation_data = dm.tf_valid_set.batch(64))"
   ]
  },
  {
   "cell_type": "markdown",
   "metadata": {},
   "source": [
    "#### <span style=\"color:red\">**Question 5.1.3**</span> \n",
    "**Run with GRU ('gru') cell with $embed\\_size= 128, state\\_sizes= [64, 128], data\\_manager= dm$.**\n",
    "\n",
    "<div style=\"text-align: right\"><span style=\"color:red\">[1 points]</span></div>"
   ]
  },
  {
   "cell_type": "code",
   "execution_count": 42,
   "metadata": {},
   "outputs": [
    {
     "name": "stdout",
     "output_type": "stream",
     "text": [
      "Epoch 1/20\n",
      "19/19 [==============================] - 37s 780ms/step - loss: 1.5545 - accuracy: 0.3505 - val_loss: 1.1860 - val_accuracy: 0.5987\n",
      "Epoch 2/20\n",
      "19/19 [==============================] - 6s 341ms/step - loss: 0.7893 - accuracy: 0.7219 - val_loss: 0.5065 - val_accuracy: 0.8896\n",
      "Epoch 3/20\n",
      "19/19 [==============================] - 7s 372ms/step - loss: 0.2429 - accuracy: 0.9384 - val_loss: 0.2632 - val_accuracy: 0.9231\n",
      "Epoch 4/20\n",
      "19/19 [==============================] - 7s 369ms/step - loss: 0.0960 - accuracy: 0.9742 - val_loss: 0.2097 - val_accuracy: 0.9365\n",
      "Epoch 5/20\n",
      "19/19 [==============================] - 7s 365ms/step - loss: 0.0506 - accuracy: 0.9883 - val_loss: 0.1708 - val_accuracy: 0.9565\n",
      "Epoch 6/20\n",
      "19/19 [==============================] - 7s 358ms/step - loss: 0.0516 - accuracy: 0.9858 - val_loss: 0.1464 - val_accuracy: 0.9632\n",
      "Epoch 7/20\n",
      "19/19 [==============================] - 7s 359ms/step - loss: 0.0122 - accuracy: 0.9992 - val_loss: 0.1474 - val_accuracy: 0.9666\n",
      "Epoch 8/20\n",
      "19/19 [==============================] - 7s 367ms/step - loss: 0.0064 - accuracy: 1.0000 - val_loss: 0.1496 - val_accuracy: 0.9666\n",
      "Epoch 9/20\n",
      "19/19 [==============================] - 7s 364ms/step - loss: 0.0032 - accuracy: 1.0000 - val_loss: 0.1597 - val_accuracy: 0.9666\n",
      "Epoch 10/20\n",
      "19/19 [==============================] - 7s 369ms/step - loss: 0.0016 - accuracy: 1.0000 - val_loss: 0.1725 - val_accuracy: 0.9666\n",
      "Epoch 11/20\n",
      "19/19 [==============================] - 7s 359ms/step - loss: 7.4182e-04 - accuracy: 1.0000 - val_loss: 0.1943 - val_accuracy: 0.9666\n",
      "Epoch 12/20\n",
      "19/19 [==============================] - 7s 359ms/step - loss: 3.5157e-04 - accuracy: 1.0000 - val_loss: 0.2022 - val_accuracy: 0.9632\n",
      "Epoch 13/20\n",
      "19/19 [==============================] - 7s 354ms/step - loss: 1.6432e-04 - accuracy: 1.0000 - val_loss: 0.2266 - val_accuracy: 0.9666\n",
      "Epoch 14/20\n",
      "19/19 [==============================] - 7s 366ms/step - loss: 7.8859e-05 - accuracy: 1.0000 - val_loss: 0.2483 - val_accuracy: 0.9666\n",
      "Epoch 15/20\n",
      "19/19 [==============================] - 6s 291ms/step - loss: 3.8686e-05 - accuracy: 1.0000 - val_loss: 0.2661 - val_accuracy: 0.9666\n",
      "Epoch 16/20\n",
      "19/19 [==============================] - 6s 305ms/step - loss: 1.9276e-05 - accuracy: 1.0000 - val_loss: 0.2815 - val_accuracy: 0.9666\n",
      "Epoch 17/20\n",
      "19/19 [==============================] - 5s 290ms/step - loss: 9.9619e-06 - accuracy: 1.0000 - val_loss: 0.2947 - val_accuracy: 0.9666\n",
      "Epoch 18/20\n",
      "19/19 [==============================] - 6s 326ms/step - loss: 5.3556e-06 - accuracy: 1.0000 - val_loss: 0.3074 - val_accuracy: 0.9666\n",
      "Epoch 19/20\n",
      "19/19 [==============================] - 6s 297ms/step - loss: 3.0080e-06 - accuracy: 1.0000 - val_loss: 0.3208 - val_accuracy: 0.9666\n",
      "Epoch 20/20\n",
      "19/19 [==============================] - 6s 308ms/step - loss: 1.7320e-06 - accuracy: 1.0000 - val_loss: 0.3344 - val_accuracy: 0.9666\n"
     ]
    },
    {
     "data": {
      "text/plain": [
       "<keras.callbacks.History at 0x1d765b0ea30>"
      ]
     },
     "execution_count": 42,
     "metadata": {},
     "output_type": "execute_result"
    }
   ],
   "source": [
    "uni_rnn = UniRNN(cell_type = 'gru', embed_size= 128, state_sizes= [128, 64], data_manager= dm )\n",
    "uni_rnn.build()\n",
    "opt = tf.keras.optimizers.RMSprop(learning_rate=0.001)\n",
    "uni_rnn.compile_model(optimizer=opt, loss='sparse_categorical_crossentropy', metrics=['accuracy'])\n",
    "uni_rnn.fit(dm.tf_train_set.batch(64), epochs=20, validation_data = dm.tf_valid_set.batch(64))"
   ]
  },
  {
   "cell_type": "markdown",
   "metadata": {},
   "source": [
    "#### <span style=\"color:red\">**Question 5.1.4**</span> \n",
    "**Run with LSTM ('lstm') cell with $embed\\_size= 128, state\\_sizes= [64, 128], data\\_manager= dm$.**\n",
    "\n",
    "<div style=\"text-align: right\"><span style=\"color:red\">[1 points]</span></div>"
   ]
  },
  {
   "cell_type": "code",
   "execution_count": 36,
   "metadata": {},
   "outputs": [
    {
     "name": "stdout",
     "output_type": "stream",
     "text": [
      "Epoch 1/20\n",
      "19/19 [==============================] - 17s 478ms/step - loss: 1.5525 - accuracy: 0.3297 - val_loss: 1.0016 - val_accuracy: 0.7291\n",
      "Epoch 2/20\n",
      "19/19 [==============================] - 5s 272ms/step - loss: 0.8020 - accuracy: 0.7452 - val_loss: 0.5261 - val_accuracy: 0.8562\n",
      "Epoch 3/20\n",
      "19/19 [==============================] - 5s 263ms/step - loss: 0.2916 - accuracy: 0.9309 - val_loss: 0.2495 - val_accuracy: 0.9164\n",
      "Epoch 4/20\n",
      "19/19 [==============================] - 5s 276ms/step - loss: 0.1077 - accuracy: 0.9700 - val_loss: 0.1928 - val_accuracy: 0.9398\n",
      "Epoch 5/20\n",
      "19/19 [==============================] - 5s 272ms/step - loss: 0.0436 - accuracy: 0.9925 - val_loss: 0.1289 - val_accuracy: 0.9565\n",
      "Epoch 6/20\n",
      "19/19 [==============================] - 5s 265ms/step - loss: 0.0160 - accuracy: 0.9992 - val_loss: 0.1087 - val_accuracy: 0.9666\n",
      "Epoch 7/20\n",
      "19/19 [==============================] - 5s 268ms/step - loss: 0.0066 - accuracy: 0.9992 - val_loss: 0.1171 - val_accuracy: 0.9666\n",
      "Epoch 8/20\n",
      "19/19 [==============================] - 5s 265ms/step - loss: 0.0034 - accuracy: 1.0000 - val_loss: 0.1224 - val_accuracy: 0.9599\n",
      "Epoch 9/20\n",
      "19/19 [==============================] - 5s 262ms/step - loss: 0.0155 - accuracy: 0.9958 - val_loss: 0.1351 - val_accuracy: 0.9699\n",
      "Epoch 10/20\n",
      "19/19 [==============================] - 5s 292ms/step - loss: 9.4609e-04 - accuracy: 1.0000 - val_loss: 0.1423 - val_accuracy: 0.9699\n",
      "Epoch 11/20\n",
      "19/19 [==============================] - 6s 306ms/step - loss: 5.6474e-04 - accuracy: 1.0000 - val_loss: 0.1504 - val_accuracy: 0.9666\n",
      "Epoch 12/20\n",
      "19/19 [==============================] - 5s 265ms/step - loss: 3.6623e-04 - accuracy: 1.0000 - val_loss: 0.1583 - val_accuracy: 0.9666\n",
      "Epoch 13/20\n",
      "19/19 [==============================] - 5s 261ms/step - loss: 2.2140e-04 - accuracy: 1.0000 - val_loss: 0.1675 - val_accuracy: 0.9666\n",
      "Epoch 14/20\n",
      "19/19 [==============================] - 5s 275ms/step - loss: 1.2425e-04 - accuracy: 1.0000 - val_loss: 0.1773 - val_accuracy: 0.9666\n",
      "Epoch 15/20\n",
      "19/19 [==============================] - 5s 257ms/step - loss: 6.6139e-05 - accuracy: 1.0000 - val_loss: 0.1881 - val_accuracy: 0.9666\n",
      "Epoch 16/20\n",
      "19/19 [==============================] - 5s 267ms/step - loss: 3.4133e-05 - accuracy: 1.0000 - val_loss: 0.1989 - val_accuracy: 0.9666\n",
      "Epoch 17/20\n",
      "19/19 [==============================] - 5s 289ms/step - loss: 1.7416e-05 - accuracy: 1.0000 - val_loss: 0.2089 - val_accuracy: 0.9666\n",
      "Epoch 18/20\n",
      "19/19 [==============================] - 5s 273ms/step - loss: 8.9645e-06 - accuracy: 1.0000 - val_loss: 0.2179 - val_accuracy: 0.9666\n",
      "Epoch 19/20\n",
      "19/19 [==============================] - 5s 264ms/step - loss: 4.7408e-06 - accuracy: 1.0000 - val_loss: 0.2261 - val_accuracy: 0.9666\n",
      "Epoch 20/20\n",
      "19/19 [==============================] - 5s 274ms/step - loss: 2.6114e-06 - accuracy: 1.0000 - val_loss: 0.2339 - val_accuracy: 0.9666\n"
     ]
    },
    {
     "data": {
      "text/plain": [
       "<keras.callbacks.History at 0x1d7308c58b0>"
      ]
     },
     "execution_count": 36,
     "metadata": {},
     "output_type": "execute_result"
    }
   ],
   "source": [
    "uni_rnn = UniRNN(cell_type = 'lstm', embed_size= 128, state_sizes= [128, 64], data_manager= dm )\n",
    "uni_rnn.build()\n",
    "opt = tf.keras.optimizers.RMSprop(learning_rate=0.001)\n",
    "uni_rnn.compile_model(optimizer=opt, loss='sparse_categorical_crossentropy', metrics=['accuracy'])\n",
    "uni_rnn.fit(dm.tf_train_set.batch(64), epochs=20, validation_data = dm.tf_valid_set.batch(64))"
   ]
  },
  {
   "cell_type": "markdown",
   "metadata": {},
   "source": [
    "### <span style=\"color:#0b486b\">5.2. Bi-directional RNNs for sequence modeling and neural embedding </span> ###\n",
    "\n",
    "<div style=\"text-align: right\"><span style=\"color:red; font-weight:bold\">[Total marks for this part: 10 points]<span></div>"
   ]
  },
  {
   "cell_type": "markdown",
   "metadata": {},
   "source": [
    "#### <span style=\"color:red\">**Question 5.2.1**</span> \n",
    "**In what follow, you will investigate BiRNN. The task is similar to Part 5.1 but you need to write the code for an BiRNN. Note that the function *get_layer(cell_type= 'gru', state_size= 128, return_sequences= False, activation = 'tanh')* has to return the hidden layer with bidirectional memory cells (e.g., Basic RNN, GRU, and LSTM cells).**\n",
    "\n",
    "**Complete the code of the class *BiRNN*. Note that for the embedding layer you need to set *mask_zero=True*.**\n",
    "\n",
    "<div style=\"text-align: right\"><span style=\"color:red\">[7 points]</span></div>"
   ]
  },
  {
   "cell_type": "code",
   "execution_count": 22,
   "metadata": {},
   "outputs": [],
   "source": [
    "class BiRNN:\n",
    "    def __init__(self, cell_type= 'gru', embed_size= 128, state_sizes= [128, 64], data_manager= None):\n",
    "        self.cell_type = cell_type\n",
    "        self.state_sizes = state_sizes\n",
    "        self.embed_size = embed_size\n",
    "        self.data_manager = data_manager\n",
    "        self.vocab_size = self.data_manager.vocab_size +1\n",
    "        \n",
    "    @staticmethod\n",
    "    def get_layer(cell_type= 'gru', state_size= 128, return_sequences= False, activation = 'tanh'):\n",
    "        if cell_type=='gru':\n",
    "            return tf.keras.layers.Bidirectional(tf.keras.layers.GRU(state_size,return_sequences = return_sequences, activation = activation))\n",
    "        elif cell_type== 'lstm':\n",
    "            return  tf.keras.layers.Bidirectional(tf.keras.layers.LSTM(state_size,return_sequences = return_sequences, activation = activation))\n",
    "        else:\n",
    "            return  tf.keras.layers.Bidirectional(tf.keras.layers.SimpleRNN(state_size,return_sequences = return_sequences, activation = activation))\n",
    "    \n",
    "    def build(self):\n",
    "        x = tf.keras.layers.Input(shape=[None])\n",
    "        h = tf.keras.layers.Embedding(self.vocab_size, self.embed_size,mask_zero=True)(x)\n",
    "        num_layers = len(self.state_sizes)\n",
    "        for i in range(num_layers):\n",
    "            cell = self.cell_type\n",
    "            state = self.state_sizes[i]\n",
    "            if i == num_layers-1:\n",
    "                h= self.get_layer(cell_type = cell, state_size = state,return_sequences=False)(h)\n",
    "            else:\n",
    "                h= self.get_layer(cell_type = cell, state_size = state,return_sequences=True)(h)\n",
    "        h = tf.keras.layers.Dense(dm.num_classes, activation='softmax')(h)\n",
    "        self.model = tf.keras.Model(inputs=x, outputs=h)\n",
    "        \n",
    "    \n",
    "    def compile_model(self, *args, **kwargs):\n",
    "        self.model.compile(*args, **kwargs)\n",
    "    \n",
    "    def fit(self, *args, **kwargs):\n",
    "        return self.model.fit(*args, **kwargs)\n",
    "    \n",
    "    def evaluate(self, *args, **kwargs):\n",
    "        self.model.evaluate(*args, **kwargs)       \n"
   ]
  },
  {
   "cell_type": "markdown",
   "metadata": {},
   "source": [
    "#### <span style=\"color:red\">**Question 5.2.2**</span> \n",
    "**Run BiRNN for basic RNN ('basic_rnn') cell with $embed\\_size= 128, state\\_sizes= [64, 128], data\\_manager= dm$.**\n",
    "\n",
    "<div style=\"text-align: right\"><span style=\"color:red\">[1 points]</span></div>"
   ]
  },
  {
   "cell_type": "code",
   "execution_count": 43,
   "metadata": {},
   "outputs": [
    {
     "name": "stdout",
     "output_type": "stream",
     "text": [
      "Epoch 1/20\n",
      "19/19 [==============================] - 7s 201ms/step - loss: 1.0866 - accuracy: 0.6328 - val_loss: 0.4932 - val_accuracy: 0.9164\n",
      "Epoch 2/20\n",
      "19/19 [==============================] - 3s 166ms/step - loss: 0.2903 - accuracy: 0.9359 - val_loss: 0.2844 - val_accuracy: 0.9298\n",
      "Epoch 3/20\n",
      "19/19 [==============================] - 3s 169ms/step - loss: 0.1448 - accuracy: 0.9592 - val_loss: 0.1781 - val_accuracy: 0.9565\n",
      "Epoch 4/20\n",
      "19/19 [==============================] - 3s 171ms/step - loss: 0.0638 - accuracy: 0.9850 - val_loss: 0.1839 - val_accuracy: 0.9398\n",
      "Epoch 5/20\n",
      "19/19 [==============================] - 3s 176ms/step - loss: 0.0320 - accuracy: 0.9958 - val_loss: 0.1656 - val_accuracy: 0.9632\n",
      "Epoch 6/20\n",
      "19/19 [==============================] - 3s 166ms/step - loss: 0.0357 - accuracy: 0.9917 - val_loss: 0.1052 - val_accuracy: 0.9699\n",
      "Epoch 7/20\n",
      "19/19 [==============================] - 3s 160ms/step - loss: 0.0068 - accuracy: 1.0000 - val_loss: 0.0833 - val_accuracy: 0.9799\n",
      "Epoch 8/20\n",
      "19/19 [==============================] - 3s 167ms/step - loss: 0.0036 - accuracy: 1.0000 - val_loss: 0.0847 - val_accuracy: 0.9732\n",
      "Epoch 9/20\n",
      "19/19 [==============================] - 3s 178ms/step - loss: 0.0014 - accuracy: 1.0000 - val_loss: 0.0869 - val_accuracy: 0.9599\n",
      "Epoch 10/20\n",
      "19/19 [==============================] - 3s 173ms/step - loss: 6.5336e-04 - accuracy: 1.0000 - val_loss: 0.0902 - val_accuracy: 0.9632\n",
      "Epoch 11/20\n",
      "19/19 [==============================] - 3s 177ms/step - loss: 2.8658e-04 - accuracy: 1.0000 - val_loss: 0.1019 - val_accuracy: 0.9699\n",
      "Epoch 12/20\n",
      "19/19 [==============================] - 3s 165ms/step - loss: 0.0115 - accuracy: 0.9975 - val_loss: 0.2818 - val_accuracy: 0.9231\n",
      "Epoch 13/20\n",
      "19/19 [==============================] - 3s 173ms/step - loss: 0.0981 - accuracy: 0.9775 - val_loss: 0.0970 - val_accuracy: 0.9799\n",
      "Epoch 14/20\n",
      "19/19 [==============================] - 3s 171ms/step - loss: 0.0023 - accuracy: 0.9983 - val_loss: 0.1044 - val_accuracy: 0.9699\n",
      "Epoch 15/20\n",
      "19/19 [==============================] - 3s 170ms/step - loss: 0.0333 - accuracy: 0.9892 - val_loss: 0.1050 - val_accuracy: 0.9632\n",
      "Epoch 16/20\n",
      "19/19 [==============================] - 3s 165ms/step - loss: 3.7496e-04 - accuracy: 1.0000 - val_loss: 0.0929 - val_accuracy: 0.9732\n",
      "Epoch 17/20\n",
      "19/19 [==============================] - 3s 167ms/step - loss: 1.7959e-04 - accuracy: 1.0000 - val_loss: 0.0912 - val_accuracy: 0.9732\n",
      "Epoch 18/20\n",
      "19/19 [==============================] - 3s 175ms/step - loss: 1.2373e-04 - accuracy: 1.0000 - val_loss: 0.0909 - val_accuracy: 0.9766\n",
      "Epoch 19/20\n",
      "19/19 [==============================] - 3s 179ms/step - loss: 8.3638e-05 - accuracy: 1.0000 - val_loss: 0.0930 - val_accuracy: 0.9766\n",
      "Epoch 20/20\n",
      "19/19 [==============================] - 3s 172ms/step - loss: 5.4705e-05 - accuracy: 1.0000 - val_loss: 0.0978 - val_accuracy: 0.9766\n"
     ]
    },
    {
     "data": {
      "text/plain": [
       "<keras.callbacks.History at 0x1d77250ca60>"
      ]
     },
     "execution_count": 43,
     "metadata": {},
     "output_type": "execute_result"
    }
   ],
   "source": [
    "bi_rnn = BiRNN(cell_type = 'basic_rnn', embed_size= 128, state_sizes= [128, 64], data_manager= dm )\n",
    "bi_rnn.build()\n",
    "opt = tf.keras.optimizers.RMSprop(learning_rate=0.001)\n",
    "bi_rnn.compile_model(optimizer=opt, loss='sparse_categorical_crossentropy', metrics=['accuracy'])\n",
    "bi_rnn.fit(dm.tf_train_set.batch(64), epochs=20, validation_data = dm.tf_valid_set.batch(64))"
   ]
  },
  {
   "cell_type": "markdown",
   "metadata": {},
   "source": [
    "#### <span style=\"color:red\">**Question 5.2.3**</span> \n",
    "**Run BiRNN for GRU ('gru') cell with $embed\\_size= 128, state\\_sizes= [64, 128], data\\_manager= dm$.**\n",
    "\n",
    "<div style=\"text-align: right\"><span style=\"color:red\">[1 points]</span></div>"
   ]
  },
  {
   "cell_type": "code",
   "execution_count": 41,
   "metadata": {},
   "outputs": [
    {
     "name": "stdout",
     "output_type": "stream",
     "text": [
      "Epoch 1/20\n",
      "19/19 [==============================] - 33s 981ms/step - loss: 1.2321 - accuracy: 0.6162 - val_loss: 0.5541 - val_accuracy: 0.8729\n",
      "Epoch 2/20\n",
      "19/19 [==============================] - 9s 500ms/step - loss: 0.3296 - accuracy: 0.9151 - val_loss: 0.2819 - val_accuracy: 0.9030\n",
      "Epoch 3/20\n",
      "19/19 [==============================] - 10s 516ms/step - loss: 0.1101 - accuracy: 0.9659 - val_loss: 0.2526 - val_accuracy: 0.9164\n",
      "Epoch 4/20\n",
      "19/19 [==============================] - 10s 514ms/step - loss: 0.0416 - accuracy: 0.9892 - val_loss: 0.1613 - val_accuracy: 0.9431\n",
      "Epoch 5/20\n",
      "19/19 [==============================] - 10s 529ms/step - loss: 0.0107 - accuracy: 0.9983 - val_loss: 0.1547 - val_accuracy: 0.9532\n",
      "Epoch 6/20\n",
      "19/19 [==============================] - 10s 538ms/step - loss: 0.0032 - accuracy: 1.0000 - val_loss: 0.1438 - val_accuracy: 0.9498\n",
      "Epoch 7/20\n",
      "19/19 [==============================] - 10s 526ms/step - loss: 8.8593e-04 - accuracy: 1.0000 - val_loss: 0.1725 - val_accuracy: 0.9498\n",
      "Epoch 8/20\n",
      "19/19 [==============================] - 10s 539ms/step - loss: 2.8985e-04 - accuracy: 1.0000 - val_loss: 0.1815 - val_accuracy: 0.9398\n",
      "Epoch 9/20\n",
      "19/19 [==============================] - 10s 533ms/step - loss: 1.0120e-04 - accuracy: 1.0000 - val_loss: 0.2018 - val_accuracy: 0.9398\n",
      "Epoch 10/20\n",
      "19/19 [==============================] - 10s 538ms/step - loss: 4.0330e-05 - accuracy: 1.0000 - val_loss: 0.2279 - val_accuracy: 0.9431\n",
      "Epoch 11/20\n",
      "19/19 [==============================] - 10s 537ms/step - loss: 1.6630e-05 - accuracy: 1.0000 - val_loss: 0.2556 - val_accuracy: 0.9365\n",
      "Epoch 12/20\n",
      "19/19 [==============================] - 10s 523ms/step - loss: 7.1295e-06 - accuracy: 1.0000 - val_loss: 0.2831 - val_accuracy: 0.9365\n",
      "Epoch 13/20\n",
      "19/19 [==============================] - 10s 528ms/step - loss: 3.2057e-06 - accuracy: 1.0000 - val_loss: 0.3083 - val_accuracy: 0.9365\n",
      "Epoch 14/20\n",
      "19/19 [==============================] - 10s 535ms/step - loss: 1.5310e-06 - accuracy: 1.0000 - val_loss: 0.3311 - val_accuracy: 0.9331\n",
      "Epoch 15/20\n",
      "19/19 [==============================] - 10s 534ms/step - loss: 7.7153e-07 - accuracy: 1.0000 - val_loss: 0.3435 - val_accuracy: 0.9431\n",
      "Epoch 16/20\n",
      "19/19 [==============================] - 10s 542ms/step - loss: 4.2234e-07 - accuracy: 1.0000 - val_loss: 0.4829 - val_accuracy: 0.9532\n",
      "Epoch 17/20\n",
      "19/19 [==============================] - 10s 540ms/step - loss: 2.6353e-07 - accuracy: 1.0000 - val_loss: 0.3896 - val_accuracy: 0.9298\n",
      "Epoch 18/20\n",
      "19/19 [==============================] - 10s 526ms/step - loss: 1.5057e-07 - accuracy: 1.0000 - val_loss: 0.4042 - val_accuracy: 0.9264\n",
      "Epoch 19/20\n",
      "19/19 [==============================] - 10s 530ms/step - loss: 1.0214e-07 - accuracy: 1.0000 - val_loss: 0.4141 - val_accuracy: 0.9264\n",
      "Epoch 20/20\n",
      "19/19 [==============================] - 10s 542ms/step - loss: 7.5536e-08 - accuracy: 1.0000 - val_loss: 0.4224 - val_accuracy: 0.9264\n"
     ]
    },
    {
     "data": {
      "text/plain": [
       "<keras.callbacks.History at 0x1d72528d6a0>"
      ]
     },
     "execution_count": 41,
     "metadata": {},
     "output_type": "execute_result"
    }
   ],
   "source": [
    "bi_rnn = BiRNN(cell_type = 'gru', embed_size= 128, state_sizes= [128, 64], data_manager= dm )\n",
    "bi_rnn.build()\n",
    "opt = tf.keras.optimizers.RMSprop(learning_rate=0.001)\n",
    "bi_rnn.compile_model(optimizer=opt, loss='sparse_categorical_crossentropy', metrics=['accuracy'])\n",
    "bi_rnn.fit(dm.tf_train_set.batch(64), epochs=20, validation_data = dm.tf_valid_set.batch(64))"
   ]
  },
  {
   "cell_type": "markdown",
   "metadata": {},
   "source": [
    "#### <span style=\"color:red\">**Question 5.2.4**</span> \n",
    "**Run BiRNN for LSTM ('lstm') cell with $embed\\_size= 128, state\\_sizes= [64, 128], data\\_manager= dm$.**\n",
    "\n",
    "<div style=\"text-align: right\"><span style=\"color:red\">[1 points]</span></div>"
   ]
  },
  {
   "cell_type": "code",
   "execution_count": 44,
   "metadata": {
    "scrolled": true
   },
   "outputs": [
    {
     "name": "stdout",
     "output_type": "stream",
     "text": [
      "Epoch 1/20\n",
      "19/19 [==============================] - 22s 533ms/step - loss: 1.4857 - accuracy: 0.4330 - val_loss: 1.0480 - val_accuracy: 0.6890\n",
      "Epoch 2/20\n",
      "19/19 [==============================] - 6s 337ms/step - loss: 0.6232 - accuracy: 0.8418 - val_loss: 0.4714 - val_accuracy: 0.9097\n",
      "Epoch 3/20\n",
      "19/19 [==============================] - 6s 317ms/step - loss: 0.2430 - accuracy: 0.9425 - val_loss: 0.3055 - val_accuracy: 0.9231\n",
      "Epoch 4/20\n",
      "19/19 [==============================] - 6s 328ms/step - loss: 0.1354 - accuracy: 0.9700 - val_loss: 0.2208 - val_accuracy: 0.9431\n",
      "Epoch 5/20\n",
      "19/19 [==============================] - 6s 329ms/step - loss: 0.0819 - accuracy: 0.9784 - val_loss: 0.1565 - val_accuracy: 0.9532\n",
      "Epoch 6/20\n",
      "19/19 [==============================] - 6s 324ms/step - loss: 0.0588 - accuracy: 0.9858 - val_loss: 0.1305 - val_accuracy: 0.9599\n",
      "Epoch 7/20\n",
      "19/19 [==============================] - 6s 340ms/step - loss: 0.0267 - accuracy: 0.9983 - val_loss: 0.1331 - val_accuracy: 0.9532\n",
      "Epoch 8/20\n",
      "19/19 [==============================] - 6s 337ms/step - loss: 0.0213 - accuracy: 0.9942 - val_loss: 0.1475 - val_accuracy: 0.9532\n",
      "Epoch 9/20\n",
      "19/19 [==============================] - 6s 335ms/step - loss: 0.0104 - accuracy: 0.9992 - val_loss: 0.1221 - val_accuracy: 0.9632\n",
      "Epoch 10/20\n",
      "19/19 [==============================] - 6s 340ms/step - loss: 0.0045 - accuracy: 1.0000 - val_loss: 0.1500 - val_accuracy: 0.9565\n",
      "Epoch 11/20\n",
      "19/19 [==============================] - 6s 343ms/step - loss: 0.0122 - accuracy: 0.9983 - val_loss: 0.1483 - val_accuracy: 0.9599\n",
      "Epoch 12/20\n",
      "19/19 [==============================] - 7s 371ms/step - loss: 0.0012 - accuracy: 1.0000 - val_loss: 0.1748 - val_accuracy: 0.9565\n",
      "Epoch 13/20\n",
      "19/19 [==============================] - 6s 327ms/step - loss: 6.9936e-04 - accuracy: 1.0000 - val_loss: 0.2255 - val_accuracy: 0.9565\n",
      "Epoch 14/20\n",
      "19/19 [==============================] - 7s 349ms/step - loss: 3.7380e-04 - accuracy: 1.0000 - val_loss: 0.2185 - val_accuracy: 0.9599\n",
      "Epoch 15/20\n",
      "19/19 [==============================] - 7s 377ms/step - loss: 1.9285e-04 - accuracy: 1.0000 - val_loss: 0.2723 - val_accuracy: 0.9565\n",
      "Epoch 16/20\n",
      "19/19 [==============================] - 7s 353ms/step - loss: 0.0168 - accuracy: 0.9950 - val_loss: 0.2021 - val_accuracy: 0.9666\n",
      "Epoch 17/20\n",
      "19/19 [==============================] - 7s 362ms/step - loss: 6.5022e-04 - accuracy: 1.0000 - val_loss: 0.2409 - val_accuracy: 0.9565\n",
      "Epoch 18/20\n",
      "19/19 [==============================] - 6s 339ms/step - loss: 1.1190e-04 - accuracy: 1.0000 - val_loss: 0.2301 - val_accuracy: 0.9565\n",
      "Epoch 19/20\n",
      "19/19 [==============================] - 7s 353ms/step - loss: 8.9159e-05 - accuracy: 1.0000 - val_loss: 0.2335 - val_accuracy: 0.9565\n",
      "Epoch 20/20\n",
      "19/19 [==============================] - 6s 329ms/step - loss: 7.3520e-05 - accuracy: 1.0000 - val_loss: 0.2431 - val_accuracy: 0.9565\n"
     ]
    },
    {
     "data": {
      "text/plain": [
       "<keras.callbacks.History at 0x1d7761d7520>"
      ]
     },
     "execution_count": 44,
     "metadata": {},
     "output_type": "execute_result"
    }
   ],
   "source": [
    "bi_rnn = BiRNN(cell_type = 'lstm', embed_size= 128, state_sizes= [128, 64], data_manager= dm )\n",
    "bi_rnn.build()\n",
    "opt = tf.keras.optimizers.RMSprop(learning_rate=0.001)\n",
    "bi_rnn.compile_model(optimizer=opt, loss='sparse_categorical_crossentropy', metrics=['accuracy'])\n",
    "bi_rnn.fit(dm.tf_train_set.batch(64), epochs=20, validation_data = dm.tf_valid_set.batch(64))"
   ]
  },
  {
   "cell_type": "markdown",
   "metadata": {},
   "source": [
    "### <span style=\"color:#0b486b\">5.3. RNNs with various types, cells, and fine-tuning embedding matrix for sequence modeling and neural embedding </span> ###\n",
    "\n",
    "<div style=\"text-align: right\"><span style=\"color:red; font-weight:bold\">[Total marks for this part: 11 points]<span></div>"
   ]
  },
  {
   "cell_type": "markdown",
   "metadata": {},
   "source": [
    "#### <span style=\"color:red\">**Question 5.3.1**</span> \n",
    "\n",
    "**In what follows, you are required to combine the code in Part 1 and Part 2 to gain a general RNN which can be either Uni-directional RNN or Bi-directional RNN and the embedding matrix can be initialized using a pretrained Word2Vect.**\n",
    "\n",
    "**Below are the descriptions of the attributes of the class *RNN*:**\n",
    "- `run_mode (self.run_mode)` has three values (scratch, init-only, and init-fine-tune).\n",
    "  - `scratch` means training the embedding matrix from scratch.\n",
    "  - `init-only` means only initializing the embedding matrix with a pretrained Word2Vect but **not further doing** fine-tuning that matrix.\n",
    "  - `init-fine-tune` means both initializing the embedding matrix with a pretrained Word2Vect and **further doing** fine-tuning that matrix.\n",
    "- `network_type (self.network_type)` has two values (uni-directional and bi-directional) which correspond to either Uni-directional RNN or Bi-directional RNN.\n",
    "- `cell_type (self.cell_type)` has three values (simple-rnn, gru, and lstm) which specify the memory cell used in the network.\n",
    "- `embed_model (self.embed_model)` specifes the pretrained Word2Vect model used.\n",
    "-  `embed_size (self.embed_size)` specifes the embedding size. Note that when run_mode is either init-only' or 'init-fine-tune', this embedding size is extracted from embed_model for dimension compatability.\n",
    "- `state_sizes (self.state_sizes)` indicates the list of the hidden sizes  of memory cells. For example, $state\\_sizes = [64, 128]$ means that you have two hidden layers in your network with hidden sizes of $64$ and $128$ respectively.\n",
    "\n",
    "**Complete the code of the class *RNN*.**\n",
    "\n",
    "<div style=\"text-align: right\"><span style=\"color:red\">[7 points]</span></div>"
   ]
  },
  {
   "cell_type": "code",
   "execution_count": 91,
   "metadata": {},
   "outputs": [],
   "source": [
    "class RNN:\n",
    "    def __init__(self, run_mode = 'scratch', cell_type= 'gru', network_type = 'uni-directional', embed_model= 'glove-wiki-gigaword-100', \n",
    "                 embed_size= 128, state_sizes = [64, 64], data_manager = None):\n",
    "        self.run_mode = run_mode\n",
    "        self.data_manager = data_manager\n",
    "        self.cell_type = cell_type\n",
    "        self.network_type = network_type\n",
    "        self.state_sizes = state_sizes\n",
    "        self.embed_model = embed_model\n",
    "        self.embed_size = embed_size\n",
    "        if self.run_mode != 'scratch':\n",
    "            self.embed_size = int(self.embed_model.split(\"-\")[-1])\n",
    "        self.data_manager = data_manager\n",
    "        self.vocab_size = dm.vocab_size +1\n",
    "        self.word2idx = dm.word2idx\n",
    "        self.word2vect = None\n",
    "        self.embed_matrix = np.zeros(shape= [self.vocab_size, self.embed_size])\n",
    "    \n",
    "    def build_embedding_matrix(self):\n",
    "        \n",
    "        self.word2vect = api.load(self.embed_model) # load embedding model\n",
    "        for word, idx in self.word2idx.items():\n",
    "            try:\n",
    "                self.embed_matrix[idx] = self.word2vect.get_vector(word) # assign weight for the corresponding word and index\n",
    "            except KeyError: # word cannot be found\n",
    "                pass\n",
    "        return self.embed_matrix\n",
    "\n",
    "    \n",
    "    @staticmethod\n",
    "    def get_layer(cell_type= 'gru', network_type= 'uni-directional', hidden_size= 128, return_sequences= False, activation = 'tanh'):\n",
    "        if network_type == 'uni-directional' :\n",
    "            if cell_type=='gru':\n",
    "                return tf.keras.layers.GRU(hidden_size,return_sequences = return_sequences, activation = activation)\n",
    "            elif cell_type== 'lstm':\n",
    "                return tf.keras.layers.LSTM(hidden_size,return_sequences = return_sequences, activation = activation)\n",
    "            else:\n",
    "                return tf.keras.layers.SimpleRNN(hidden_size,return_sequences = return_sequences, activation = activation)\n",
    "        else:\n",
    "            \n",
    "            if cell_type=='gru':\n",
    "                return tf.keras.layers.Bidirectional(tf.keras.layers.GRU(state_size,return_sequences = return_sequences, activation = activation))\n",
    "            elif cell_type== 'lstm':\n",
    "                return  tf.keras.layers.Bidirectional(tf.keras.layers.LSTM(state_size,return_sequences = return_sequences, activation = activation))\n",
    "            else:\n",
    "                return  tf.keras.layers.Bidirectional(tf.keras.layers.SimpleRNN(state_size,return_sequences = return_sequences, activation = activation))\n",
    "\n",
    "    def build(self):\n",
    "        x = tf.keras.layers.Input(shape=[None])\n",
    "        \n",
    "        if self.run_mode == 'scratch':\n",
    "            h = tf.keras.layers.Embedding(self.vocab_size, self.embed_size, mask_zero=True, trainable=True)(x)\n",
    "        elif self.run_mode == 'init-only':\n",
    "            self.build_embedding_matrix()\n",
    "            h = tf.keras.layers.Embedding(self.vocab_size, self.embed_size, mask_zero=True, trainable=False,\n",
    "                                                           weights=[self.embed_matrix])(x)\n",
    "        else :\n",
    "            self.build_embedding_matrix()\n",
    "            h = tf.keras.layers.Embedding(self.vocab_size, self.embed_size, mask_zero=True, trainable=True,\n",
    "                                                        weights=[self.embed_matrix])(x)\n",
    "        \n",
    "        num_layers = len(self.state_sizes)\n",
    "        for i in range(num_layers):\n",
    "            cell = self.cell_type\n",
    "            state = self.state_sizes[i]\n",
    "            if i == num_layers-1:\n",
    "                h= self.get_layer(cell_type = cell, hidden_size = state,return_sequences=False)(h)\n",
    "            else:\n",
    "                h= self.get_layer(cell_type = cell, hidden_size = state,return_sequences=True)(h)\n",
    "        h = tf.keras.layers.Dense(dm.num_classes, activation='softmax')(h)\n",
    "        self.model = tf.keras.Model(inputs=x, outputs=h)\n",
    "        \n",
    "    def compile_model(self, *args, **kwargs):\n",
    "        self.model.compile(*args, **kwargs)\n",
    "    \n",
    "    def fit(self, *args, **kwargs):\n",
    "        return self.model.fit(*args, **kwargs)\n",
    "    \n",
    "    def evaluate(self, *args, **kwargs):\n",
    "        self.model.evaluate(*args, **kwargs)       \n"
   ]
  },
  {
   "cell_type": "markdown",
   "metadata": {},
   "source": [
    "#### <span style=\"color:red\">**Question 5.3.2**</span> \n",
    "\n",
    "**Design the experiment to compare three running modes. Note that you should stick with fixed values for other attributes and only vary *run_mode*. Give your comments for the results.**\n",
    "\n",
    "<div style=\"text-align: right\"><span style=\"color:red\">[2 points]</span></div>"
   ]
  },
  {
   "cell_type": "markdown",
   "metadata": {},
   "source": [
    "the model which having the run_modes of 'scratch\" has the highest accuracy and followed by run_mode of 'init-fine-tune' and lastly the model with run_mode 'init-only' has the lowest accuracy."
   ]
  },
  {
   "cell_type": "code",
   "execution_count": 135,
   "metadata": {},
   "outputs": [
    {
     "name": "stdout",
     "output_type": "stream",
     "text": [
      "scratch\n",
      "Epoch 1/10\n",
      "19/19 [==============================] - 28s 683ms/step - loss: 1.3806 - accuracy: 0.4788 - val_loss: 0.9867 - val_accuracy: 0.6388\n",
      "Epoch 2/10\n",
      "19/19 [==============================] - 8s 399ms/step - loss: 0.6495 - accuracy: 0.7610 - val_loss: 0.6803 - val_accuracy: 0.8562\n",
      "Epoch 3/10\n",
      "19/19 [==============================] - 8s 409ms/step - loss: 0.3529 - accuracy: 0.9067 - val_loss: 0.3851 - val_accuracy: 0.9030\n",
      "Epoch 4/10\n",
      "19/19 [==============================] - 8s 425ms/step - loss: 0.1908 - accuracy: 0.9500 - val_loss: 0.2602 - val_accuracy: 0.9431\n",
      "Epoch 5/10\n",
      "19/19 [==============================] - 8s 436ms/step - loss: 0.1247 - accuracy: 0.9684 - val_loss: 0.2823 - val_accuracy: 0.9331\n",
      "Epoch 6/10\n",
      "19/19 [==============================] - 8s 428ms/step - loss: 0.0970 - accuracy: 0.9784 - val_loss: 0.1815 - val_accuracy: 0.9498\n",
      "Epoch 7/10\n",
      "19/19 [==============================] - 8s 437ms/step - loss: 0.0613 - accuracy: 0.9842 - val_loss: 0.1621 - val_accuracy: 0.9498\n",
      "Epoch 8/10\n",
      "19/19 [==============================] - 8s 432ms/step - loss: 0.0561 - accuracy: 0.9858 - val_loss: 0.1540 - val_accuracy: 0.9565\n",
      "Epoch 9/10\n",
      "19/19 [==============================] - 8s 434ms/step - loss: 0.0310 - accuracy: 0.9908 - val_loss: 0.1740 - val_accuracy: 0.9465\n",
      "Epoch 10/10\n",
      "19/19 [==============================] - 7s 397ms/step - loss: 0.0950 - accuracy: 0.9775 - val_loss: 0.1495 - val_accuracy: 0.9398\n",
      "init-only\n",
      "Epoch 1/10\n",
      "19/19 [==============================] - 28s 689ms/step - loss: 1.2399 - accuracy: 0.5354 - val_loss: 0.8295 - val_accuracy: 0.7191\n",
      "Epoch 2/10\n",
      "19/19 [==============================] - 7s 395ms/step - loss: 0.5371 - accuracy: 0.8243 - val_loss: 0.3972 - val_accuracy: 0.8696\n",
      "Epoch 3/10\n",
      "19/19 [==============================] - 7s 395ms/step - loss: 0.2944 - accuracy: 0.9017 - val_loss: 0.3003 - val_accuracy: 0.8930\n",
      "Epoch 4/10\n",
      "19/19 [==============================] - 7s 388ms/step - loss: 0.2171 - accuracy: 0.9326 - val_loss: 0.3834 - val_accuracy: 0.9030\n",
      "Epoch 5/10\n",
      "19/19 [==============================] - 7s 395ms/step - loss: 0.1461 - accuracy: 0.9509 - val_loss: 0.2229 - val_accuracy: 0.9331\n",
      "Epoch 6/10\n",
      "19/19 [==============================] - 7s 393ms/step - loss: 0.1148 - accuracy: 0.9684 - val_loss: 0.2340 - val_accuracy: 0.9431\n",
      "Epoch 7/10\n",
      "19/19 [==============================] - 7s 398ms/step - loss: 0.0988 - accuracy: 0.9684 - val_loss: 0.1454 - val_accuracy: 0.9498\n",
      "Epoch 8/10\n",
      "19/19 [==============================] - 7s 391ms/step - loss: 0.0943 - accuracy: 0.9675 - val_loss: 0.1408 - val_accuracy: 0.9465\n",
      "Epoch 9/10\n",
      "19/19 [==============================] - 8s 400ms/step - loss: 0.0642 - accuracy: 0.9750 - val_loss: 0.1871 - val_accuracy: 0.9465\n",
      "Epoch 10/10\n",
      "19/19 [==============================] - 7s 389ms/step - loss: 0.0994 - accuracy: 0.9692 - val_loss: 0.1197 - val_accuracy: 0.9565\n",
      "init-fine-tune\n",
      "Epoch 1/10\n",
      "19/19 [==============================] - 27s 705ms/step - loss: 1.2587 - accuracy: 0.5545 - val_loss: 0.6947 - val_accuracy: 0.7893\n",
      "Epoch 2/10\n",
      "19/19 [==============================] - 8s 411ms/step - loss: 0.4921 - accuracy: 0.8585 - val_loss: 0.3797 - val_accuracy: 0.8829\n",
      "Epoch 3/10\n",
      "19/19 [==============================] - 8s 422ms/step - loss: 0.2424 - accuracy: 0.9242 - val_loss: 0.3586 - val_accuracy: 0.9030\n",
      "Epoch 4/10\n",
      "19/19 [==============================] - 8s 412ms/step - loss: 0.1558 - accuracy: 0.9450 - val_loss: 0.1655 - val_accuracy: 0.9431\n",
      "Epoch 5/10\n",
      "19/19 [==============================] - 8s 418ms/step - loss: 0.0968 - accuracy: 0.9725 - val_loss: 0.1790 - val_accuracy: 0.9398\n",
      "Epoch 6/10\n",
      "19/19 [==============================] - 8s 410ms/step - loss: 0.0863 - accuracy: 0.9734 - val_loss: 0.1804 - val_accuracy: 0.9431\n",
      "Epoch 7/10\n",
      "19/19 [==============================] - 8s 419ms/step - loss: 0.1029 - accuracy: 0.9734 - val_loss: 0.1245 - val_accuracy: 0.9532\n",
      "Epoch 8/10\n",
      "19/19 [==============================] - 8s 406ms/step - loss: 0.0599 - accuracy: 0.9817 - val_loss: 0.1245 - val_accuracy: 0.9498\n",
      "Epoch 9/10\n",
      "19/19 [==============================] - 8s 410ms/step - loss: 0.0487 - accuracy: 0.9867 - val_loss: 0.1147 - val_accuracy: 0.9599\n",
      "Epoch 10/10\n",
      "19/19 [==============================] - 7s 353ms/step - loss: 0.0415 - accuracy: 0.9858 - val_loss: 0.1316 - val_accuracy: 0.9565\n"
     ]
    }
   ],
   "source": [
    "run_modes = ['scratch','init-only','init-fine-tune']\n",
    "for i in run_modes :\n",
    "    print(i)\n",
    "    rnn = RNN(cell_type = 'lstm', run_mode = i,embed_size= 128, state_sizes= [128, 64], data_manager= dm )\n",
    "    rnn.build()\n",
    "    opt = tf.keras.optimizers.RMSprop(learning_rate=0.001)\n",
    "    rnn.compile_model(optimizer=opt, loss='sparse_categorical_crossentropy', metrics=['accuracy'])\n",
    "    rnn.fit(dm.tf_train_set.batch(64), epochs=10, validation_data = dm.tf_valid_set.batch(64))"
   ]
  },
  {
   "cell_type": "markdown",
   "metadata": {},
   "source": [
    "#### <span style=\"color:red\">**Question 5.3.3**</span> \n",
    "\n",
    "**Run the above general RNN with at least five parameter sets and try to obtain the best performance. You can stick with the running mode *init-fine-tune* and use grid search to tune other parameters. Record your best model which will be used in the next part.**\n",
    "\n",
    "<div style=\"text-align: right\"><span style=\"color:red\">[2 points]</span></div>"
   ]
  },
  {
   "cell_type": "markdown",
   "metadata": {},
   "source": [
    "#Report your results here\n",
    "\n",
    "Model 1 =     RNN(cell_type = 'lstm',network_type = 'uni-directional', run_mode = 'init-fine-tune',embed_size= 128, state_sizes= [128, 64], data_manager= dm )\n",
    "\n",
    "Model 2 =     RNN(cell_type = 'gru',network_type = 'uni-directional', run_mode = 'init-fine-tune',embed_size= 128, state_sizes= [128, 64], data_manager= dm )\n",
    "\n",
    "Model 3 =    RNN(cell_type = 'basic_rnn',network_type = 'uni-directional', run_mode = 'init-fine-tune',embed_size= 128, state_sizes= [128, 64], data_manager= dm )\n",
    "\n",
    "Model 4 =    RNN(cell_type = 'lstm',network_type = 'bi-directional', run_mode = 'init-fine-tune',embed_size= 128, state_sizes= [128, 64], data_manager= dm )\n",
    "\n",
    "Model 5 =     RNN(cell_type = 'gru',network_type = 'bi-directional', run_mode = 'init-fine-tune',embed_size= 128, state_sizes= [128, 64], data_manager= dm )\n",
    "\n",
    "\n",
    "The best model is model 5 with accuracy of 0.9975\n",
    "\n"
   ]
  },
  {
   "cell_type": "code",
   "execution_count": 74,
   "metadata": {},
   "outputs": [
    {
     "name": "stdout",
     "output_type": "stream",
     "text": [
      "cell_type = 'lstm',network_type = 'uni-directional', run_mode = 'init-fine-tune',embed_size= 128, state_sizes= [128, 64], data_manager= dm\n"
     ]
    },
    {
     "name": "stderr",
     "output_type": "stream",
     "text": [
      "<ipython-input-68-3cc43870994d>:25: DeprecationWarning: Call to deprecated `word_vec` (Use get_vector instead).\n",
      "  self.embed_matrix[idx] = self.word2vect.word_vec(word) # assign weight for the corresponding word and index\n"
     ]
    },
    {
     "name": "stdout",
     "output_type": "stream",
     "text": [
      "Epoch 1/10\n",
      "19/19 [==============================] - 24s 768ms/step - loss: 1.2227 - accuracy: 0.5645 - val_loss: 0.5996 - val_accuracy: 0.8194\n",
      "Epoch 2/10\n",
      "19/19 [==============================] - 6s 323ms/step - loss: 0.4614 - accuracy: 0.8634 - val_loss: 0.3470 - val_accuracy: 0.8763\n",
      "Epoch 3/10\n",
      "19/19 [==============================] - 6s 313ms/step - loss: 0.2355 - accuracy: 0.9284 - val_loss: 0.4065 - val_accuracy: 0.8896\n",
      "Epoch 4/10\n",
      "19/19 [==============================] - 6s 304ms/step - loss: 0.1561 - accuracy: 0.9450 - val_loss: 0.2174 - val_accuracy: 0.9398\n",
      "Epoch 5/10\n",
      "19/19 [==============================] - 6s 299ms/step - loss: 0.1179 - accuracy: 0.9617 - val_loss: 0.1732 - val_accuracy: 0.9431\n",
      "Epoch 6/10\n",
      "19/19 [==============================] - 6s 318ms/step - loss: 0.0709 - accuracy: 0.9808 - val_loss: 0.1490 - val_accuracy: 0.9465\n",
      "Epoch 7/10\n",
      "19/19 [==============================] - 6s 298ms/step - loss: 0.0641 - accuracy: 0.9825 - val_loss: 0.1446 - val_accuracy: 0.9465\n",
      "Epoch 8/10\n",
      "19/19 [==============================] - 6s 291ms/step - loss: 0.1033 - accuracy: 0.9734 - val_loss: 0.1123 - val_accuracy: 0.9699\n",
      "Epoch 9/10\n",
      "19/19 [==============================] - 6s 305ms/step - loss: 0.0395 - accuracy: 0.9875 - val_loss: 0.1331 - val_accuracy: 0.9498\n",
      "Epoch 10/10\n",
      "19/19 [==============================] - 5s 288ms/step - loss: 0.0334 - accuracy: 0.9892 - val_loss: 0.1545 - val_accuracy: 0.9565\n",
      "cell_type = 'lstm',network_type = 'uni-directional', run_mode = 'init-fine-tune',embed_size= 128, state_sizes= [128, 64], data_manager= dm\n",
      "Epoch 1/10\n",
      "19/19 [==============================] - 18s 485ms/step - loss: 1.4606 - accuracy: 0.4263 - val_loss: 0.9379 - val_accuracy: 0.7057\n",
      "Epoch 2/10\n",
      "19/19 [==============================] - 5s 264ms/step - loss: 0.8379 - accuracy: 0.7186 - val_loss: 0.5554 - val_accuracy: 0.8027\n",
      "Epoch 3/10\n",
      "19/19 [==============================] - 5s 259ms/step - loss: 0.3852 - accuracy: 0.8893 - val_loss: 0.3036 - val_accuracy: 0.9030\n",
      "Epoch 4/10\n",
      "19/19 [==============================] - 5s 270ms/step - loss: 0.1822 - accuracy: 0.9500 - val_loss: 0.2962 - val_accuracy: 0.9164\n",
      "Epoch 5/10\n",
      "19/19 [==============================] - 5s 260ms/step - loss: 0.1106 - accuracy: 0.9634 - val_loss: 0.2189 - val_accuracy: 0.9431\n",
      "Epoch 6/10\n",
      "19/19 [==============================] - 5s 257ms/step - loss: 0.0723 - accuracy: 0.9775 - val_loss: 0.2445 - val_accuracy: 0.9398\n",
      "Epoch 7/10\n",
      "19/19 [==============================] - 5s 267ms/step - loss: 0.0480 - accuracy: 0.9850 - val_loss: 0.1451 - val_accuracy: 0.9498\n",
      "Epoch 8/10\n",
      "19/19 [==============================] - 5s 277ms/step - loss: 0.0277 - accuracy: 0.9933 - val_loss: 0.2432 - val_accuracy: 0.9465\n",
      "Epoch 9/10\n",
      "19/19 [==============================] - 5s 260ms/step - loss: 0.0189 - accuracy: 0.9958 - val_loss: 0.1252 - val_accuracy: 0.9632\n",
      "Epoch 10/10\n",
      "19/19 [==============================] - 5s 266ms/step - loss: 0.0259 - accuracy: 0.9917 - val_loss: 0.0997 - val_accuracy: 0.9632\n",
      "cell_type = 'lstm',network_type = 'uni-directional', run_mode = 'init-fine-tune',embed_size= 128, state_sizes= [128, 64], data_manager= dm\n",
      "Epoch 1/10\n",
      "19/19 [==============================] - 6s 200ms/step - loss: 1.5951 - accuracy: 0.3430 - val_loss: 0.9936 - val_accuracy: 0.6254\n",
      "Epoch 2/10\n",
      "19/19 [==============================] - 3s 171ms/step - loss: 0.9445 - accuracy: 0.6561 - val_loss: 0.7072 - val_accuracy: 0.7258\n",
      "Epoch 3/10\n",
      "19/19 [==============================] - 3s 166ms/step - loss: 0.6457 - accuracy: 0.7760 - val_loss: 0.7275 - val_accuracy: 0.7258\n",
      "Epoch 4/10\n",
      "19/19 [==============================] - 3s 159ms/step - loss: 0.4147 - accuracy: 0.8626 - val_loss: 0.3781 - val_accuracy: 0.8829\n",
      "Epoch 5/10\n",
      "19/19 [==============================] - 3s 154ms/step - loss: 0.2608 - accuracy: 0.9134 - val_loss: 0.4777 - val_accuracy: 0.8361\n",
      "Epoch 6/10\n",
      "19/19 [==============================] - 3s 153ms/step - loss: 0.1689 - accuracy: 0.9525 - val_loss: 0.2140 - val_accuracy: 0.9164\n",
      "Epoch 7/10\n",
      "19/19 [==============================] - 3s 157ms/step - loss: 0.1029 - accuracy: 0.9725 - val_loss: 0.1960 - val_accuracy: 0.9197\n",
      "Epoch 8/10\n",
      "19/19 [==============================] - 3s 162ms/step - loss: 0.1250 - accuracy: 0.9684 - val_loss: 0.1838 - val_accuracy: 0.9231\n",
      "Epoch 9/10\n",
      "19/19 [==============================] - 3s 162ms/step - loss: 0.0234 - accuracy: 0.9983 - val_loss: 0.1830 - val_accuracy: 0.9365\n",
      "Epoch 10/10\n",
      "19/19 [==============================] - 3s 157ms/step - loss: 0.0853 - accuracy: 0.9750 - val_loss: 0.1624 - val_accuracy: 0.9465\n",
      "cell_type = 'lstm',network_type = 'uni-directional', run_mode = 'init-fine-tune',embed_size= 128, state_sizes= [128, 64], data_manager= dm\n",
      "Epoch 1/10\n",
      "19/19 [==============================] - 19s 503ms/step - loss: 1.2786 - accuracy: 0.5445 - val_loss: 0.6675 - val_accuracy: 0.8161\n",
      "Epoch 2/10\n",
      "19/19 [==============================] - 5s 288ms/step - loss: 0.4596 - accuracy: 0.8668 - val_loss: 0.3899 - val_accuracy: 0.8863\n",
      "Epoch 3/10\n",
      "19/19 [==============================] - 5s 288ms/step - loss: 0.2123 - accuracy: 0.9400 - val_loss: 0.3907 - val_accuracy: 0.8863\n",
      "Epoch 4/10\n",
      "19/19 [==============================] - 6s 304ms/step - loss: 0.1835 - accuracy: 0.9376 - val_loss: 0.2107 - val_accuracy: 0.9398\n",
      "Epoch 5/10\n",
      "19/19 [==============================] - 6s 292ms/step - loss: 0.1211 - accuracy: 0.9667 - val_loss: 0.1663 - val_accuracy: 0.9431\n",
      "Epoch 6/10\n",
      "19/19 [==============================] - 6s 300ms/step - loss: 0.0729 - accuracy: 0.9833 - val_loss: 0.1728 - val_accuracy: 0.9465\n",
      "Epoch 7/10\n",
      "19/19 [==============================] - 6s 302ms/step - loss: 0.0966 - accuracy: 0.9734 - val_loss: 0.1527 - val_accuracy: 0.9498\n",
      "Epoch 8/10\n",
      "19/19 [==============================] - 6s 298ms/step - loss: 0.0517 - accuracy: 0.9833 - val_loss: 0.3003 - val_accuracy: 0.9331\n",
      "Epoch 9/10\n",
      "19/19 [==============================] - 6s 306ms/step - loss: 0.0376 - accuracy: 0.9883 - val_loss: 0.1326 - val_accuracy: 0.9431\n",
      "Epoch 10/10\n",
      "19/19 [==============================] - 6s 306ms/step - loss: 0.0389 - accuracy: 0.9858 - val_loss: 0.2491 - val_accuracy: 0.9365\n",
      "cell_type = 'lstm',network_type = 'uni-directional', run_mode = 'init-fine-tune',embed_size= 128, state_sizes= [128, 64], data_manager= dm\n",
      "Epoch 1/10\n",
      "19/19 [==============================] - 20s 546ms/step - loss: 1.4414 - accuracy: 0.4280 - val_loss: 0.9487 - val_accuracy: 0.6890\n",
      "Epoch 2/10\n",
      "19/19 [==============================] - 5s 274ms/step - loss: 0.8279 - accuracy: 0.7111 - val_loss: 0.5541 - val_accuracy: 0.8161\n",
      "Epoch 3/10\n",
      "19/19 [==============================] - 5s 262ms/step - loss: 0.3918 - accuracy: 0.8851 - val_loss: 0.3001 - val_accuracy: 0.8963\n",
      "Epoch 4/10\n",
      "19/19 [==============================] - 5s 273ms/step - loss: 0.1783 - accuracy: 0.9459 - val_loss: 0.2698 - val_accuracy: 0.9197\n",
      "Epoch 5/10\n",
      "19/19 [==============================] - 5s 270ms/step - loss: 0.0946 - accuracy: 0.9725 - val_loss: 0.2595 - val_accuracy: 0.9298\n",
      "Epoch 6/10\n",
      "19/19 [==============================] - 5s 275ms/step - loss: 0.0690 - accuracy: 0.9833 - val_loss: 0.1380 - val_accuracy: 0.9565\n",
      "Epoch 7/10\n",
      "19/19 [==============================] - 5s 282ms/step - loss: 0.0407 - accuracy: 0.9908 - val_loss: 0.1057 - val_accuracy: 0.9632\n",
      "Epoch 8/10\n",
      "19/19 [==============================] - 5s 274ms/step - loss: 0.0394 - accuracy: 0.9850 - val_loss: 0.1452 - val_accuracy: 0.9565\n",
      "Epoch 9/10\n",
      "19/19 [==============================] - 5s 279ms/step - loss: 0.0223 - accuracy: 0.9925 - val_loss: 0.1993 - val_accuracy: 0.9532\n",
      "Epoch 10/10\n",
      "19/19 [==============================] - 6s 292ms/step - loss: 0.0129 - accuracy: 0.9975 - val_loss: 0.1136 - val_accuracy: 0.9632\n"
     ]
    }
   ],
   "source": [
    "models_list = [\n",
    "    RNN(cell_type = 'lstm',network_type = 'uni-directional', run_mode = 'init-fine-tune',embed_size= 128, state_sizes= [128, 64], data_manager= dm ),\n",
    "    RNN(cell_type = 'gru',network_type = 'uni-directional', run_mode = 'init-fine-tune',embed_size= 128, state_sizes= [128, 64], data_manager= dm ),\n",
    "    RNN(cell_type = 'basic_rnn',network_type = 'uni-directional', run_mode = 'init-fine-tune',embed_size= 128, state_sizes= [128, 64], data_manager= dm ),\n",
    "    RNN(cell_type = 'lstm',network_type = 'bi-directional', run_mode = 'init-fine-tune',embed_size= 128, state_sizes= [128, 64], data_manager= dm ),\n",
    "    RNN(cell_type = 'gru',network_type = 'bi-directional', run_mode = 'init-fine-tune',embed_size= 128, state_sizes= [128, 64], data_manager= dm )\n",
    "] \n",
    "\n",
    "for i in range(len(models_list)) :\n",
    "    if i == 0:\n",
    "        print(\"cell_type = 'lstm',network_type = 'uni-directional', run_mode = 'init-fine-tune',embed_size= 128, state_sizes= [128, 64], data_manager= dm\")\n",
    "    if i == 1:\n",
    "        print(\"cell_type = 'lstm',network_type = 'uni-directional', run_mode = 'init-fine-tune',embed_size= 128, state_sizes= [128, 64], data_manager= dm\")\n",
    "    if i == 2:  \n",
    "        print(\"cell_type = 'lstm',network_type = 'uni-directional', run_mode = 'init-fine-tune',embed_size= 128, state_sizes= [128, 64], data_manager= dm\")\n",
    "    if i == 3:\n",
    "        print(\"cell_type = 'lstm',network_type = 'uni-directional', run_mode = 'init-fine-tune',embed_size= 128, state_sizes= [128, 64], data_manager= dm\")\n",
    "    if i == 4:\n",
    "        print(\"cell_type = 'lstm',network_type = 'uni-directional', run_mode = 'init-fine-tune',embed_size= 128, state_sizes= [128, 64], data_manager= dm\")\n",
    "    rnn = models_list[i]\n",
    "    rnn.build()\n",
    "    opt = tf.keras.optimizers.RMSprop(learning_rate=0.001)\n",
    "    rnn.compile_model(optimizer=opt, loss='sparse_categorical_crossentropy', metrics=['accuracy'])\n",
    "    rnn.fit(dm.tf_train_set.batch(64), epochs=10, validation_data = dm.tf_valid_set.batch(64))"
   ]
  },
  {
   "cell_type": "code",
   "execution_count": 93,
   "metadata": {},
   "outputs": [],
   "source": [
    "#The run of your best model here\n",
    "my_best_rnn = RNN(cell_type = 'gru',network_type = 'bi-directional', run_mode = 'init-fine-tune',embed_size= 128, state_sizes= [128, 64], data_manager= dm )"
   ]
  },
  {
   "cell_type": "markdown",
   "metadata": {},
   "source": [
    "### <span style=\"color:#0b486b\">5.4. RNNs with Attention for Text and Sequence Classification</span> ###\n",
    "\n",
    "**In what follows, you are required to implement a RNN with the attention machenism for text and sequence classification. This attention mechanism is applied at the last hidden layer of our RNN. Specifically, let $h_1, h_2,...,h_{L-1}, h_L$ be the hidden states at the last hidden layer where $L$ is the sequence length. We compute the context vector $c$ as $c=\\sum_{i=1}^{L}a_{i}h_{i}$ where $a_1,...,a_L$ are the allignment weights (i.e., $a_i\\geq 0$ and $\\sum_{i=1}^{L}a_{i}=1$).**\n",
    "\n",
    "**The allignment weights are computed as follows:**\n",
    "- $a=[a_{i}]_{i=1}^{L}=softmax([s_{i}]_{i=1}^{L})$ where $s= [s_{i}]_{i=1}^{L}$ consists of the allignment scores.\n",
    "- The assigment scores $s= [s_{i}]_{i=1}^{L}$ are computed as $s=tanh(hU)V$ where $h=\\left[\\begin{array}{c}\n",
    "h_{1}\\\\\n",
    "h_{2}\\\\\n",
    "...\\\\\n",
    "h_{L-1}\\\\\n",
    "h_{L}\n",
    "\\end{array}\\right]\\in\\mathbb{R}^{L\\times state\\_size_{3}}$, $U\\in\\mathbb{R}^{state\\_size_{3}\\times output\\_length}$, $V\\in\\mathbb{R}^{output\\_length\\times1}$, and $output\\_length$ is a hyper-parameter. Note that if we consider a mini-batch, the shape of $h$ is $batch\\_size \\times L \\times state\\_size_3$ where $state\\_size_3$ is the hidden size of the last hidden layer.\n",
    "\n",
    "After having the context vector $c$, we concatenate with the last hidden state $h_L$. On top of this concatenation, we conduct the output layer with the softmax activation.\n",
    "\n",
    "<img src=\"./images/attention.png\" align=\"center\" width=1200/>\n",
    "\n",
    "<div style=\"text-align: right\"><span style=\"color:red; font-weight:bold\">[Total marks for this part: 14 points]<span></div>"
   ]
  },
  {
   "cell_type": "markdown",
   "metadata": {},
   "source": [
    "#### <span style=\"color:red\">**Question 5.4.1**</span>\n",
    "\n",
    "**We declare the  layer `MyAttention` as a class inherited from `tf.keras.layers.Layer` to realize our attention mechanism. You are required to provide the code for this class. Note that in the `def call(self, all_states, last_state)` method, `all_states` is the collection of all hidden states and `last_state` is the last hidden state.**\n",
    "\n",
    "<div style=\"text-align: right\"><span style=\"color:red\">[5 points]</span></div>"
   ]
  },
  {
   "cell_type": "code",
   "execution_count": 34,
   "metadata": {},
   "outputs": [],
   "source": [
    "class MyAttention(tf.keras.layers.Layer):\n",
    "    def __init__(self, output_length= 50):\n",
    "        super(MyAttention, self).__init__()\n",
    "\n",
    "        self.U = tf.Variable(tf.random.normal(shape=[,50]))\n",
    "        self.V = tf.keras.layers.Dense(1)\n",
    "       \n",
    "    #all_states is the collection of all hidden states and last_state is the last hidden state\n",
    "    def call(self, all_states, last_state):\n",
    "        attention_score = tf.keras.activations.tanh(tf.linalg.matmul(all_states,self.U(last_state)))\n",
    "        attention_weight = tf.nn.softmax(attention_score, axis=1)\n",
    "        context = tf.reduce_sum(tf.linalg.matmul(tf.transpose(attention_weight, perm=[0,2,1]), last_state), axis=1)\n",
    "        return context, attention_weight"
   ]
  },
  {
   "cell_type": "markdown",
   "metadata": {},
   "source": [
    "#### <span style=\"color:red\">**Question 5.4.2**</span> \n",
    "\n",
    "**You are required to extend the class `RNN` in Section `5.3.1` to achieve the class `Attention_RNN` in which the attention mechanism mentioned above is applied at the last hidden layer.**\n",
    "\n",
    "<div style=\"text-align: right\"><span style=\"color:red\">[5 points]</span></div>"
   ]
  },
  {
   "cell_type": "code",
   "execution_count": 39,
   "metadata": {},
   "outputs": [],
   "source": [
    "class Attention_RNN:\n",
    "    def __init__(self, run_mode = 'scratch', cell_type= 'gru', network_type = 'uni-directional', embed_model= 'glove-wiki-gigaword-100', \n",
    "                 embed_size= 128, state_sizes = [64, 64], data_manager = None):\n",
    "        self.run_mode = run_mode\n",
    "        self.data_manager = data_manager\n",
    "        self.cell_type = cell_type\n",
    "        self.network_type = network_type\n",
    "        self.state_sizes = state_sizes\n",
    "        self.embed_model = embed_model\n",
    "        self.embed_size = embed_size\n",
    "        if self.run_mode != 'scratch':\n",
    "            self.embed_size = int(self.embed_model.split(\"-\")[-1])\n",
    "        self.data_manager = data_manager\n",
    "        self.vocab_size = dm.vocab_size +1\n",
    "        self.word2idx = dm.word2idx\n",
    "        self.word2vect = None\n",
    "        self.embed_matrix = np.zeros(shape= [self.vocab_size, self.embed_size])\n",
    "    \n",
    "    def build_embedding_matrix(self):\n",
    "        self.word2vect = api.load(self.embed_model) # load embedding model\n",
    "        for word, idx in self.word2idx.items():\n",
    "            try:\n",
    "                self.embed_matrix[idx] = self.word2vect.get_vector(word) # assign weight for the corresponding word and index\n",
    "            except KeyError: # word cannot be found\n",
    "                pass\n",
    "        return self.embed_matrix\n",
    "    \n",
    "    @staticmethod\n",
    "    def get_layer(cell_type= 'gru', network_type= 'uni-directional', hidden_size= 128, return_sequences= False, activation = 'tanh'):\n",
    "        if network_type == 'uni-directional' :\n",
    "            if cell_type=='gru':\n",
    "                return tf.keras.layers.GRU(hidden_size,return_sequences = return_sequences, activation = activation)\n",
    "            elif cell_type== 'lstm':\n",
    "                return tf.keras.layers.LSTM(hidden_size,return_sequences = return_sequences, activation = activation)\n",
    "            else:\n",
    "                return tf.keras.layers.SimpleRNN(hidden_size,return_sequences = return_sequences, activation = activation)\n",
    "        else:\n",
    "            \n",
    "            if cell_type=='gru':\n",
    "                return tf.keras.layers.Bidirectional(tf.keras.layers.GRU(state_size,return_sequences = return_sequences, activation = activation))\n",
    "            elif cell_type== 'lstm':\n",
    "                return  tf.keras.layers.Bidirectional(tf.keras.layers.LSTM(state_size,return_sequences = return_sequences, activation = activation))\n",
    "            else:\n",
    "                return  tf.keras.layers.Bidirectional(tf.keras.layers.SimpleRNN(state_size,return_sequences = return_sequences, activation = activation))\n",
    "\n",
    "    \n",
    "    def build(self):\n",
    "        x = tf.keras.layers.Input(shape=[None])\n",
    "        \n",
    "        if self.run_mode == 'scratch':\n",
    "            h = tf.keras.layers.Embedding(self.vocab_size, self.embed_size, mask_zero=True, trainable=True)(x)\n",
    "        elif self.run_mode == 'init-only':\n",
    "            self.build_embedding_matrix()\n",
    "            h = tf.keras.layers.Embedding(self.vocab_size, self.embed_size, mask_zero=True, trainable=False,\n",
    "                                                           weights=[self.embed_matrix])(x)\n",
    "        else :\n",
    "            self.build_embedding_matrix()\n",
    "            h = tf.keras.layers.Embedding(self.vocab_size, self.embed_size, mask_zero=True, trainable=True,\n",
    "                                                        weights=[self.embed_matrix])(x)\n",
    "        \n",
    "        num_layers = len(self.state_sizes)\n",
    "        for i in range(num_layers):\n",
    "            cell = self.cell_type\n",
    "            state = self.state_sizes[i]\n",
    "\n",
    "            h= self.get_layer(cell_type = cell, hidden_size = state,return_sequences=True)(h)\n",
    "        attention = MyAttention()\n",
    "        cv, w = attention(h,self.state_sizes[-1])\n",
    "        h = tf.expand_dims(h, axis=1)\n",
    "        h = tf.keras.layers.Concatenate(axis = 1)([h, cv])\n",
    "        h = tf.keras.layers.Dense(dm.num_classes, activation='softmax')(h)\n",
    "        self.model = tf.keras.Model(inputs=x, outputs=h)\n",
    "        \n",
    "    def compile_model(self, *args, **kwargs):\n",
    "        self.model.compile(*args, **kwargs)\n",
    "    \n",
    "    def fit(self, *args, **kwargs):\n",
    "        return self.model.fit(*args, **kwargs)\n",
    "    \n",
    "    def evaluate(self, *args, **kwargs):\n",
    "        self.model.evaluate(*args, **kwargs)       \n"
   ]
  },
  {
   "cell_type": "markdown",
   "metadata": {},
   "source": [
    "#### <span style=\"color:red\">**Question 5.4.3**</span> \n",
    "\n",
    "**Choose a common setting for standard RNN and RNN with attention and conduct experiments to compare them. A setting here means `cell_type`, `network_type`, and list of `state sizes`**.\n",
    "\n",
    "<div style=\"text-align: right\"><span style=\"color:red\">[4 points]</span></div>"
   ]
  },
  {
   "cell_type": "code",
   "execution_count": 40,
   "metadata": {},
   "outputs": [
    {
     "ename": "ValueError",
     "evalue": "Exception encountered when calling layer \"my_attention_5\" (type MyAttention).\n\nin user code:\n\n    File \"<ipython-input-34-6bbfdfa74a5a>\", line 10, in call  *\n        attention_score = self.V(tf.keras.activations.tanh(tf.linalg.matmul(all_states,self.U(last_state))))\n    File \"G:\\Anaconda3\\envs\\fit3181_v2\\lib\\site-packages\\keras\\utils\\traceback_utils.py\", line 67, in error_handler  **\n        raise e.with_traceback(filtered_tb) from None\n    File \"G:\\Anaconda3\\envs\\fit3181_v2\\lib\\site-packages\\keras\\engine\\input_spec.py\", line 228, in assert_input_compatibility\n        raise ValueError(f'Input {input_index} of layer \"{layer_name}\" '\n\n    ValueError: Input 0 of layer \"dense_14\" is incompatible with the layer: expected min_ndim=2, found ndim=0. Full shape received: ()\n\n\nCall arguments received by layer \"my_attention_5\" (type MyAttention):\n  • all_states=tf.Tensor(shape=(None, None, 64), dtype=float32)\n  • last_state=64",
     "output_type": "error",
     "traceback": [
      "\u001b[1;31m---------------------------------------------------------------------------\u001b[0m",
      "\u001b[1;31mValueError\u001b[0m                                Traceback (most recent call last)",
      "\u001b[1;32m<ipython-input-40-5be7ad8dad24>\u001b[0m in \u001b[0;36m<module>\u001b[1;34m\u001b[0m\n\u001b[0;32m      1\u001b[0m \u001b[0matt_rnn\u001b[0m \u001b[1;33m=\u001b[0m \u001b[0mAttention_RNN\u001b[0m\u001b[1;33m(\u001b[0m\u001b[0mcell_type\u001b[0m \u001b[1;33m=\u001b[0m \u001b[1;34m'lstm'\u001b[0m\u001b[1;33m,\u001b[0m \u001b[0membed_size\u001b[0m\u001b[1;33m=\u001b[0m \u001b[1;36m128\u001b[0m\u001b[1;33m,\u001b[0m \u001b[0mstate_sizes\u001b[0m\u001b[1;33m=\u001b[0m \u001b[1;33m[\u001b[0m\u001b[1;36m128\u001b[0m\u001b[1;33m,\u001b[0m \u001b[1;36m64\u001b[0m\u001b[1;33m]\u001b[0m\u001b[1;33m,\u001b[0m \u001b[0mdata_manager\u001b[0m\u001b[1;33m=\u001b[0m \u001b[0mdm\u001b[0m \u001b[1;33m)\u001b[0m\u001b[1;33m\u001b[0m\u001b[1;33m\u001b[0m\u001b[0m\n\u001b[1;32m----> 2\u001b[1;33m \u001b[0matt_rnn\u001b[0m\u001b[1;33m.\u001b[0m\u001b[0mbuild\u001b[0m\u001b[1;33m(\u001b[0m\u001b[1;33m)\u001b[0m\u001b[1;33m\u001b[0m\u001b[1;33m\u001b[0m\u001b[0m\n\u001b[0m\u001b[0;32m      3\u001b[0m \u001b[0mopt\u001b[0m \u001b[1;33m=\u001b[0m \u001b[0mtf\u001b[0m\u001b[1;33m.\u001b[0m\u001b[0mkeras\u001b[0m\u001b[1;33m.\u001b[0m\u001b[0moptimizers\u001b[0m\u001b[1;33m.\u001b[0m\u001b[0mRMSprop\u001b[0m\u001b[1;33m(\u001b[0m\u001b[0mlearning_rate\u001b[0m\u001b[1;33m=\u001b[0m\u001b[1;36m0.001\u001b[0m\u001b[1;33m)\u001b[0m\u001b[1;33m\u001b[0m\u001b[1;33m\u001b[0m\u001b[0m\n\u001b[0;32m      4\u001b[0m \u001b[0matt_rnn\u001b[0m\u001b[1;33m.\u001b[0m\u001b[0mcompile_model\u001b[0m\u001b[1;33m(\u001b[0m\u001b[0moptimizer\u001b[0m\u001b[1;33m=\u001b[0m\u001b[0mopt\u001b[0m\u001b[1;33m,\u001b[0m \u001b[0mloss\u001b[0m\u001b[1;33m=\u001b[0m\u001b[1;34m'sparse_categorical_crossentropy'\u001b[0m\u001b[1;33m,\u001b[0m \u001b[0mmetrics\u001b[0m\u001b[1;33m=\u001b[0m\u001b[1;33m[\u001b[0m\u001b[1;34m'accuracy'\u001b[0m\u001b[1;33m]\u001b[0m\u001b[1;33m)\u001b[0m\u001b[1;33m\u001b[0m\u001b[1;33m\u001b[0m\u001b[0m\n\u001b[0;32m      5\u001b[0m \u001b[0matt_rnn\u001b[0m\u001b[1;33m.\u001b[0m\u001b[0mfit\u001b[0m\u001b[1;33m(\u001b[0m\u001b[0mdm\u001b[0m\u001b[1;33m.\u001b[0m\u001b[0mtf_train_set\u001b[0m\u001b[1;33m.\u001b[0m\u001b[0mbatch\u001b[0m\u001b[1;33m(\u001b[0m\u001b[1;36m64\u001b[0m\u001b[1;33m)\u001b[0m\u001b[1;33m,\u001b[0m \u001b[0mepochs\u001b[0m\u001b[1;33m=\u001b[0m\u001b[1;36m20\u001b[0m\u001b[1;33m,\u001b[0m \u001b[0mvalidation_data\u001b[0m \u001b[1;33m=\u001b[0m \u001b[0mdm\u001b[0m\u001b[1;33m.\u001b[0m\u001b[0mtf_valid_set\u001b[0m\u001b[1;33m.\u001b[0m\u001b[0mbatch\u001b[0m\u001b[1;33m(\u001b[0m\u001b[1;36m64\u001b[0m\u001b[1;33m)\u001b[0m\u001b[1;33m)\u001b[0m\u001b[1;33m\u001b[0m\u001b[1;33m\u001b[0m\u001b[0m\n",
      "\u001b[1;32m<ipython-input-39-ed6c4c61a710>\u001b[0m in \u001b[0;36mbuild\u001b[1;34m(self)\u001b[0m\n\u001b[0;32m     66\u001b[0m             \u001b[0mh\u001b[0m\u001b[1;33m=\u001b[0m \u001b[0mself\u001b[0m\u001b[1;33m.\u001b[0m\u001b[0mget_layer\u001b[0m\u001b[1;33m(\u001b[0m\u001b[0mcell_type\u001b[0m \u001b[1;33m=\u001b[0m \u001b[0mcell\u001b[0m\u001b[1;33m,\u001b[0m \u001b[0mhidden_size\u001b[0m \u001b[1;33m=\u001b[0m \u001b[0mstate\u001b[0m\u001b[1;33m,\u001b[0m\u001b[0mreturn_sequences\u001b[0m\u001b[1;33m=\u001b[0m\u001b[1;32mTrue\u001b[0m\u001b[1;33m)\u001b[0m\u001b[1;33m(\u001b[0m\u001b[0mh\u001b[0m\u001b[1;33m)\u001b[0m\u001b[1;33m\u001b[0m\u001b[1;33m\u001b[0m\u001b[0m\n\u001b[0;32m     67\u001b[0m         \u001b[0mattention\u001b[0m \u001b[1;33m=\u001b[0m \u001b[0mMyAttention\u001b[0m\u001b[1;33m(\u001b[0m\u001b[1;33m)\u001b[0m\u001b[1;33m\u001b[0m\u001b[1;33m\u001b[0m\u001b[0m\n\u001b[1;32m---> 68\u001b[1;33m         \u001b[0mcv\u001b[0m\u001b[1;33m,\u001b[0m \u001b[0mw\u001b[0m \u001b[1;33m=\u001b[0m \u001b[0mattention\u001b[0m\u001b[1;33m(\u001b[0m\u001b[0mh\u001b[0m\u001b[1;33m,\u001b[0m\u001b[0mself\u001b[0m\u001b[1;33m.\u001b[0m\u001b[0mstate_sizes\u001b[0m\u001b[1;33m[\u001b[0m\u001b[1;33m-\u001b[0m\u001b[1;36m1\u001b[0m\u001b[1;33m]\u001b[0m\u001b[1;33m)\u001b[0m\u001b[1;33m\u001b[0m\u001b[1;33m\u001b[0m\u001b[0m\n\u001b[0m\u001b[0;32m     69\u001b[0m         \u001b[0mh\u001b[0m \u001b[1;33m=\u001b[0m \u001b[0mtf\u001b[0m\u001b[1;33m.\u001b[0m\u001b[0mexpand_dims\u001b[0m\u001b[1;33m(\u001b[0m\u001b[0mh\u001b[0m\u001b[1;33m,\u001b[0m \u001b[0maxis\u001b[0m\u001b[1;33m=\u001b[0m\u001b[1;36m1\u001b[0m\u001b[1;33m)\u001b[0m\u001b[1;33m\u001b[0m\u001b[1;33m\u001b[0m\u001b[0m\n\u001b[0;32m     70\u001b[0m         \u001b[0mh\u001b[0m \u001b[1;33m=\u001b[0m \u001b[0mtf\u001b[0m\u001b[1;33m.\u001b[0m\u001b[0mkeras\u001b[0m\u001b[1;33m.\u001b[0m\u001b[0mlayers\u001b[0m\u001b[1;33m.\u001b[0m\u001b[0mConcatenate\u001b[0m\u001b[1;33m(\u001b[0m\u001b[0maxis\u001b[0m \u001b[1;33m=\u001b[0m \u001b[1;36m1\u001b[0m\u001b[1;33m)\u001b[0m\u001b[1;33m(\u001b[0m\u001b[1;33m[\u001b[0m\u001b[0mh\u001b[0m\u001b[1;33m,\u001b[0m \u001b[0mcv\u001b[0m\u001b[1;33m]\u001b[0m\u001b[1;33m)\u001b[0m\u001b[1;33m\u001b[0m\u001b[1;33m\u001b[0m\u001b[0m\n",
      "\u001b[1;32mG:\\Anaconda3\\envs\\fit3181_v2\\lib\\site-packages\\keras\\utils\\traceback_utils.py\u001b[0m in \u001b[0;36merror_handler\u001b[1;34m(*args, **kwargs)\u001b[0m\n\u001b[0;32m     65\u001b[0m     \u001b[1;32mexcept\u001b[0m \u001b[0mException\u001b[0m \u001b[1;32mas\u001b[0m \u001b[0me\u001b[0m\u001b[1;33m:\u001b[0m  \u001b[1;31m# pylint: disable=broad-except\u001b[0m\u001b[1;33m\u001b[0m\u001b[1;33m\u001b[0m\u001b[0m\n\u001b[0;32m     66\u001b[0m       \u001b[0mfiltered_tb\u001b[0m \u001b[1;33m=\u001b[0m \u001b[0m_process_traceback_frames\u001b[0m\u001b[1;33m(\u001b[0m\u001b[0me\u001b[0m\u001b[1;33m.\u001b[0m\u001b[0m__traceback__\u001b[0m\u001b[1;33m)\u001b[0m\u001b[1;33m\u001b[0m\u001b[1;33m\u001b[0m\u001b[0m\n\u001b[1;32m---> 67\u001b[1;33m       \u001b[1;32mraise\u001b[0m \u001b[0me\u001b[0m\u001b[1;33m.\u001b[0m\u001b[0mwith_traceback\u001b[0m\u001b[1;33m(\u001b[0m\u001b[0mfiltered_tb\u001b[0m\u001b[1;33m)\u001b[0m \u001b[1;32mfrom\u001b[0m \u001b[1;32mNone\u001b[0m\u001b[1;33m\u001b[0m\u001b[1;33m\u001b[0m\u001b[0m\n\u001b[0m\u001b[0;32m     68\u001b[0m     \u001b[1;32mfinally\u001b[0m\u001b[1;33m:\u001b[0m\u001b[1;33m\u001b[0m\u001b[1;33m\u001b[0m\u001b[0m\n\u001b[0;32m     69\u001b[0m       \u001b[1;32mdel\u001b[0m \u001b[0mfiltered_tb\u001b[0m\u001b[1;33m\u001b[0m\u001b[1;33m\u001b[0m\u001b[0m\n",
      "\u001b[1;32m~\\AppData\\Local\\Temp\\__autograph_generated_filed9m0j7ww.py\u001b[0m in \u001b[0;36mtf__call\u001b[1;34m(self, all_states, last_state)\u001b[0m\n\u001b[0;32m      8\u001b[0m                 \u001b[0mdo_return\u001b[0m \u001b[1;33m=\u001b[0m \u001b[1;32mFalse\u001b[0m\u001b[1;33m\u001b[0m\u001b[1;33m\u001b[0m\u001b[0m\n\u001b[0;32m      9\u001b[0m                 \u001b[0mretval_\u001b[0m \u001b[1;33m=\u001b[0m \u001b[0mag__\u001b[0m\u001b[1;33m.\u001b[0m\u001b[0mUndefinedReturnValue\u001b[0m\u001b[1;33m(\u001b[0m\u001b[1;33m)\u001b[0m\u001b[1;33m\u001b[0m\u001b[1;33m\u001b[0m\u001b[0m\n\u001b[1;32m---> 10\u001b[1;33m                 \u001b[0mattention_score\u001b[0m \u001b[1;33m=\u001b[0m \u001b[0mag__\u001b[0m\u001b[1;33m.\u001b[0m\u001b[0mconverted_call\u001b[0m\u001b[1;33m(\u001b[0m\u001b[0mag__\u001b[0m\u001b[1;33m.\u001b[0m\u001b[0mld\u001b[0m\u001b[1;33m(\u001b[0m\u001b[0mself\u001b[0m\u001b[1;33m)\u001b[0m\u001b[1;33m.\u001b[0m\u001b[0mV\u001b[0m\u001b[1;33m,\u001b[0m \u001b[1;33m(\u001b[0m\u001b[0mag__\u001b[0m\u001b[1;33m.\u001b[0m\u001b[0mconverted_call\u001b[0m\u001b[1;33m(\u001b[0m\u001b[0mag__\u001b[0m\u001b[1;33m.\u001b[0m\u001b[0mld\u001b[0m\u001b[1;33m(\u001b[0m\u001b[0mtf\u001b[0m\u001b[1;33m)\u001b[0m\u001b[1;33m.\u001b[0m\u001b[0mkeras\u001b[0m\u001b[1;33m.\u001b[0m\u001b[0mactivations\u001b[0m\u001b[1;33m.\u001b[0m\u001b[0mtanh\u001b[0m\u001b[1;33m,\u001b[0m \u001b[1;33m(\u001b[0m\u001b[0mag__\u001b[0m\u001b[1;33m.\u001b[0m\u001b[0mconverted_call\u001b[0m\u001b[1;33m(\u001b[0m\u001b[0mag__\u001b[0m\u001b[1;33m.\u001b[0m\u001b[0mld\u001b[0m\u001b[1;33m(\u001b[0m\u001b[0mtf\u001b[0m\u001b[1;33m)\u001b[0m\u001b[1;33m.\u001b[0m\u001b[0mlinalg\u001b[0m\u001b[1;33m.\u001b[0m\u001b[0mmatmul\u001b[0m\u001b[1;33m,\u001b[0m \u001b[1;33m(\u001b[0m\u001b[0mag__\u001b[0m\u001b[1;33m.\u001b[0m\u001b[0mld\u001b[0m\u001b[1;33m(\u001b[0m\u001b[0mall_states\u001b[0m\u001b[1;33m)\u001b[0m\u001b[1;33m,\u001b[0m \u001b[0mag__\u001b[0m\u001b[1;33m.\u001b[0m\u001b[0mconverted_call\u001b[0m\u001b[1;33m(\u001b[0m\u001b[0mag__\u001b[0m\u001b[1;33m.\u001b[0m\u001b[0mld\u001b[0m\u001b[1;33m(\u001b[0m\u001b[0mself\u001b[0m\u001b[1;33m)\u001b[0m\u001b[1;33m.\u001b[0m\u001b[0mU\u001b[0m\u001b[1;33m,\u001b[0m \u001b[1;33m(\u001b[0m\u001b[0mag__\u001b[0m\u001b[1;33m.\u001b[0m\u001b[0mld\u001b[0m\u001b[1;33m(\u001b[0m\u001b[0mlast_state\u001b[0m\u001b[1;33m)\u001b[0m\u001b[1;33m,\u001b[0m\u001b[1;33m)\u001b[0m\u001b[1;33m,\u001b[0m \u001b[1;32mNone\u001b[0m\u001b[1;33m,\u001b[0m \u001b[0mfscope\u001b[0m\u001b[1;33m)\u001b[0m\u001b[1;33m)\u001b[0m\u001b[1;33m,\u001b[0m \u001b[1;32mNone\u001b[0m\u001b[1;33m,\u001b[0m \u001b[0mfscope\u001b[0m\u001b[1;33m)\u001b[0m\u001b[1;33m,\u001b[0m\u001b[1;33m)\u001b[0m\u001b[1;33m,\u001b[0m \u001b[1;32mNone\u001b[0m\u001b[1;33m,\u001b[0m \u001b[0mfscope\u001b[0m\u001b[1;33m)\u001b[0m\u001b[1;33m,\u001b[0m\u001b[1;33m)\u001b[0m\u001b[1;33m,\u001b[0m \u001b[1;32mNone\u001b[0m\u001b[1;33m,\u001b[0m \u001b[0mfscope\u001b[0m\u001b[1;33m)\u001b[0m\u001b[1;33m\u001b[0m\u001b[1;33m\u001b[0m\u001b[0m\n\u001b[0m\u001b[0;32m     11\u001b[0m                 \u001b[0mattention_weight\u001b[0m \u001b[1;33m=\u001b[0m \u001b[0mag__\u001b[0m\u001b[1;33m.\u001b[0m\u001b[0mconverted_call\u001b[0m\u001b[1;33m(\u001b[0m\u001b[0mag__\u001b[0m\u001b[1;33m.\u001b[0m\u001b[0mld\u001b[0m\u001b[1;33m(\u001b[0m\u001b[0mtf\u001b[0m\u001b[1;33m)\u001b[0m\u001b[1;33m.\u001b[0m\u001b[0mnn\u001b[0m\u001b[1;33m.\u001b[0m\u001b[0msoftmax\u001b[0m\u001b[1;33m,\u001b[0m \u001b[1;33m(\u001b[0m\u001b[0mag__\u001b[0m\u001b[1;33m.\u001b[0m\u001b[0mld\u001b[0m\u001b[1;33m(\u001b[0m\u001b[0mattention_score\u001b[0m\u001b[1;33m)\u001b[0m\u001b[1;33m,\u001b[0m\u001b[1;33m)\u001b[0m\u001b[1;33m,\u001b[0m \u001b[0mdict\u001b[0m\u001b[1;33m(\u001b[0m\u001b[0maxis\u001b[0m\u001b[1;33m=\u001b[0m\u001b[1;36m1\u001b[0m\u001b[1;33m)\u001b[0m\u001b[1;33m,\u001b[0m \u001b[0mfscope\u001b[0m\u001b[1;33m)\u001b[0m\u001b[1;33m\u001b[0m\u001b[1;33m\u001b[0m\u001b[0m\n\u001b[0;32m     12\u001b[0m                 \u001b[0mcontext\u001b[0m \u001b[1;33m=\u001b[0m \u001b[0mag__\u001b[0m\u001b[1;33m.\u001b[0m\u001b[0mconverted_call\u001b[0m\u001b[1;33m(\u001b[0m\u001b[0mag__\u001b[0m\u001b[1;33m.\u001b[0m\u001b[0mld\u001b[0m\u001b[1;33m(\u001b[0m\u001b[0mtf\u001b[0m\u001b[1;33m)\u001b[0m\u001b[1;33m.\u001b[0m\u001b[0mreduce_sum\u001b[0m\u001b[1;33m,\u001b[0m \u001b[1;33m(\u001b[0m\u001b[0mag__\u001b[0m\u001b[1;33m.\u001b[0m\u001b[0mconverted_call\u001b[0m\u001b[1;33m(\u001b[0m\u001b[0mag__\u001b[0m\u001b[1;33m.\u001b[0m\u001b[0mld\u001b[0m\u001b[1;33m(\u001b[0m\u001b[0mtf\u001b[0m\u001b[1;33m)\u001b[0m\u001b[1;33m.\u001b[0m\u001b[0mlinalg\u001b[0m\u001b[1;33m.\u001b[0m\u001b[0mmatmul\u001b[0m\u001b[1;33m,\u001b[0m \u001b[1;33m(\u001b[0m\u001b[0mag__\u001b[0m\u001b[1;33m.\u001b[0m\u001b[0mconverted_call\u001b[0m\u001b[1;33m(\u001b[0m\u001b[0mag__\u001b[0m\u001b[1;33m.\u001b[0m\u001b[0mld\u001b[0m\u001b[1;33m(\u001b[0m\u001b[0mtf\u001b[0m\u001b[1;33m)\u001b[0m\u001b[1;33m.\u001b[0m\u001b[0mtranspose\u001b[0m\u001b[1;33m,\u001b[0m \u001b[1;33m(\u001b[0m\u001b[0mag__\u001b[0m\u001b[1;33m.\u001b[0m\u001b[0mld\u001b[0m\u001b[1;33m(\u001b[0m\u001b[0mattention_weight\u001b[0m\u001b[1;33m)\u001b[0m\u001b[1;33m,\u001b[0m\u001b[1;33m)\u001b[0m\u001b[1;33m,\u001b[0m \u001b[0mdict\u001b[0m\u001b[1;33m(\u001b[0m\u001b[0mperm\u001b[0m\u001b[1;33m=\u001b[0m\u001b[1;33m[\u001b[0m\u001b[1;36m0\u001b[0m\u001b[1;33m,\u001b[0m \u001b[1;36m2\u001b[0m\u001b[1;33m,\u001b[0m \u001b[1;36m1\u001b[0m\u001b[1;33m]\u001b[0m\u001b[1;33m)\u001b[0m\u001b[1;33m,\u001b[0m \u001b[0mfscope\u001b[0m\u001b[1;33m)\u001b[0m\u001b[1;33m,\u001b[0m \u001b[0mag__\u001b[0m\u001b[1;33m.\u001b[0m\u001b[0mld\u001b[0m\u001b[1;33m(\u001b[0m\u001b[0mlast_state\u001b[0m\u001b[1;33m)\u001b[0m\u001b[1;33m)\u001b[0m\u001b[1;33m,\u001b[0m \u001b[1;32mNone\u001b[0m\u001b[1;33m,\u001b[0m \u001b[0mfscope\u001b[0m\u001b[1;33m)\u001b[0m\u001b[1;33m,\u001b[0m\u001b[1;33m)\u001b[0m\u001b[1;33m,\u001b[0m \u001b[0mdict\u001b[0m\u001b[1;33m(\u001b[0m\u001b[0maxis\u001b[0m\u001b[1;33m=\u001b[0m\u001b[1;36m1\u001b[0m\u001b[1;33m)\u001b[0m\u001b[1;33m,\u001b[0m \u001b[0mfscope\u001b[0m\u001b[1;33m)\u001b[0m\u001b[1;33m\u001b[0m\u001b[1;33m\u001b[0m\u001b[0m\n",
      "\u001b[1;31mValueError\u001b[0m: Exception encountered when calling layer \"my_attention_5\" (type MyAttention).\n\nin user code:\n\n    File \"<ipython-input-34-6bbfdfa74a5a>\", line 10, in call  *\n        attention_score = self.V(tf.keras.activations.tanh(tf.linalg.matmul(all_states,self.U(last_state))))\n    File \"G:\\Anaconda3\\envs\\fit3181_v2\\lib\\site-packages\\keras\\utils\\traceback_utils.py\", line 67, in error_handler  **\n        raise e.with_traceback(filtered_tb) from None\n    File \"G:\\Anaconda3\\envs\\fit3181_v2\\lib\\site-packages\\keras\\engine\\input_spec.py\", line 228, in assert_input_compatibility\n        raise ValueError(f'Input {input_index} of layer \"{layer_name}\" '\n\n    ValueError: Input 0 of layer \"dense_14\" is incompatible with the layer: expected min_ndim=2, found ndim=0. Full shape received: ()\n\n\nCall arguments received by layer \"my_attention_5\" (type MyAttention):\n  • all_states=tf.Tensor(shape=(None, None, 64), dtype=float32)\n  • last_state=64"
     ]
    }
   ],
   "source": [
    "att_rnn = Attention_RNN(cell_type = 'lstm', embed_size= 128, state_sizes= [128, 64], data_manager= dm )\n",
    "att_rnn.build()\n",
    "opt = tf.keras.optimizers.RMSprop(learning_rate=0.001)\n",
    "att_rnn.compile_model(optimizer=opt, loss='sparse_categorical_crossentropy', metrics=['accuracy'])\n",
    "att_rnn.fit(dm.tf_train_set.batch(64), epochs=20, validation_data = dm.tf_valid_set.batch(64))"
   ]
  },
  {
   "cell_type": "code",
   "execution_count": null,
   "metadata": {},
   "outputs": [],
   "source": []
  },
  {
   "cell_type": "markdown",
   "metadata": {},
   "source": [
    "### <span style=\"color:#0b486b\">5.5. Investigating the embedding vectors from the embedding matrix</span> ###\n",
    "\n",
    "<div style=\"text-align: right\"><span style=\"color:red; font-weight:bold\">[Total marks for this part: 10 points]<span></div>"
   ]
  },
  {
   "cell_type": "markdown",
   "metadata": {},
   "source": [
    "**As you know, the embedding matrix is a collection of embedding vectors, each is for one word. In this part, you will base on the cosine similarity of the embedding vectors for the words to find the top-k most relevant words for a given word.**\n",
    "\n",
    "**Good embeddings should have words close in meaning near each other by some similarity metrics. The similarity metric we'll use is the `consine` similarity, which is defined for two vector $\\mathbf{u}$ and $\\mathbf{v}$ as $\\cos(\\mathbf{u}, \\mathbf{v})=\\frac{\\mathbf{u} \\cdot \\mathbf{v}}{\\left\\Vert{\\mathbf{u}}\\right\\Vert\\left\\Vert{\\mathbf{v}}\\right\\Vert}$ where $\\cdot$ means dot product and $\\left\\Vert\\cdot\\right\\Vert$ means the $\\mathcal{L}_2$ norm.**"
   ]
  },
  {
   "cell_type": "code",
   "execution_count": 53,
   "metadata": {},
   "outputs": [],
   "source": [
    "def cosine_similarity(u,v):\n",
    "    return np.dot(u,v)/(np.linalg.norm(u)*np.linalg.norm(v))"
   ]
  },
  {
   "cell_type": "markdown",
   "metadata": {},
   "source": [
    "#### <span style=\"color:red\">**Question 5.5.1**</span> \n",
    "\n",
    "**You are required to write the code for the function `find_most_similar(word= None, k=5, model= None)`. As its name, this function returns the `top-k most relevant word` for a given word based on the cosine similarity of the embedding vectors.**\n",
    "\n",
    "<div style=\"text-align: right\"><span style=\"color:red\">[5 points]</span></div>"
   ]
  },
  {
   "cell_type": "code",
   "execution_count": 131,
   "metadata": {},
   "outputs": [],
   "source": [
    "def find_most_similar(word= None, k=5, model= None):\n",
    "     try:\n",
    "        model.build_embedding_matrix()\n",
    "        topkvector = []\n",
    "        topkwords = [] \n",
    "        topkword_vector = []\n",
    "        for i in range(len(model.embed_matrix) -1):\n",
    "            similarity = cosine_similarity(model.embed_matrix[i+1], get_word_vector(word, model.word2vect))\n",
    "            topkvector += [[i+1, similarity]]\n",
    "\n",
    "        for i in range(len(topkvector)):\n",
    "            min_index = i\n",
    "            for j in range(i + 1, len(topkvector)):\n",
    "                if topkvector[min_index][1] > topkvector[j][1]:\n",
    "                    min_index = j\n",
    "            topkvector[i],topkvector[min_index] = topkvector[min_index],topkvector[i]\n",
    "\n",
    "        for i in range(k):\n",
    "            topkwords += [dm.idx2word[topkvector[-i -2][0]]]\n",
    "\n",
    "        for i in range(len(topkwords)):\n",
    "            topkword_vector += [get_word_vector(topkwords[i], model.word2vect)]\n",
    "\n",
    "    return(topkwords,topkword_vector)\n",
    "\n",
    "     except: #word not in the vocabulary\n",
    "         print(\"Word is not in the dictionary!\")"
   ]
  },
  {
   "cell_type": "markdown",
   "metadata": {},
   "source": [
    "Here is the example of the above function. As you can observe, the result makes sense which demonstrates that we obtain a good model with the meaningful embedding matrix."
   ]
  },
  {
   "cell_type": "code",
   "execution_count": 132,
   "metadata": {},
   "outputs": [
    {
     "name": "stderr",
     "output_type": "stream",
     "text": [
      "<ipython-input-53-d98b88eee8be>:2: RuntimeWarning: invalid value encountered in double_scalars\n",
      "  return np.dot(u,v)/(np.linalg.norm(u)*np.linalg.norm(v))\n"
     ]
    },
    {
     "data": {
      "text/plain": [
       "(['germany',\n",
       "  'russia',\n",
       "  'republic',\n",
       "  'netherlands',\n",
       "  'italy',\n",
       "  'belgium',\n",
       "  'europe',\n",
       "  'soviet',\n",
       "  'turkey',\n",
       "  'malta'],\n",
       " [array([ 0.62089 ,  0.71051 ,  0.49581 ,  0.2182  ,  0.18127 , -0.92589 ,\n",
       "         -0.30954 , -0.15834 , -0.07074 , -0.084606,  0.6675  , -0.31942 ,\n",
       "         -0.66679 ,  0.96027 ,  0.14904 ,  0.4003  ,  0.6387  , -0.74965 ,\n",
       "         -0.98889 , -0.1133  ,  0.32911 ,  0.97882 ,  0.3331  ,  1.3617  ,\n",
       "         -0.14774 , -1.4021  ,  0.29626 ,  0.13054 ,  1.1928  ,  0.076387,\n",
       "         -0.7157  ,  0.13113 , -0.50277 , -0.37225 ,  0.61614 ,  0.29827 ,\n",
       "          0.88864 , -0.34603 , -0.86274 , -0.42865 , -0.50206 , -0.65342 ,\n",
       "          0.50815 ,  0.7233  , -0.12165 , -0.4388  ,  1.5427  ,  0.01085 ,\n",
       "          0.32925 , -0.50504 ,  0.42031 ,  0.2242  , -0.40981 ,  1.1989  ,\n",
       "         -0.88256 , -2.2866  , -0.20654 ,  0.01268 ,  0.91281 ,  0.21769 ,\n",
       "          1.2248  ,  0.0864  , -0.14858 ,  0.003622,  0.62902 ,  0.29895 ,\n",
       "         -0.79931 ,  1.2537  ,  0.16826 , -0.063013, -0.058029, -0.73259 ,\n",
       "         -0.53952 ,  0.16578 ,  0.47429 ,  0.48791 ,  0.099387, -0.68582 ,\n",
       "         -0.32279 ,  0.32005 ,  1.0429  ,  0.053037, -0.76444 ,  0.60452 ,\n",
       "         -1.0789  , -0.702   , -0.71156 ,  0.46185 , -0.09204 , -0.11692 ,\n",
       "          0.034927, -0.41649 ,  0.82345 ,  0.82755 , -0.22434 ,  0.25671 ,\n",
       "          0.12455 ,  0.24843 ,  0.71266 , -0.27483 ], dtype=float32),\n",
       "  array([ 0.21537  ,  0.71956  ,  1.7838   ,  1.2954   ,  0.3855   ,\n",
       "         -0.95089  , -0.50687  ,  0.1983   ,  0.49846  ,  0.48836  ,\n",
       "         -0.33489  ,  0.15423  ,  0.27274  ,  0.584    , -0.95451  ,\n",
       "          0.0045444, -0.10689  , -0.055543 , -1.0815   , -0.80234  ,\n",
       "         -0.28716  ,  0.5058   ,  0.31216  ,  1.4324   ,  0.086949 ,\n",
       "         -0.24743  , -0.30108  ,  0.93384  ,  1.2384   ,  0.49104  ,\n",
       "         -0.58364  ,  0.43755  , -0.27044  , -0.54864  ,  0.45196  ,\n",
       "         -0.081253 ,  0.89655  , -0.63379  , -0.48061  , -0.30181  ,\n",
       "         -0.34392  , -0.56492  ,  0.57867  , -0.31062  ,  0.33411  ,\n",
       "         -1.3443   ,  0.26834  , -0.14779  ,  0.3414   , -0.041143 ,\n",
       "          0.6044   ,  0.9563   , -0.49033  ,  1.4162   , -0.69663  ,\n",
       "         -2.5891   ,  0.63868  , -0.56812  ,  0.92935  ,  0.36016  ,\n",
       "          0.068139 , -0.21987  , -0.19911  ,  0.3116   ,  0.61931  ,\n",
       "          0.28717  , -0.13752  ,  0.92049  , -0.078935 ,  0.13852  ,\n",
       "          0.41515  , -0.85625  , -0.29718  ,  0.93587  ,  0.55803  ,\n",
       "         -0.38194  , -0.33197  ,  0.069565 , -1.1618   ,  0.28815  ,\n",
       "          1.3155   ,  0.23153  , -0.11452  ,  0.13757  , -0.92799  ,\n",
       "         -0.3644   , -0.58971  ,  0.8882   , -0.086749 , -0.43443  ,\n",
       "          0.56089  , -0.099751 , -0.027722 , -0.32507  , -1.2613   ,\n",
       "          0.27654  , -0.65593  , -0.055483 , -0.19322  ,  0.19661  ],\n",
       "        dtype=float32),\n",
       "  array([-0.31956  ,  0.081897 ,  0.8291   ,  0.67002  ,  0.47791  ,\n",
       "          0.77897  , -0.23687  ,  0.23691  ,  0.10656  ,  0.39857  ,\n",
       "         -0.30913  , -0.37444  ,  0.1198   ,  0.65174  , -1.0216   ,\n",
       "         -0.26557  ,  1.4499   , -0.15571  , -0.57365  , -0.53491  ,\n",
       "          0.18051  ,  0.53244  ,  0.73837  ,  1.2297   ,  0.073078 ,\n",
       "         -0.39056  ,  0.59768  ,  0.074489 ,  0.61239  , -0.33218  ,\n",
       "         -0.13636  ,  0.18102  ,  0.16763  , -0.59527  ,  0.45848  ,\n",
       "         -0.93135  ,  1.3366   , -0.1705   , -0.60601  , -1.0114   ,\n",
       "         -0.75144  , -0.004517 ,  0.76334  , -0.34819  ,  0.37721  ,\n",
       "         -0.64554  ,  0.64656  , -0.36044  ,  0.43592  , -0.14803  ,\n",
       "         -0.14303  ,  0.84596  , -0.39071  ,  0.74172  , -0.0083105,\n",
       "         -1.8923   ,  0.083156 ,  0.2867   ,  1.7581   ,  0.67514  ,\n",
       "         -0.025401 ,  0.13834  , -0.47358  , -0.18807  ,  0.47885  ,\n",
       "          0.066937 , -0.46694  ,  0.87715  ,  0.080933 ,  0.55549  ,\n",
       "          0.50967  , -0.45633  , -0.40032  ,  0.023728 ,  0.89458  ,\n",
       "          0.12262  , -0.10292  ,  0.46299  , -1.3198   ,  0.36394  ,\n",
       "          0.25413  ,  0.14847  , -0.10071  , -0.30684  ,  0.16669  ,\n",
       "          0.19522  , -0.18727  ,  0.83741  ,  0.44769  , -0.69718  ,\n",
       "          0.091239 ,  0.37017  , -0.10087  ,  0.72913  , -1.5544   ,\n",
       "          0.41098  , -0.55976  , -0.45533  , -0.47528  , -0.67243  ],\n",
       "        dtype=float32),\n",
       "  array([ 0.14464  ,  0.12089  ,  0.0020367,  0.12208  ,  0.6388   ,\n",
       "          0.13722  , -0.15751  ,  0.091173 , -0.071978 , -0.58245  ,\n",
       "          0.54374  , -0.33128  , -0.99101  ,  1.1192   ,  0.010588 ,\n",
       "         -0.22382  ,  0.38583  , -0.54716  , -0.24095  ,  0.12014  ,\n",
       "          0.36964  ,  0.61298  ,  0.9307   ,  0.65309  ,  0.10613  ,\n",
       "         -1.0751   ,  0.72401  , -0.23878  ,  0.53643  , -0.40799  ,\n",
       "         -0.92598  , -0.31381  , -0.32348  ,  0.060875 ,  0.82532  ,\n",
       "         -0.67149  ,  0.69681  ,  0.22233  , -0.80894  , -1.3078   ,\n",
       "         -0.50667  , -0.78268  ,  0.22021  , -0.49767  ,  0.37408  ,\n",
       "         -0.058757 ,  1.0381   , -0.48507  ,  0.20522  , -0.62571  ,\n",
       "          0.42793  ,  0.33466  , -0.463    ,  0.51192  , -0.93003  ,\n",
       "         -1.2412   , -0.73842  , -0.054543 ,  0.77519  ,  0.40115  ,\n",
       "          0.68115  ,  0.012457 , -0.035028 , -0.49618  ,  0.32981  ,\n",
       "          0.62172  , -1.3159   ,  1.3551   , -0.26124  ,  0.37351  ,\n",
       "          0.50563  , -0.45003  , -0.013351 ,  0.11277  ,  0.37526  ,\n",
       "         -0.15921  , -0.45011  , -0.59672  , -0.11573  ,  0.23352  ,\n",
       "          1.1076   , -0.25708  ,  0.35388  ,  0.50773  , -0.41743  ,\n",
       "         -0.44393  , -0.34025  ,  0.32139  , -0.11593  ,  0.26449  ,\n",
       "         -0.030208 , -0.18326  ,  0.82047  ,  0.57827  , -0.05432  ,\n",
       "          0.63866  , -0.65     ,  0.16785  ,  0.50367  , -1.073    ],\n",
       "        dtype=float32),\n",
       "  array([ 0.49654 , -0.10442 ,  0.4443  ,  0.50275 , -0.023323,  0.13482 ,\n",
       "         -0.20139 ,  0.36966 , -0.25451 ,  0.34228 ,  0.9152  , -0.49452 ,\n",
       "         -0.9644  ,  0.61792 , -0.52774 , -0.015359,  0.67644 , -0.93268 ,\n",
       "         -0.84522 ,  0.57194 , -0.076681,  0.7369  ,  0.57276 ,  1.1469  ,\n",
       "         -0.14779 , -1.1035  ,  0.27701 ,  0.16373 ,  0.46624 , -0.73481 ,\n",
       "         -0.62934 , -0.19403 , -0.19497 , -0.21308 ,  0.61813 ,  0.24423 ,\n",
       "          1.0047  , -0.25292 , -0.39378 , -0.43511 , -0.72648 , -0.54995 ,\n",
       "          1.2234  , -0.58175 ,  0.55774 , -0.21793 ,  0.97747 , -0.19715 ,\n",
       "          0.69001 ,  0.032333,  0.43628 ,  0.98174 , -0.58334 ,  1.0221  ,\n",
       "         -0.86996 , -2.4023  , -0.78882 ,  0.399   ,  0.89965 ,  0.49407 ,\n",
       "          0.019445,  0.62528 ,  0.26784 , -0.38754 ,  0.23343 ,  0.29677 ,\n",
       "         -1.0096  ,  0.25088 ,  0.30462 , -0.19637 ,  0.55367 , -0.031372,\n",
       "         -0.31111 ,  0.44332 ,  0.87999 , -0.23344 , -1.2125  , -0.0348  ,\n",
       "         -0.095157,  0.089376,  0.72886 , -0.56908 , -0.6065  ,  0.45307 ,\n",
       "         -0.25361 , -0.91525 , -0.96059 ,  0.97843 , -0.53612 , -0.73779 ,\n",
       "         -0.24567 , -0.44865 ,  0.67259 ,  0.082787, -0.17112 ,  0.26177 ,\n",
       "         -0.54829 ,  0.025906,  0.66964 , -0.21718 ], dtype=float32),\n",
       "  array([-0.044074 , -0.14901  ,  0.40977  ,  0.63774  ,  0.43696  ,\n",
       "          0.31772  , -0.05009  ,  0.19955  ,  0.16643  , -0.68914  ,\n",
       "         -0.12784  ,  0.20807  , -1.1557   ,  1.3066   , -0.36193  ,\n",
       "          0.38425  ,  0.055814 , -0.78386  , -0.481    ,  0.22956  ,\n",
       "          0.12915  ,  1.1354   ,  0.90989  ,  0.52374  ,  0.33345  ,\n",
       "         -1.1558   ,  0.67957  , -0.059503 ,  0.93921  , -0.1429   ,\n",
       "         -0.6582   , -0.13363  ,  0.24937  , -0.53669  ,  0.59259  ,\n",
       "         -0.088376 ,  0.80119  ,  0.051236 , -1.0412   , -0.66715  ,\n",
       "          0.13634  , -0.63222  ,  0.19371  , -0.50875  , -0.0027689,\n",
       "          0.21592  ,  0.60954  , -0.16796  ,  0.42195  , -0.45697  ,\n",
       "         -0.017327 ,  0.34226  , -0.96615  ,  0.59076  , -1.1272   ,\n",
       "         -1.3831   , -0.70252  ,  0.12623  ,  0.50598  ,  0.31782  ,\n",
       "          0.87577  , -0.49433  ,  0.17676  ,  0.10202  ,  0.61861  ,\n",
       "          0.26196  , -1.409    ,  0.8257   ,  0.12442  ,  0.52039  ,\n",
       "          0.0018341, -0.47475  , -0.95876  ,  0.2363   ,  0.46429  ,\n",
       "          0.60915  ,  0.10815  , -0.41371  , -0.62135  ,  0.57098  ,\n",
       "          0.74427  , -0.63778  ,  0.19595  ,  0.36515  , -0.8898   ,\n",
       "         -0.10027  , -0.14077  ,  0.64077  , -0.53779  ,  0.35761  ,\n",
       "         -0.14636  , -0.037247 ,  0.10086  ,  0.56634  , -0.40782  ,\n",
       "          0.76067  , -0.53861  , -0.21818  ,  0.22369  , -0.51934  ],\n",
       "        dtype=float32),\n",
       "  array([ 0.1716   ,  0.59701  ,  0.99573  ,  0.3204   ,  0.54379  ,\n",
       "         -0.81303  , -0.10899  , -0.34565  , -0.044718 , -0.28602  ,\n",
       "         -0.26657  , -0.52722  ,  0.068888 ,  0.58706  , -0.3194   ,\n",
       "         -0.2323   ,  0.17679  , -0.46239  , -0.49283  , -0.28215  ,\n",
       "          0.1884   ,  0.69225  ,  0.39595  ,  0.2908   ,  0.49901  ,\n",
       "         -0.71055  ,  0.1663   ,  0.12893  ,  0.87984  ,  0.37068  ,\n",
       "         -0.083093 ,  0.15774  , -0.56436  , -0.30703  ,  0.63337  ,\n",
       "          0.72584  ,  0.56059  , -0.1834   , -0.58733  , -0.39872  ,\n",
       "         -0.82415  , -0.47707  ,  0.053539 ,  0.18111  ,  0.13749  ,\n",
       "         -0.1043   ,  1.1305   , -0.20734  ,  0.039844 , -0.79492  ,\n",
       "          0.27418  ,  0.84964  , -0.72535  ,  0.9569   , -0.5678   ,\n",
       "         -2.4733   , -0.32247  , -0.022719 ,  1.4212   ,  0.43486  ,\n",
       "          0.34821  ,  0.73309  , -0.1529   , -0.40833  ,  0.51131  ,\n",
       "          0.17444  , -0.84953  ,  0.07497  ,  0.82071  , -0.49665  ,\n",
       "          0.37515  , -0.64913  , -0.6067   , -0.082402 ,  0.065235 ,\n",
       "         -0.77087  , -0.10649  , -0.079967 , -0.79376  ,  0.26112  ,\n",
       "          0.96459  ,  0.0202   , -0.33459  ,  0.77335  , -0.97682  ,\n",
       "         -0.41577  , -0.65568  , -0.41007  , -0.24422  ,  0.078462 ,\n",
       "         -0.0031212, -0.025235 ,  0.5387   , -0.26968  , -0.47216  ,\n",
       "          0.28467  , -0.14576  ,  0.13809  ,  0.51239  ,  0.59928  ],\n",
       "        dtype=float32),\n",
       "  array([ 0.35476  ,  0.79505  ,  0.97291  ,  1.0235   , -0.14288  ,\n",
       "         -0.54452  , -0.34186  , -1.2719   ,  0.036096 ,  1.1256   ,\n",
       "          0.092971 , -0.39009  ,  0.35086  ,  0.44129  , -0.41341  ,\n",
       "          0.03378  ,  1.1178   , -0.56882  , -0.55902  , -1.3306   ,\n",
       "         -0.16414  ,  0.9153   ,  0.3139   ,  0.49842  , -0.10304  ,\n",
       "         -1.0136   , -0.6609   ,  0.50422  ,  1.6985   ,  0.48352  ,\n",
       "          0.2828   ,  0.81341  , -0.56003  , -1.0075   , -0.061342 ,\n",
       "         -0.35099  ,  1.1544   , -0.21851  , -0.54452  , -0.42238  ,\n",
       "         -0.56915  , -0.1881   ,  0.24009  ,  0.52849  ,  0.98759  ,\n",
       "         -0.88521  ,  0.94212  ,  0.059499 , -0.034186 ,  0.38097  ,\n",
       "          0.13459  ,  0.35301  , -0.043223 ,  1.4835   ,  0.20321  ,\n",
       "         -1.3745   ,  0.17626  ,  0.17549  ,  1.6938   ,  0.5297   ,\n",
       "         -0.18432  ,  0.77441  , -0.22552  ,  0.43426  ,  0.91668  ,\n",
       "         -0.25917  , -0.19855  , -0.099494 , -0.1471   ,  0.72128  ,\n",
       "          0.57079  , -0.69261  , -0.29106  ,  0.9865   , -0.36377  ,\n",
       "          0.012289 , -0.20166  ,  0.72215  , -1.0233   ,  0.2482   ,\n",
       "          0.95203  ,  0.52603  ,  0.40277  ,  0.15955  , -1.0656   ,\n",
       "          0.47126  ,  0.0033129,  0.22468  ,  0.16032  , -0.35261  ,\n",
       "          0.62481  , -0.11929  , -0.079388 ,  0.61147  , -0.72249  ,\n",
       "         -0.90912  , -0.66685  ,  0.34845  , -0.97933  ,  0.023373 ],\n",
       "        dtype=float32),\n",
       "  array([-0.24425 ,  0.48891 ,  0.21577 ,  0.22411 ,  0.21411 , -0.36775 ,\n",
       "         -0.5659  ,  0.053216,  0.94473 ,  0.39854 , -0.58216 , -0.31075 ,\n",
       "          0.72159 ,  0.93014 , -0.56153 ,  0.52158 , -0.50434 , -1.0217  ,\n",
       "         -0.6709  ,  0.2196  , -0.47775 ,  0.6544  ,  0.40796 ,  0.43555 ,\n",
       "          0.099819,  0.07445 , -0.20078 ,  0.2819  ,  0.50724 ,  0.18707 ,\n",
       "         -0.82068 ,  0.84039 ,  0.1403  ,  0.26525 ,  0.72223 ,  0.091713,\n",
       "          0.78837 ,  0.40478 , -0.82351 , -0.93273 , -0.48776 , -0.64086 ,\n",
       "          0.83982 , -0.62855 ,  0.59114 , -0.45684 ,  0.86029 , -0.36489 ,\n",
       "         -0.062281, -0.15271 ,  0.6221  ,  0.59275 ,  0.17189 ,  1.6122  ,\n",
       "         -1.3215  , -1.6568  ,  0.45174 , -0.43887 ,  1.3041  ,  0.11109 ,\n",
       "          0.25542 ,  0.31209 ,  0.44572 , -0.4058  ,  0.58896 ,  0.91005 ,\n",
       "         -1.3459  ,  0.61251 , -0.70105 , -0.025457,  0.42556 , -0.65736 ,\n",
       "          0.16655 ,  0.38639 ,  0.10819 ,  0.40066 , -0.85756 ,  0.15946 ,\n",
       "         -0.56611 ,  1.07    ,  0.96847 , -0.19435 , -0.29941 , -0.13351 ,\n",
       "          0.11307 ,  0.013308, -0.53896 ,  0.92844 , -0.17331 , -0.085815,\n",
       "          0.25739 ,  0.29109 , -0.85019 , -0.2888  , -1.3975  ,  0.22019 ,\n",
       "         -0.090007,  0.31967 ,  0.65665 ,  0.11571 ], dtype=float32),\n",
       "  array([-1.1732e+00, -3.2203e-01, -8.4086e-02,  3.3035e-02,  9.6469e-02,\n",
       "          2.2193e-01, -2.4901e-01,  2.8950e-01,  2.9739e-01, -1.8479e-01,\n",
       "         -2.2311e-01, -3.8137e-01, -4.6657e-01,  1.1397e+00, -3.4670e-02,\n",
       "         -6.8347e-01,  8.1657e-01, -5.8942e-01, -1.3853e-01,  8.0745e-01,\n",
       "         -5.0970e-01,  2.7663e-01,  4.4571e-01,  7.9483e-01,  3.2291e-01,\n",
       "         -1.0883e+00, -1.5230e-01, -9.6435e-02,  7.9478e-01, -5.0224e-01,\n",
       "         -5.2802e-01,  6.3509e-02, -2.1209e-01,  4.3035e-01,  6.9914e-01,\n",
       "         -1.6920e-01,  8.2566e-01,  4.1271e-01, -3.0961e-01, -1.0509e+00,\n",
       "         -7.0032e-01, -4.3396e-01,  9.5542e-01,  1.4735e-02, -3.4358e-01,\n",
       "         -1.6944e-01,  9.9778e-01,  1.2266e-01,  3.7017e-01,  4.8785e-01,\n",
       "          1.0265e-01,  8.1315e-01, -7.3261e-02,  6.3258e-01, -1.4154e+00,\n",
       "         -8.7657e-01, -5.5750e-02, -2.0187e-01,  4.7733e-01,  5.4548e-01,\n",
       "         -5.6794e-01, -1.3067e-01, -4.9279e-01,  1.6125e-02, -3.3662e-01,\n",
       "          5.7142e-01, -1.4409e+00,  1.5399e-01,  2.4784e-01,  1.7959e-01,\n",
       "          2.5174e-01, -8.2265e-01,  4.2641e-01,  4.6696e-02,  6.2452e-02,\n",
       "          3.5710e-01, -1.7081e-01, -2.4270e-01, -3.4959e-01,  3.5086e-01,\n",
       "          1.8888e-01,  4.3781e-01,  2.8670e-01,  5.7754e-01,  6.1525e-01,\n",
       "         -5.3957e-01,  1.0828e-01,  2.0391e-01,  1.5028e-01,  3.1181e-02,\n",
       "         -3.6483e-01,  1.3816e-03,  4.6184e-01,  2.6922e-01, -1.0153e-01,\n",
       "          1.7146e-01, -3.2154e-01,  5.2718e-01,  3.1658e-02, -4.8838e-01],\n",
       "        dtype=float32)])"
      ]
     },
     "execution_count": 132,
     "metadata": {},
     "output_type": "execute_result"
    }
   ],
   "source": [
    "find_most_similar(word='poland', k=10, model= my_best_rnn)"
   ]
  },
  {
   "cell_type": "markdown",
   "metadata": {},
   "source": [
    "#### <span style=\"color:red\">**Question 5.5.2**</span> \n",
    "​\n",
    "**You are required to write the code for the function `plot3D_with_labels(word= None, model= None, k= 10)`. As its name, this function visualizes the `top-k most relevant word` for a given word based on the cosine similarity of the embedding vectors by using tSNE to project the embedding vectors to a 3D space.**\n",
    "​\n",
    "\n",
    "<img src=\"./images/3D_plots.png\" align=\"center\" width=600/>\n",
    "<div style=\"text-align: right\"><span style=\"color:red\">[5 points]</span></div>"
   ]
  },
  {
   "cell_type": "code",
   "execution_count": 133,
   "metadata": {},
   "outputs": [],
   "source": [
    "from mpl_toolkits.mplot3d import Axes3D\n",
    "from sklearn.manifold import TSNE\n",
    "tsne = TSNE(perplexity=10, n_components=3, init='pca', n_iter=5000)\n",
    "def plot3D_with_labels(word= None, model= None, k= 10):\n",
    "    \n",
    "    word_labels,word_vects = find_most_similar(word = word, k=  k, model = model)\n",
    "    low_dim_embs = tsne.fit_transform(np.array(word_vects))\n",
    "    \n",
    "    fig = plt.figure(figsize=(20, 20))\n",
    "    ax = fig.add_subplot(111, projection='3d')\n",
    "    for i in range(len(word_labels)):\n",
    "        label= word_labels[i]\n",
    "        x,y,z =  low_dim_embs[i,:]\n",
    "        ax.scatter(x, y, z)\n",
    "        ax.text(x, y, z, label)\n",
    "    ax.set_xlabel('dim-one')\n",
    "    ax.set_ylabel('dim-two')\n",
    "    ax.set_zlabel('dim-three')\n",
    "    plt.show()\n",
    "    \n",
    "    "
   ]
  },
  {
   "cell_type": "code",
   "execution_count": 134,
   "metadata": {},
   "outputs": [
    {
     "name": "stderr",
     "output_type": "stream",
     "text": [
      "<ipython-input-53-d98b88eee8be>:2: RuntimeWarning: invalid value encountered in double_scalars\n",
      "  return np.dot(u,v)/(np.linalg.norm(u)*np.linalg.norm(v))\n",
      "G:\\Anaconda3\\envs\\fit3181_v2\\lib\\site-packages\\sklearn\\manifold\\_t_sne.py:810: FutureWarning: The default learning rate in TSNE will change from 200.0 to 'auto' in 1.2.\n",
      "  warnings.warn(\n",
      "G:\\Anaconda3\\envs\\fit3181_v2\\lib\\site-packages\\sklearn\\manifold\\_t_sne.py:996: FutureWarning: The PCA initialization in TSNE will change to have the standard deviation of PC1 equal to 1e-4 in 1.2. This will ensure better convergence.\n",
      "  warnings.warn(\n"
     ]
    },
    {
     "data": {
      "image/png": "[encoded data removed]",
      "text/plain": [
       "<Figure size 1440x1440 with 1 Axes>"
      ]
     },
     "metadata": {
      "needs_background": "light"
     },
     "output_type": "display_data"
    }
   ],
   "source": [
    "plot3D_with_labels(word='poland', k=20, model= my_best_rnn)"
   ]
  },
  {
   "cell_type": "markdown",
   "metadata": {},
   "source": [
    "--- \n",
    "<div style=\"text-align: center\"> <span style=\"color:green\">GOOD LUCK WITH YOUR ASSIGNMENT 2!</span> </div>\n",
    "<div style=\"text-align: center\"> <span style=\"color:black\">END OF ASSIGNMENT</span> </div>"
   ]
  }
 ],
 "metadata": {
  "kernelspec": {
   "display_name": "Python 3 (ipykernel)",
   "language": "python",
   "name": "python3"
  },
  "language_info": {
   "codemirror_mode": {
    "name": "ipython",
    "version": 3
   },
   "file_extension": ".py",
   "mimetype": "text/x-python",
   "name": "python",
   "nbconvert_exporter": "python",
   "pygments_lexer": "ipython3",
   "version": "3.9.13"
  }
 },
 "nbformat": 4,
 "nbformat_minor": 4
}
